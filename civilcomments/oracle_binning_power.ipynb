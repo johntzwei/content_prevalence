{
 "cells": [
  {
   "cell_type": "code",
   "execution_count": 1,
   "id": "de6302fb",
   "metadata": {},
   "outputs": [],
   "source": [
    "import numpy as np\n",
    "import pandas as pd\n",
    "import seaborn as sns\n",
    "from scipy import stats\n",
    "import datasets\n",
    "from tqdm.notebook import tqdm\n",
    "\n",
    "import utils"
   ]
  },
  {
   "cell_type": "code",
   "execution_count": 2,
   "id": "a6c79ce9",
   "metadata": {},
   "outputs": [
    {
     "name": "stderr",
     "output_type": "stream",
     "text": [
      "Found cached dataset civil_comments (/home/johnny/.cache/huggingface/datasets/civil_comments/default/0.9.0/e7a3aacd2ab7d135fa958e7209d10b1fa03807d44c486e3c34897aa08ea8ffab)\n"
     ]
    },
    {
     "data": {
      "application/vnd.jupyter.widget-view+json": {
       "model_id": "f2d242e91cd54b8ca7b57535547f0e5e",
       "version_major": 2,
       "version_minor": 0
      },
      "text/plain": [
       "  0%|          | 0/3 [00:00<?, ?it/s]"
      ]
     },
     "metadata": {},
     "output_type": "display_data"
    }
   ],
   "source": [
    "train_ds, valid_ds, test_ds = utils.load_dataset()"
   ]
  },
  {
   "cell_type": "code",
   "execution_count": 3,
   "id": "75f0eaa2",
   "metadata": {},
   "outputs": [],
   "source": [
    "score_npy = 'scores/ngram.npy'\n",
    "score_column = 'scores'\n",
    "\n",
    "bins = 5\n",
    "cut = 'quantile'\n",
    "allocation = 'pilot'"
   ]
  },
  {
   "cell_type": "code",
   "execution_count": 4,
   "id": "5afea81e",
   "metadata": {},
   "outputs": [],
   "source": [
    "labels = test_ds['toxicity']\n",
    "scores = np.load(score_npy)\n",
    "df = pd.DataFrame(data={'toxicity' : labels, 'toxic' : test_ds['label'], 'scores' : scores})"
   ]
  },
  {
   "cell_type": "code",
   "execution_count": 5,
   "id": "ea135fa4",
   "metadata": {},
   "outputs": [
    {
     "data": {
      "text/html": [
       "<div>\n",
       "<style scoped>\n",
       "    .dataframe tbody tr th:only-of-type {\n",
       "        vertical-align: middle;\n",
       "    }\n",
       "\n",
       "    .dataframe tbody tr th {\n",
       "        vertical-align: top;\n",
       "    }\n",
       "\n",
       "    .dataframe thead th {\n",
       "        text-align: right;\n",
       "    }\n",
       "</style>\n",
       "<table border=\"1\" class=\"dataframe\">\n",
       "  <thead>\n",
       "    <tr style=\"text-align: right;\">\n",
       "      <th></th>\n",
       "      <th>toxicity</th>\n",
       "      <th>toxic</th>\n",
       "      <th>scores</th>\n",
       "    </tr>\n",
       "  </thead>\n",
       "  <tbody>\n",
       "    <tr>\n",
       "      <th>0</th>\n",
       "      <td>0.0</td>\n",
       "      <td>0</td>\n",
       "      <td>0.017794</td>\n",
       "    </tr>\n",
       "  </tbody>\n",
       "</table>\n",
       "</div>"
      ],
      "text/plain": [
       "   toxicity  toxic    scores\n",
       "0       0.0      0  0.017794"
      ]
     },
     "execution_count": 5,
     "metadata": {},
     "output_type": "execute_result"
    }
   ],
   "source": [
    "df.head(1)"
   ]
  },
  {
   "cell_type": "code",
   "execution_count": 6,
   "id": "4769fb03",
   "metadata": {},
   "outputs": [
    {
     "data": {
      "text/plain": [
       "(106438, 0.05897253769515213)"
      ]
     },
     "execution_count": 6,
     "metadata": {},
     "output_type": "execute_result"
    }
   ],
   "source": [
    "df['toxic'].sum(), df['toxic'].mean()"
   ]
  },
  {
   "cell_type": "code",
   "execution_count": 7,
   "id": "18e8b7c9",
   "metadata": {},
   "outputs": [],
   "source": [
    "size = 1000"
   ]
  },
  {
   "cell_type": "code",
   "execution_count": 8,
   "id": "35fde490",
   "metadata": {},
   "outputs": [
    {
     "data": {
      "text/plain": [
       "0.007449481692906291"
      ]
     },
     "execution_count": 8,
     "metadata": {},
     "output_type": "execute_result"
    }
   ],
   "source": [
    "p = df['toxic'].mean()\n",
    "random_sampling_var = p * (1 - p)\n",
    "np.sqrt(random_sampling_var / size)"
   ]
  },
  {
   "cell_type": "code",
   "execution_count": 9,
   "id": "3b224fb2",
   "metadata": {},
   "outputs": [],
   "source": [
    "def get_error(df):\n",
    "    sizes_sigmas = []\n",
    "    for i, group in df.groupby('bin'):\n",
    "        # to round up to 1\n",
    "        pilot = group['toxic']\n",
    "        sizes_sigmas.append((len(group), np.std(pilot)))\n",
    "\n",
    "    allocations = []\n",
    "    denominator = np.sum([ n_h * sigma_h for n_h, sigma_h in sizes_sigmas ])\n",
    "    for n_h, sigma_h in sizes_sigmas:\n",
    "        n_from_bin = size * n_h * sigma_h / denominator\n",
    "        allocations.append(n_from_bin)\n",
    "    \n",
    "    stratified_var = 0\n",
    "    for (i, group), n_from_bin in zip(df.groupby('bin'), allocations):\n",
    "\n",
    "        p = group['toxic'].mean()\n",
    "\n",
    "        # approximation when the groups are very large\n",
    "        stratified_var += np.square(len(group) / len(df)) * (group['toxic'].var() / n_from_bin)\n",
    "    return np.sqrt(stratified_var)"
   ]
  },
  {
   "cell_type": "markdown",
   "id": "1db15637",
   "metadata": {},
   "source": [
    "### Cutting"
   ]
  },
  {
   "cell_type": "code",
   "execution_count": 10,
   "id": "d208296c",
   "metadata": {},
   "outputs": [
    {
     "data": {
      "text/plain": [
       "0.005191869649127323"
      ]
     },
     "execution_count": 10,
     "metadata": {},
     "output_type": "execute_result"
    }
   ],
   "source": [
    "bins = 4\n",
    "score_column = 'scores'\n",
    "\n",
    "minimum, maximum = df[score_column].min(), df[score_column].max()\n",
    "\n",
    "# equal width\n",
    "# df['bin'] = pd.cut(df[score_column], np.linspace(minimum, maximum, num=bins+1), include_lowest=True)\n",
    "\n",
    "# quantile binning\n",
    "df['bin'] = pd.qcut(df[score_column], np.linspace(0, 1, num=bins+1))\n",
    "get_error(df)"
   ]
  },
  {
   "cell_type": "code",
   "execution_count": 11,
   "id": "b4fe84f7",
   "metadata": {},
   "outputs": [
    {
     "name": "stdout",
     "output_type": "stream",
     "text": [
      "0.1 1\n",
      "[0, 0.9099999999999999, 1]\n",
      "0.005314325225981284\n",
      "\n",
      "0.091 0.9099999999999999\n",
      "[0, 0.8281, 0.9099999999999999, 1]\n",
      "0.004928959762042162\n",
      "\n",
      "0.9189999999999999 1\n",
      "[0, 0.8281, 0.9099999999999999, 0.9919, 1]\n",
      "0.004836806652555329\n",
      "\n"
     ]
    }
   ],
   "source": [
    "minimum_bins = [0, 1]\n",
    "minimum_err = 1\n",
    "steps = 10\n",
    "\n",
    "# for 4\n",
    "indexes = [1, 1, 3]\n",
    "\n",
    "for idx in indexes:\n",
    "    bins = minimum_bins\n",
    "    bins.insert(idx, 0)\n",
    "    lb, ub = bins[idx-1], bins[idx+1]\n",
    "    \n",
    "    print(lb + (ub-lb)/steps, ub)\n",
    "    \n",
    "    for i in np.linspace( lb + (ub-lb)/steps, ub, steps, endpoint=False):\n",
    "        bins[idx] = i\n",
    "        df['bin'] = pd.qcut(df[score_column], bins)\n",
    "        new_err = get_error(df)\n",
    "        if new_err < minimum_err:\n",
    "            minimum_err = new_err\n",
    "            minimum_bins = bins\n",
    "            \n",
    "    print(bins)       \n",
    "    print(new_err)\n",
    "    print()"
   ]
  },
  {
   "cell_type": "code",
   "execution_count": 12,
   "id": "f3ff28ad",
   "metadata": {},
   "outputs": [
    {
     "data": {
      "text/plain": [
       "([0, 0.8281, 0.9099999999999999, 0.9919, 1], 0.004776722309714379)"
      ]
     },
     "execution_count": 12,
     "metadata": {},
     "output_type": "execute_result"
    }
   ],
   "source": [
    "minimum_bins, minimum_err"
   ]
  },
  {
   "cell_type": "code",
   "execution_count": 13,
   "id": "dd707f4a",
   "metadata": {},
   "outputs": [
    {
     "name": "stdout",
     "output_type": "stream",
     "text": [
      "0.05897253769515213 "
     ]
    },
    {
     "ename": "NameError",
     "evalue": "name 'numerator' is not defined",
     "output_type": "error",
     "traceback": [
      "\u001b[0;31m---------------------------------------------------------------------------\u001b[0m",
      "\u001b[0;31mNameError\u001b[0m                                 Traceback (most recent call last)",
      "Cell \u001b[0;32mIn [13], line 11\u001b[0m\n\u001b[1;32m      8\u001b[0m z_statistic \u001b[38;5;241m=\u001b[39m stats\u001b[38;5;241m.\u001b[39mnorm\u001b[38;5;241m.\u001b[39mppf(\u001b[38;5;241m1\u001b[39m \u001b[38;5;241m-\u001b[39m (alpha \u001b[38;5;241m/\u001b[39m \u001b[38;5;241m2\u001b[39m))\n\u001b[1;32m      9\u001b[0m desired_var \u001b[38;5;241m=\u001b[39m np\u001b[38;5;241m.\u001b[39msquare(desired_ci \u001b[38;5;241m/\u001b[39m z_statistic)\n\u001b[0;32m---> 11\u001b[0m minimum \u001b[38;5;241m=\u001b[39m \u001b[43mnumerator\u001b[49m \u001b[38;5;241m/\u001b[39m desired_var\n\u001b[1;32m     12\u001b[0m n \u001b[38;5;241m=\u001b[39m np\u001b[38;5;241m.\u001b[39msum([minimum \u001b[38;5;241m*\u001b[39m multip \u001b[38;5;28;01mfor\u001b[39;00m multip \u001b[38;5;129;01min\u001b[39;00m multipliers])\n\u001b[1;32m     13\u001b[0m \u001b[38;5;28mprint\u001b[39m(\u001b[38;5;28mint\u001b[39m(n\u001b[38;5;241m+\u001b[39m\u001b[38;5;241m1\u001b[39m), end\u001b[38;5;241m=\u001b[39m\u001b[38;5;124m'\u001b[39m\u001b[38;5;124m \u001b[39m\u001b[38;5;124m'\u001b[39m)\n",
      "\u001b[0;31mNameError\u001b[0m: name 'numerator' is not defined"
     ]
    }
   ],
   "source": [
    "p = 0.05897253769515213\n",
    "print(p, end=' ')\n",
    "\n",
    "for within in [0.2, 0.1, 0.05]:\n",
    "    desired_ci = p * within\n",
    "\n",
    "    alpha = 0.05\n",
    "    z_statistic = stats.norm.ppf(1 - (alpha / 2))\n",
    "    desired_var = np.square(desired_ci / z_statistic)\n",
    "\n",
    "    minimum = numerator / desired_var\n",
    "    n = np.sum([minimum * multip for multip in multipliers])\n",
    "    print(int(n+1), end=' ')"
   ]
  }
 ],
 "metadata": {
  "kernelspec": {
   "display_name": "Python 3 (ipykernel)",
   "language": "python",
   "name": "python3"
  },
  "language_info": {
   "codemirror_mode": {
    "name": "ipython",
    "version": 3
   },
   "file_extension": ".py",
   "mimetype": "text/x-python",
   "name": "python",
   "nbconvert_exporter": "python",
   "pygments_lexer": "ipython3",
   "version": "3.8.13"
  }
 },
 "nbformat": 4,
 "nbformat_minor": 5
}
