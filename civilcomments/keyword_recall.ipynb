{
 "cells": [
  {
   "cell_type": "code",
   "execution_count": 1,
   "id": "de6302fb",
   "metadata": {},
   "outputs": [],
   "source": [
    "import numpy as np\n",
    "import pandas as pd\n",
    "import seaborn as sns\n",
    "sns.set()\n",
    "sns.set_context('paper', font_scale=0.65)\n",
    "sns.set_style('whitegrid', {'font.family':'serif', 'font.serif':'Times New Roman'})\n",
    "import matplotlib.pyplot as plt\n",
    "from scipy import stats\n",
    "import datasets\n",
    "from tqdm.notebook import tqdm\n",
    "from functools import lru_cache\n",
    "\n",
    "\n",
    "import utils"
   ]
  },
  {
   "cell_type": "code",
   "execution_count": 2,
   "id": "a6c79ce9",
   "metadata": {},
   "outputs": [
    {
     "name": "stderr",
     "output_type": "stream",
     "text": [
      "Found cached dataset civil_comments (/home/johnny/.cache/huggingface/datasets/civil_comments/default/0.9.0/e7a3aacd2ab7d135fa958e7209d10b1fa03807d44c486e3c34897aa08ea8ffab)\n"
     ]
    },
    {
     "data": {
      "application/vnd.jupyter.widget-view+json": {
       "model_id": "48da9fe779454bf9a7728af3115caf4a",
       "version_major": 2,
       "version_minor": 0
      },
      "text/plain": [
       "  0%|          | 0/3 [00:00<?, ?it/s]"
      ]
     },
     "metadata": {},
     "output_type": "display_data"
    },
    {
     "name": "stderr",
     "output_type": "stream",
     "text": [
      "Loading cached shuffled indices for dataset at /home/johnny/.cache/huggingface/datasets/civil_comments/default/0.9.0/e7a3aacd2ab7d135fa958e7209d10b1fa03807d44c486e3c34897aa08ea8ffab/cache-01f767df1b53d154.arrow\n",
      "Loading cached processed dataset at /home/johnny/.cache/huggingface/datasets/civil_comments/default/0.9.0/e7a3aacd2ab7d135fa958e7209d10b1fa03807d44c486e3c34897aa08ea8ffab/cache-52cd85a4b8b2e0c8.arrow\n",
      "Loading cached processed dataset at /home/johnny/.cache/huggingface/datasets/civil_comments/default/0.9.0/e7a3aacd2ab7d135fa958e7209d10b1fa03807d44c486e3c34897aa08ea8ffab/cache-9e6abfbab2489ee3.arrow\n"
     ]
    }
   ],
   "source": [
    "train_ds, valid_ds, test_ds = utils.load_dataset()"
   ]
  },
  {
   "cell_type": "code",
   "execution_count": 3,
   "id": "0c9d0eb9",
   "metadata": {},
   "outputs": [],
   "source": [
    "keyword_labels = []\n",
    "keyword_list = [\"stupid\", \"idiot\", \"idiots\", \"stupidity\", \"pathetic\", \"crap\", \\\n",
    "                \"ignorant\", \"dumb\", \"moron\", \"fools\"]\n",
    "\n",
    "for line in test_ds['text']:\n",
    "    label = any(word in line for word in keyword_list)\n",
    "    keyword_labels.append(1 if label else 0)"
   ]
  },
  {
   "cell_type": "code",
   "execution_count": 4,
   "id": "8a02786c",
   "metadata": {},
   "outputs": [
    {
     "data": {
      "text/plain": [
       "array([0, 0, 1, ..., 0, 0, 0])"
      ]
     },
     "execution_count": 4,
     "metadata": {},
     "output_type": "execute_result"
    }
   ],
   "source": [
    "keyword_labels = np.array(keyword_labels)\n",
    "keyword_labels"
   ]
  },
  {
   "cell_type": "code",
   "execution_count": 5,
   "id": "50772cd9",
   "metadata": {},
   "outputs": [
    {
     "data": {
      "text/plain": [
       "0.03343942132967011"
      ]
     },
     "execution_count": 5,
     "metadata": {},
     "output_type": "execute_result"
    }
   ],
   "source": [
    "np.mean(keyword_labels)"
   ]
  },
  {
   "cell_type": "code",
   "execution_count": 12,
   "id": "c477c001",
   "metadata": {},
   "outputs": [
    {
     "name": "stdout",
     "output_type": "stream",
     "text": [
      "33016\n",
      "67585\n",
      "Accuracy: 0.9462840069119477\n",
      "Precision: 0.5791264690405192\n",
      "Recall: 0.3281875925686623\n"
     ]
    }
   ],
   "source": [
    "from sklearn.metrics import accuracy_score, precision_score, recall_score\n",
    "\n",
    "y_true = np.array(test_ds['label'])\n",
    "\n",
    "TP = np.sum(keyword_labels & y_true)\n",
    "print(TP)\n",
    "FN = np.sum((keyword_labels == 0) & (y_true == 1))\n",
    "print(FN)\n",
    "\n",
    "# accuracy\n",
    "accuracy = accuracy_score(y_true, keyword_labels)\n",
    "print('Accuracy:', accuracy)\n",
    "\n",
    "# Compute precision\n",
    "precision = precision_score(y_true, keyword_labels)\n",
    "print('Precision:', precision)\n",
    "\n",
    "# Compute recall\n",
    "recall = recall_score(y_true, keyword_labels)\n",
    "print('Recall:', recall)"
   ]
  },
  {
   "cell_type": "code",
   "execution_count": 20,
   "id": "0a352169",
   "metadata": {},
   "outputs": [
    {
     "data": {
      "text/plain": [
       "(0.3395947923175627, 0.3175218370796377)"
      ]
     },
     "execution_count": 20,
     "metadata": {},
     "output_type": "execute_result"
    }
   ],
   "source": [
    "f = lambda x : TP / (TP + FN * x)\n",
    "f(0.95), f(1.05)"
   ]
  },
  {
   "cell_type": "code",
   "execution_count": 8,
   "id": "ae2e45a2",
   "metadata": {},
   "outputs": [
    {
     "name": "stdout",
     "output_type": "stream",
     "text": [
      "1647864 1647864 1647864\n"
     ]
    }
   ],
   "source": [
    "unmoderated = (1 - keyword_labels).astype(bool)\n",
    "\n",
    "score_npy = 'scores/roberta_balanced.npy'\n",
    "scores = np.load(score_npy)\n",
    "\n",
    "toxic = np.array(test_ds['label'])[unmoderated]\n",
    "toxicity = np.array(test_ds['toxicity'])[unmoderated]\n",
    "subset_scores = scores[unmoderated]\n",
    "\n",
    "print(len(toxic), len(toxicity), len(subset_scores))"
   ]
  },
  {
   "cell_type": "code",
   "execution_count": 9,
   "id": "e8d8c28c",
   "metadata": {},
   "outputs": [],
   "source": [
    "score_npy = 'scores/roberta_balanced.npy'\n",
    "score_column = 'scores'\n",
    "\n",
    "bins = None\n",
    "cut = 'quantile'\n",
    "allocation = 'optimal'\n",
    "within = 0.2"
   ]
  },
  {
   "cell_type": "code",
   "execution_count": 10,
   "id": "5afea81e",
   "metadata": {},
   "outputs": [],
   "source": [
    "# labels = test_ds['toxicity']\n",
    "# scores = np.load(score_npy)\n",
    "df = pd.DataFrame(data={'toxicity' : toxicity, 'toxic' : toxic, 'scores' : subset_scores})"
   ]
  },
  {
   "cell_type": "code",
   "execution_count": 11,
   "id": "ea135fa4",
   "metadata": {},
   "outputs": [
    {
     "data": {
      "text/html": [
       "<div>\n",
       "<style scoped>\n",
       "    .dataframe tbody tr th:only-of-type {\n",
       "        vertical-align: middle;\n",
       "    }\n",
       "\n",
       "    .dataframe tbody tr th {\n",
       "        vertical-align: top;\n",
       "    }\n",
       "\n",
       "    .dataframe thead th {\n",
       "        text-align: right;\n",
       "    }\n",
       "</style>\n",
       "<table border=\"1\" class=\"dataframe\">\n",
       "  <thead>\n",
       "    <tr style=\"text-align: right;\">\n",
       "      <th></th>\n",
       "      <th>toxicity</th>\n",
       "      <th>toxic</th>\n",
       "      <th>scores</th>\n",
       "    </tr>\n",
       "  </thead>\n",
       "  <tbody>\n",
       "    <tr>\n",
       "      <th>0</th>\n",
       "      <td>0.4</td>\n",
       "      <td>0</td>\n",
       "      <td>0.27451</td>\n",
       "    </tr>\n",
       "  </tbody>\n",
       "</table>\n",
       "</div>"
      ],
      "text/plain": [
       "   toxicity  toxic   scores\n",
       "0       0.4      0  0.27451"
      ]
     },
     "execution_count": 11,
     "metadata": {},
     "output_type": "execute_result"
    }
   ],
   "source": [
    "df.head(1)"
   ]
  },
  {
   "cell_type": "code",
   "execution_count": 12,
   "id": "4769fb03",
   "metadata": {},
   "outputs": [
    {
     "data": {
      "text/plain": [
       "(67585, 0.041013700159721916)"
      ]
     },
     "execution_count": 12,
     "metadata": {},
     "output_type": "execute_result"
    }
   ],
   "source": [
    "df['toxic'].sum(), df['toxic'].mean()"
   ]
  },
  {
   "cell_type": "code",
   "execution_count": 13,
   "id": "d37b96aa",
   "metadata": {},
   "outputs": [],
   "source": [
    "size = 12192"
   ]
  },
  {
   "cell_type": "code",
   "execution_count": 14,
   "id": "35fde490",
   "metadata": {},
   "outputs": [
    {
     "data": {
      "text/plain": [
       "0.0017961111150782238"
      ]
     },
     "execution_count": 14,
     "metadata": {},
     "output_type": "execute_result"
    }
   ],
   "source": [
    "p = df['toxic'].mean()\n",
    "random_sampling_var = p * (1 - p)\n",
    "np.sqrt(random_sampling_var / size)"
   ]
  },
  {
   "cell_type": "code",
   "execution_count": 15,
   "id": "1c272e05",
   "metadata": {},
   "outputs": [
    {
     "data": {
      "text/plain": [
       "0.041013700159721916"
      ]
     },
     "execution_count": 15,
     "metadata": {},
     "output_type": "execute_result"
    }
   ],
   "source": [
    "p"
   ]
  },
  {
   "cell_type": "markdown",
   "id": "755d16fd",
   "metadata": {},
   "source": [
    "### Oracle bin search"
   ]
  },
  {
   "cell_type": "code",
   "execution_count": 16,
   "id": "e4baad98",
   "metadata": {},
   "outputs": [],
   "source": [
    "def get_error(df):\n",
    "    sizes_sigmas = []\n",
    "    for i, group in df.groupby('bin'):\n",
    "        # to round up to 1\n",
    "        pilot = group['toxic']\n",
    "        sizes_sigmas.append((len(group), np.std(pilot)))\n",
    "\n",
    "    allocations = []\n",
    "    denominator = np.sum([ n_h * sigma_h for n_h, sigma_h in sizes_sigmas ])\n",
    "    for n_h, sigma_h in sizes_sigmas:\n",
    "        n_from_bin = size * n_h * sigma_h / denominator\n",
    "        allocations.append(n_from_bin)\n",
    "    \n",
    "    stratified_var = 0\n",
    "    for (i, group), n_from_bin in zip(df.groupby('bin'), allocations):\n",
    "\n",
    "        p = group['toxic'].mean()\n",
    "\n",
    "        # approximation when the groups are very large\n",
    "        stratified_var += np.square(len(group) / len(df)) * (group['toxic'].var() / n_from_bin)\n",
    "    return np.sqrt(stratified_var)"
   ]
  },
  {
   "cell_type": "code",
   "execution_count": 17,
   "id": "3e4723aa",
   "metadata": {},
   "outputs": [
    {
     "data": {
      "text/plain": [
       "'\\n=== 2 ===\\n- [0, 1]\\n1 [0, 2, 1]\\n\\n=== 4 ===\\n1 [0, 3, 2, 1]\\n3 [0, 3, 2, 4, 1]\\n\\n=== 8 ===\\n1 [0, 5, 3, 2, 4, 1]\\n3 [0, 5, 3, 6, 2, 4, 1]\\n\\n5 [0, 5, 6, 3, 2, 7, 4, 1]\\n7 [0, 5, 6, 3, 2, 7, 4, 8, 1]\\n\\n=== 16 ===\\n1 [0, 9, 5, 6, 3, 2, 7, 4, 8, 1]\\n3 [0, 9, 5, 10, 6, 3, 2, 7, 4, 8, 1]\\n5 [0, 9, 5, 10, 6, 11, 3, 2, 7, 4, 8, 1]\\n7 [0, 9, 5, 10, 6, 11, 3, 12, 2, 7, 4, 8, 1]\\n\\n9  [0, 9, 5, 10, 6, 11, 3, 12, 2, 13, 7, 4, 8, 1]\\n11 [0, 9, 5, 10, 6, 11, 3, 12, 2, 13, 7, 14, 4, 8, 1]\\n13 [0, 9, 5, 10, 6, 11, 3, 12, 2, 13, 7, 14, 4, 15, 8, 1]\\n15 [0, 9, 5, 10, 6, 11, 3, 12, 2, 13, 7, 14, 4, 15, 8, 16, 1]\\n'"
      ]
     },
     "execution_count": 17,
     "metadata": {},
     "output_type": "execute_result"
    }
   ],
   "source": [
    "'''\n",
    "=== 2 ===\n",
    "- [0, 1]\n",
    "1 [0, 2, 1]\n",
    "\n",
    "=== 4 ===\n",
    "1 [0, 3, 2, 1]\n",
    "3 [0, 3, 2, 4, 1]\n",
    "\n",
    "=== 8 ===\n",
    "1 [0, 5, 3, 2, 4, 1]\n",
    "3 [0, 5, 3, 6, 2, 4, 1]\n",
    "\n",
    "5 [0, 5, 6, 3, 2, 7, 4, 1]\n",
    "7 [0, 5, 6, 3, 2, 7, 4, 8, 1]\n",
    "\n",
    "=== 16 ===\n",
    "1 [0, 9, 5, 6, 3, 2, 7, 4, 8, 1]\n",
    "3 [0, 9, 5, 10, 6, 3, 2, 7, 4, 8, 1]\n",
    "5 [0, 9, 5, 10, 6, 11, 3, 2, 7, 4, 8, 1]\n",
    "7 [0, 9, 5, 10, 6, 11, 3, 12, 2, 7, 4, 8, 1]\n",
    "\n",
    "9  [0, 9, 5, 10, 6, 11, 3, 12, 2, 13, 7, 4, 8, 1]\n",
    "11 [0, 9, 5, 10, 6, 11, 3, 12, 2, 13, 7, 14, 4, 8, 1]\n",
    "13 [0, 9, 5, 10, 6, 11, 3, 12, 2, 13, 7, 14, 4, 15, 8, 1]\n",
    "15 [0, 9, 5, 10, 6, 11, 3, 12, 2, 13, 7, 14, 4, 15, 8, 16, 1]\n",
    "'''"
   ]
  },
  {
   "cell_type": "code",
   "execution_count": 18,
   "id": "beace42a",
   "metadata": {
    "scrolled": false
   },
   "outputs": [],
   "source": [
    "def oracle_bins(df, depth=4):\n",
    "    minimum_bins = [0, 1]\n",
    "    minimum_err = 1\n",
    "    steps = 10\n",
    "\n",
    "    for level in range(1, depth+1):\n",
    "        if level == 1:\n",
    "            indexes = [1]\n",
    "        else:\n",
    "            indexes = list(range(1, level*2, 2))\n",
    "\n",
    "        for idx in indexes:\n",
    "            bins = minimum_bins.copy()\n",
    "            bins.insert(idx, 0)\n",
    "            lb, ub = bins[idx-1], bins[idx+1]\n",
    "\n",
    "            # print(lb + (ub-lb)/steps, ub)\n",
    "\n",
    "            for i in np.linspace( lb + (ub-lb)/steps, ub, steps, endpoint=False):\n",
    "                bins[idx] = i\n",
    "                df['bin'] = pd.qcut(df[score_column], bins)\n",
    "                new_err = get_error(df)\n",
    "                if new_err < minimum_err:\n",
    "                    minimum_err = new_err\n",
    "                    minimum_bins = bins.copy()\n",
    "\n",
    "    return minimum_bins"
   ]
  },
  {
   "cell_type": "markdown",
   "id": "14d2a8e3",
   "metadata": {},
   "source": [
    "### Allocation"
   ]
  },
  {
   "cell_type": "code",
   "execution_count": 19,
   "id": "76c62ae7",
   "metadata": {},
   "outputs": [
    {
     "data": {
      "text/plain": [
       "1.5849625007211563"
      ]
     },
     "execution_count": 19,
     "metadata": {},
     "output_type": "execute_result"
    }
   ],
   "source": [
    "np.log(3) / np.log(2)"
   ]
  },
  {
   "cell_type": "code",
   "execution_count": 20,
   "id": "09a4d9e9",
   "metadata": {},
   "outputs": [],
   "source": [
    "def calculate(cut = 'quantile', allocation = 'optimal', within = 0.2, pilot_size=50):\n",
    "    print(cut, end=',')\n",
    "    print(allocation, end=',')\n",
    "    \n",
    "    results = []\n",
    "    \n",
    "    for bins in range(2, 18, 2):\n",
    "        if cut == 'eqwidth':\n",
    "            minimum, maximum = df[score_column].min(), df[score_column].max()\n",
    "            df['bin'] = pd.cut(df[score_column], np.linspace(minimum, maximum, num=bins+1), include_lowest=True)\n",
    "        elif cut == 'quantile':\n",
    "            df['bin'] = pd.qcut(df[score_column], np.linspace(0, 1, num=bins+1))\n",
    "        elif cut == 'searched':\n",
    "            depth = int(np.log(bins) / np.log(2))\n",
    "            bins = oracle_bins(df, depth = depth)\n",
    "            df['bin'] = pd.qcut(df[score_column], bins)\n",
    "\n",
    "        sizes_sigmas = []\n",
    "        for i, group in df.groupby('bin'):\n",
    "            # to round up to 1\n",
    "            if allocation == 'pilot':\n",
    "                pilot = np.array(group['toxic'].sample(pilot_size + 2))\n",
    "                pilot[-1] = 1\n",
    "                pilot[-2] = 0\n",
    "            elif allocation == 'optimal':\n",
    "                pilot = group['toxic']\n",
    "            else:\n",
    "                pilot = group['toxic']\n",
    "            sizes_sigmas.append((len(group), np.std(pilot)))\n",
    "\n",
    "        if allocation == 'equal':\n",
    "            sizes_sigmas = [ (1, 1) for i, j in sizes_sigmas ]\n",
    "\n",
    "        multipliers = []\n",
    "        denominator = np.sum([ n_h * sigma_h for n_h, sigma_h in sizes_sigmas ])\n",
    "        for n_h, sigma_h in sizes_sigmas:\n",
    "            n_from_bin = n_h * sigma_h / denominator\n",
    "            multipliers.append(n_from_bin)\n",
    "\n",
    "        desired_ci = p * within\n",
    "\n",
    "        alpha = 0.05\n",
    "        z_statistic = stats.norm.ppf(1 - (alpha / 2))\n",
    "        desired_var = np.square(desired_ci / z_statistic)\n",
    "\n",
    "        numerator = 0\n",
    "        for (i, group), multip_h in zip(df.groupby('bin'), multipliers):\n",
    "            # approximation when the groups are very large\n",
    "            numerator += np.square(len(group) / len(df)) * (group['toxic'].var() / multip_h)\n",
    "\n",
    "        minimum = numerator / desired_var\n",
    "        \n",
    "        if allocation == 'pilot':\n",
    "            n = np.sum([max(minimum * multip, pilot_size) for multip in multipliers])\n",
    "        else:\n",
    "            n = np.sum([minimum * multip for multip in multipliers])\n",
    "        print(int(n+1), end=',')\n",
    "        results.append(int(n+1))\n",
    "    print()\n",
    "    return results"
   ]
  },
  {
   "cell_type": "code",
   "execution_count": 21,
   "id": "babf717e",
   "metadata": {},
   "outputs": [
    {
     "data": {
      "text/plain": [
       "0.0011127112141070949"
      ]
     },
     "execution_count": 21,
     "metadata": {},
     "output_type": "execute_result"
    }
   ],
   "source": [
    "bins = oracle_bins(df, depth = int(2 / 2))\n",
    "df['bin'] = pd.qcut(df[score_column], bins)\n",
    "get_error(df)"
   ]
  },
  {
   "cell_type": "code",
   "execution_count": 22,
   "id": "4675ba54",
   "metadata": {},
   "outputs": [
    {
     "data": {
      "text/plain": [
       "0.0011207589064504803"
      ]
     },
     "execution_count": 22,
     "metadata": {},
     "output_type": "execute_result"
    }
   ],
   "source": [
    "df['bin'] = pd.cut(df['scores'], np.linspace(0, 1, num=2+1), include_lowest=True)\n",
    "get_error(df)"
   ]
  },
  {
   "cell_type": "code",
   "execution_count": 23,
   "id": "8aaaafd2",
   "metadata": {},
   "outputs": [],
   "source": [
    "def calculate_many(binning, alloc, within, pilot_size=50, trials=30):\n",
    "    results = []\n",
    "    for i in range(0, trials):\n",
    "        results.append(calculate(binning, alloc, within, pilot_size=pilot_size))\n",
    "    results = np.array(results)\n",
    "    results = np.mean(results, axis=0)\n",
    "    return results"
   ]
  },
  {
   "cell_type": "code",
   "execution_count": 26,
   "id": "eaa25c7f",
   "metadata": {},
   "outputs": [
    {
     "name": "stdout",
     "output_type": "stream",
     "text": [
      "binning,allocation,2,4,6,8,10,12,14,16\n",
      "searched,optimal,862,628,628,578,578,578,578,570,\n",
      "eqwidth,optimal,875,812,784,767,754,745,737,730,\n",
      "quantile,optimal,1250,811,690,640,613,597,585,577,\n",
      "binning,allocation,2,4,6,8,10,12,14,16\n",
      "quantile,optimal,1250,811,690,640,613,597,585,577,\n",
      "quantile,pilot,1858,1246,978,976,884,908,907,1003,\n",
      "quantile,pilot,1469,1116,999,959,944,907,922,970,\n",
      "quantile,pilot,1524,1166,1078,1001,880,865,914,988,\n",
      "quantile,pilot,1469,1059,967,1036,870,898,898,962,\n",
      "quantile,pilot,1524,1116,1004,968,888,853,917,973,\n",
      "quantile,pilot,1641,1122,1049,901,903,869,907,986,\n",
      "quantile,pilot,1524,1166,1007,928,931,858,907,978,\n",
      "quantile,pilot,1641,1188,952,923,905,891,917,981,\n",
      "quantile,pilot,1524,1315,1016,977,901,925,899,973,\n",
      "quantile,pilot,1524,1098,958,928,887,960,919,984,\n",
      "quantile,pilot,1641,1166,1091,961,915,1060,889,972,\n",
      "quantile,pilot,1641,1098,1056,958,894,913,896,994,\n",
      "quantile,pilot,1524,1221,930,906,860,867,935,993,\n",
      "quantile,pilot,1641,1098,1018,955,886,862,914,963,\n",
      "quantile,pilot,1589,1166,967,921,1034,860,908,979,\n",
      "quantile,pilot,1589,1082,967,950,1027,881,915,969,\n",
      "quantile,pilot,1589,1162,974,892,868,838,902,972,\n",
      "quantile,pilot,1589,1116,1002,935,895,885,907,962,\n",
      "quantile,pilot,1552,1221,1096,935,1011,862,896,973,\n",
      "quantile,pilot,1718,1166,1007,892,909,940,914,976,\n",
      "quantile,pilot,1718,1098,1007,907,874,929,930,963,\n",
      "quantile,pilot,1589,1249,1073,950,922,934,895,969,\n",
      "quantile,pilot,1524,1202,1000,940,930,864,975,975,\n",
      "quantile,pilot,1718,1149,963,1002,886,881,910,966,\n",
      "quantile,pilot,1524,1129,967,880,1001,894,914,976,\n",
      "quantile,pilot,1641,1202,956,914,886,848,911,983,\n",
      "quantile,pilot,1552,1070,1033,911,920,864,918,983,\n",
      "quantile,pilot,1552,1070,991,986,950,889,906,961,\n",
      "quantile,pilot,1718,1070,1002,922,901,884,908,974,\n",
      "quantile,pilot,1446,1138,1013,923,880,869,911,965,\n",
      "quantile,equal,2152,1985,1856,1763,1698,1650,1614,1586,\n",
      "binning,allocation,2,4,6,8,10,12,14,16\n",
      "quantile,optimal,1250,811,690,640,613,597,585,577,\n",
      "quantile,pilot,1879,1985,1274,1250,1200,1174,1185,1134,\n",
      "quantile,pilot,2152,1985,1374,1315,1258,1230,1273,1180,\n",
      "quantile,pilot,1879,1482,1307,1267,1187,1237,1267,1145,\n",
      "quantile,pilot,1715,1985,1307,1250,1311,1348,1241,1155,\n",
      "quantile,pilot,1770,1625,1274,1449,1187,1237,1260,1176,\n",
      "quantile,pilot,1770,1482,1307,1327,1258,1252,1205,1131,\n",
      "quantile,pilot,1879,1482,1307,1838,1204,1166,1293,1269,\n",
      "quantile,pilot,1879,1985,1307,1327,1311,1230,1237,1258,\n",
      "quantile,pilot,1770,1411,1510,1267,1311,1171,1146,1166,\n",
      "quantile,pilot,2152,1482,1510,1327,1232,1333,1263,1170,\n",
      "quantile,pilot,2152,1376,1328,1261,1215,1170,1267,1276,\n",
      "quantile,pilot,1879,1411,1856,1449,1311,1147,1182,1189,\n",
      "quantile,pilot,2152,1985,1374,1315,1385,1198,1239,1167,\n",
      "quantile,pilot,2152,1625,1374,1228,1332,1198,1193,1388,\n",
      "quantile,pilot,2152,1985,1274,1228,1332,1382,1154,1176,\n",
      "quantile,pilot,1879,1625,1307,1237,1466,1260,1172,1114,\n",
      "quantile,pilot,2152,1376,1402,1315,1291,1152,1192,1214,\n",
      "quantile,pilot,1879,1985,1366,1228,1271,1174,1213,1140,\n",
      "quantile,pilot,2152,1411,1510,1267,1385,1174,1230,1122,\n",
      "quantile,pilot,1879,1625,1510,1228,1214,1193,1269,1175,\n",
      "quantile,pilot,2152,1625,1374,1267,1224,1240,1182,1142,\n",
      "quantile,pilot,2152,1411,1307,1219,1311,1260,1267,1206,\n",
      "quantile,pilot,2152,1625,1292,1267,1258,1230,1267,1155,\n",
      "quantile,pilot,2152,1482,1510,1237,1268,1260,1166,1165,\n",
      "quantile,pilot,1879,1625,1510,1271,1311,1230,1193,1258,\n",
      "quantile,pilot,1879,1625,1374,1237,1291,1174,1193,1151,\n",
      "quantile,pilot,1770,1625,1510,1495,1214,1230,1144,1151,\n",
      "quantile,pilot,1879,1411,1274,1327,1178,1198,1237,1321,\n",
      "quantile,pilot,2152,1482,1307,1379,1258,1147,1172,1149,\n",
      "quantile,pilot,1879,1985,1549,1267,1303,1233,1165,1151,\n",
      "quantile,pilot,1469,1202,990,931,880,931,913,974,\n",
      "quantile,pilot,1641,1098,991,897,883,863,898,982,\n",
      "quantile,pilot,1641,1138,995,1001,939,876,921,966,\n",
      "quantile,pilot,1524,1166,978,904,944,869,891,964,\n",
      "quantile,pilot,1552,1166,985,991,915,847,909,973,\n",
      "quantile,pilot,1502,1138,1073,880,870,900,906,973,\n",
      "quantile,pilot,1641,1188,1088,944,923,902,908,987,\n",
      "quantile,pilot,1641,1166,1049,973,879,857,916,963,\n",
      "quantile,pilot,1589,1162,967,930,882,904,905,970,\n",
      "quantile,pilot,1524,1116,981,1003,868,849,910,969,\n",
      "quantile,pilot,1552,1116,973,1000,920,848,907,973,\n",
      "quantile,pilot,1589,1070,991,983,935,902,887,976,\n",
      "quantile,pilot,1718,1116,991,983,903,865,930,972,\n",
      "quantile,pilot,1552,1070,981,933,900,853,918,967,\n",
      "quantile,pilot,1641,1059,958,971,857,970,888,976,\n",
      "quantile,pilot,1484,1140,967,907,917,850,941,977,\n",
      "quantile,pilot,2152,1233,981,1048,861,870,966,972,\n",
      "quantile,pilot,1641,1166,973,1002,997,887,913,975,\n",
      "quantile,pilot,1641,1346,978,984,954,873,915,971,\n",
      "quantile,pilot,1850,1149,1002,962,929,843,894,968,\n",
      "quantile,pilot,1850,1166,967,1044,986,883,908,967,\n",
      "quantile,pilot,1589,1269,961,944,890,885,908,967,\n",
      "quantile,pilot,1641,1082,940,928,901,844,912,976,\n",
      "quantile,pilot,1589,1138,1052,918,866,938,906,969,\n",
      "quantile,pilot,1502,1202,1020,901,862,861,915,979,\n",
      "quantile,pilot,1641,1138,952,933,886,894,912,971,\n",
      "quantile,pilot,1589,1188,1061,944,862,873,939,982,\n",
      "quantile,pilot,1552,1098,1103,976,935,911,919,974,\n",
      "quantile,pilot,1641,1116,1002,975,905,885,902,974,\n",
      "quantile,pilot,1502,1138,1032,935,891,900,930,989,\n",
      "quantile,pilot,1541,1020,911,1011,1148,1358,1469,1654,\n",
      "quantile,pilot,1452,980,921,1024,1169,1326,1467,1649,\n",
      "quantile,pilot,1407,1045,921,1022,1190,1309,1474,1659,\n",
      "quantile,pilot,1468,1096,911,1026,1151,1328,1474,1661,\n",
      "quantile,pilot,1468,1013,923,1021,1176,1314,1493,1677,\n",
      "quantile,pilot,1541,992,923,1024,1176,1319,1471,1645,\n",
      "quantile,pilot,1452,967,912,1022,1156,1308,1487,1649,\n",
      "quantile,pilot,1426,1012,930,1064,1160,1314,1530,1645,\n",
      "quantile,pilot,1386,1005,920,1015,1170,1342,1461,1658,\n",
      "quantile,pilot,1468,1154,913,1011,1175,1314,1485,1655,\n",
      "quantile,pilot,1426,985,919,1028,1150,1332,1473,1645,\n",
      "quantile,pilot,1407,998,912,1023,1171,1319,1481,1652,\n",
      "quantile,pilot,1426,967,932,1045,1170,1307,1473,1640,\n",
      "quantile,pilot,1511,985,914,1016,1157,1306,1486,1657,\n",
      "quantile,pilot,1468,1203,924,1021,1182,1310,1480,1664,\n",
      "quantile,pilot,1438,1043,950,1008,1155,1321,1491,1653,\n",
      "quantile,pilot,1438,967,929,1017,1154,1346,1477,1656,\n",
      "quantile,pilot,1511,1012,930,1018,1145,1321,1473,1656,\n",
      "quantile,pilot,1487,1068,912,1055,1157,1329,1486,1653,\n",
      "quantile,pilot,1580,1061,945,1012,1171,1316,1485,1643,\n",
      "quantile,pilot,1525,997,911,1035,1167,1319,1472,1660,\n",
      "quantile,pilot,1416,992,912,1015,1157,1302,1488,1652,\n",
      "quantile,pilot,1438,1081,954,1018,1150,1324,1484,1638,\n",
      "quantile,pilot,1426,1033,912,1008,1174,1325,1483,1676,\n",
      "quantile,pilot,1511,997,919,1015,1164,1313,1486,1680,\n",
      "quantile,pilot,1438,1096,919,1021,1180,1307,1469,1652,\n",
      "quantile,pilot,1438,1029,912,1008,1175,1328,1485,1650,\n",
      "quantile,pilot,1487,1060,929,1009,1154,1309,1470,1646,\n",
      "quantile,pilot,1570,968,926,1021,1151,1323,1480,1647,\n",
      "quantile,pilot,1541,1004,930,1021,1174,1294,1470,1656,\n"
     ]
    },
    {
     "data": {
      "image/png": "[encoded data removed]",
      "text/plain": [
       "<Figure size 629x180 with 3 Axes>"
      ]
     },
     "metadata": {},
     "output_type": "display_data"
    }
   ],
   "source": [
    "fig, ax = plt.subplots(1, 3, figsize=(6.29,1.8), sharey=False)\n",
    "fig.tight_layout()\n",
    "\n",
    "# plot 1\n",
    "\n",
    "print('binning,allocation,%s' % ','.join([ str(i) for i in range(2,18,2) ]))\n",
    "ax[0].set_title('Binning (w/ optimal alloc.)')\n",
    "results = calculate('searched', 'optimal', 0.2)\n",
    "sns.lineplot(x=list(range(2,18,2)), y=results, ax=ax[0], label='oracle')\n",
    "results = calculate('eqwidth', 'optimal', 0.2)\n",
    "sns.lineplot(x=list(range(2,18,2)), y=results, ax=ax[0], label='eqwidth')\n",
    "results = calculate('quantile', 'optimal', 0.2)\n",
    "sns.lineplot(x=list(range(2,18,2)), y=results, ax=ax[0], label='quantile')\n",
    "\n",
    "\n",
    "print('binning,allocation,%s' % ','.join([ str(i) for i in range(2,18,2) ]))\n",
    "ax[1].set_title('Allocation (w/ quantile bins)')\n",
    "results = calculate('quantile', 'optimal', 0.2)\n",
    "sns.lineplot(x=list(range(2,18,2)), y=results, ax=ax[1], label='optimal')\n",
    "results = calculate_many('quantile', 'pilot', 0.2, pilot_size=50)\n",
    "sns.lineplot(x=list(range(2,18,2)), y=results, ax=ax[1], label='pilot:50')\n",
    "results = calculate('quantile', 'equal', 0.2)\n",
    "sns.lineplot(x=list(range(2,18,2)), y=results, ax=ax[1], label='equal')\n",
    "\n",
    "\n",
    "print('binning,allocation,%s' % ','.join([ str(i) for i in range(2,18,2) ]))\n",
    "ax[2].set_title('Pilot samples (w/ quantile bins)')\n",
    "results = calculate('quantile', 'optimal', 0.2)\n",
    "sns.lineplot(x=list(range(2,18,2)), y=results, ax=ax[2], label='optimal')\n",
    "results = calculate_many('quantile', 'pilot', 0.2, pilot_size=50)\n",
    "sns.lineplot(x=list(range(2,18,2)), y=results, ax=ax[2], label='pilot:50')\n",
    "results = calculate_many('quantile', 'pilot', 0.2, pilot_size=10)\n",
    "sns.lineplot(x=list(range(2,18,2)), y=results, ax=ax[2], label='pilot:10')\n",
    "results = calculate_many('quantile', 'pilot', 0.2, pilot_size=100)\n",
    "sns.lineplot(x=list(range(2,18,2)), y=results, ax=ax[2], label='pilot:100')\n",
    "\n",
    "\n",
    "fig.text(0.5, -0.03, 'Number of strata', ha='center', size=8)\n",
    "fig.text(-0.01, 0.5, '# of samples required', va='center', rotation='vertical', size=8)\n",
    "plt.savefig('civilcomments_binning_allocation.pdf', bbox_inches='tight')"
   ]
  },
  {
   "cell_type": "code",
   "execution_count": null,
   "id": "05a3cdfb",
   "metadata": {},
   "outputs": [],
   "source": []
  }
 ],
 "metadata": {
  "kernelspec": {
   "display_name": "Python 3 (ipykernel)",
   "language": "python",
   "name": "python3"
  },
  "language_info": {
   "codemirror_mode": {
    "name": "ipython",
    "version": 3
   },
   "file_extension": ".py",
   "mimetype": "text/x-python",
   "name": "python",
   "nbconvert_exporter": "python",
   "pygments_lexer": "ipython3",
   "version": "3.8.13"
  }
 },
 "nbformat": 4,
 "nbformat_minor": 5
}
