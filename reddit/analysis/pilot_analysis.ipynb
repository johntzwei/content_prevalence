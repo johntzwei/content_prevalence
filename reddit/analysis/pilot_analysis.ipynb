{
 "cells": [
  {
   "cell_type": "code",
   "execution_count": 1,
   "id": "de6302fb",
   "metadata": {},
   "outputs": [],
   "source": [
    "import numpy as np\n",
    "import pandas as pd\n",
    "import seaborn as sns\n",
    "from scipy import stats\n",
    "import datasets\n",
    "from tqdm.notebook import tqdm\n",
    "\n",
    "import utils"
   ]
  },
  {
   "cell_type": "markdown",
   "id": "7689cd5d",
   "metadata": {},
   "source": [
    "# Load pilot"
   ]
  },
  {
   "cell_type": "code",
   "execution_count": 2,
   "id": "d58624db",
   "metadata": {},
   "outputs": [],
   "source": [
    "score_column = 'label'\n",
    "annotations_file = './personal_attacks_pilot.tsv'\n",
    "database = 'before:politics'"
   ]
  },
  {
   "cell_type": "code",
   "execution_count": 3,
   "id": "be715bf5",
   "metadata": {},
   "outputs": [
    {
     "data": {
      "text/html": [
       "<div>\n",
       "<style scoped>\n",
       "    .dataframe tbody tr th:only-of-type {\n",
       "        vertical-align: middle;\n",
       "    }\n",
       "\n",
       "    .dataframe tbody tr th {\n",
       "        vertical-align: top;\n",
       "    }\n",
       "\n",
       "    .dataframe thead th {\n",
       "        text-align: right;\n",
       "    }\n",
       "</style>\n",
       "<table border=\"1\" class=\"dataframe\">\n",
       "  <thead>\n",
       "    <tr style=\"text-align: right;\">\n",
       "      <th></th>\n",
       "      <th>random</th>\n",
       "      <th>database</th>\n",
       "      <th>bin</th>\n",
       "      <th>link</th>\n",
       "      <th>comment</th>\n",
       "      <th>raw_label</th>\n",
       "      <th>notes</th>\n",
       "      <th>label</th>\n",
       "    </tr>\n",
       "  </thead>\n",
       "  <tbody>\n",
       "    <tr>\n",
       "      <th>0</th>\n",
       "      <td>0.998825</td>\n",
       "      <td>before:politics</td>\n",
       "      <td>(-0.00042699999999999997, 0.000759]</td>\n",
       "      <td>https://www.reddit.com/r/politics/comments/hef...</td>\n",
       "      <td>Wouldn’t that, in its own way, result in a net...</td>\n",
       "      <td>x</td>\n",
       "      <td>NaN</td>\n",
       "      <td>0</td>\n",
       "    </tr>\n",
       "    <tr>\n",
       "      <th>1</th>\n",
       "      <td>0.998773</td>\n",
       "      <td>after:politics</td>\n",
       "      <td>(0.000924, 0.00124]</td>\n",
       "      <td>https://www.reddit.com/r/politics/comments/hpa...</td>\n",
       "      <td>Racism is the point</td>\n",
       "      <td>x</td>\n",
       "      <td>NaN</td>\n",
       "      <td>0</td>\n",
       "    </tr>\n",
       "  </tbody>\n",
       "</table>\n",
       "</div>"
      ],
      "text/plain": [
       "     random         database                                  bin  \\\n",
       "0  0.998825  before:politics  (-0.00042699999999999997, 0.000759]   \n",
       "1  0.998773   after:politics                  (0.000924, 0.00124]   \n",
       "\n",
       "                                                link  \\\n",
       "0  https://www.reddit.com/r/politics/comments/hef...   \n",
       "1  https://www.reddit.com/r/politics/comments/hpa...   \n",
       "\n",
       "                                             comment raw_label notes  label  \n",
       "0  Wouldn’t that, in its own way, result in a net...         x   NaN      0  \n",
       "1                                Racism is the point         x   NaN      0  "
      ]
     },
     "execution_count": 3,
     "metadata": {},
     "output_type": "execute_result"
    }
   ],
   "source": [
    "# pilot_df = pd.read_csv(annotations_file, delimiter='\\t', header=None)\n",
    "# pilot_df.columns = ['bin', 'link', 'comment', 'raw_label']\n",
    "# pilot_df = pilot_df.dropna()\n",
    "\n",
    "df = pd.read_csv(annotations_file, delimiter='\\t', header=[0])\n",
    "df.columns = ['random', 'database', 'bin', 'link', 'comment', 'raw_label', 'notes']\n",
    "df[score_column] = [ 1 if i == 'z' else 0 for i in df['raw_label'] ]\n",
    "df.head(2)"
   ]
  },
  {
   "cell_type": "code",
   "execution_count": 4,
   "id": "655d62f7",
   "metadata": {},
   "outputs": [
    {
     "data": {
      "text/html": [
       "<div>\n",
       "<style scoped>\n",
       "    .dataframe tbody tr th:only-of-type {\n",
       "        vertical-align: middle;\n",
       "    }\n",
       "\n",
       "    .dataframe tbody tr th {\n",
       "        vertical-align: top;\n",
       "    }\n",
       "\n",
       "    .dataframe thead th {\n",
       "        text-align: right;\n",
       "    }\n",
       "</style>\n",
       "<table border=\"1\" class=\"dataframe\">\n",
       "  <thead>\n",
       "    <tr style=\"text-align: right;\">\n",
       "      <th></th>\n",
       "      <th>random</th>\n",
       "      <th>bin</th>\n",
       "      <th>link</th>\n",
       "      <th>comment</th>\n",
       "      <th>raw_label</th>\n",
       "      <th>notes</th>\n",
       "      <th>label</th>\n",
       "    </tr>\n",
       "    <tr>\n",
       "      <th>database</th>\n",
       "      <th></th>\n",
       "      <th></th>\n",
       "      <th></th>\n",
       "      <th></th>\n",
       "      <th></th>\n",
       "      <th></th>\n",
       "      <th></th>\n",
       "    </tr>\n",
       "  </thead>\n",
       "  <tbody>\n",
       "    <tr>\n",
       "      <th>after:politics</th>\n",
       "      <td>400</td>\n",
       "      <td>400</td>\n",
       "      <td>400</td>\n",
       "      <td>400</td>\n",
       "      <td>400</td>\n",
       "      <td>9</td>\n",
       "      <td>400</td>\n",
       "    </tr>\n",
       "    <tr>\n",
       "      <th>before:politics</th>\n",
       "      <td>400</td>\n",
       "      <td>400</td>\n",
       "      <td>400</td>\n",
       "      <td>400</td>\n",
       "      <td>400</td>\n",
       "      <td>6</td>\n",
       "      <td>400</td>\n",
       "    </tr>\n",
       "  </tbody>\n",
       "</table>\n",
       "</div>"
      ],
      "text/plain": [
       "                 random  bin  link  comment  raw_label  notes  label\n",
       "database                                                            \n",
       "after:politics      400  400   400      400        400      9    400\n",
       "before:politics     400  400   400      400        400      6    400"
      ]
     },
     "execution_count": 4,
     "metadata": {},
     "output_type": "execute_result"
    }
   ],
   "source": [
    "df.groupby('database').count()"
   ]
  },
  {
   "cell_type": "code",
   "execution_count": 5,
   "id": "59973c39",
   "metadata": {},
   "outputs": [],
   "source": [
    "pilot_df = df[df.database == database]"
   ]
  },
  {
   "cell_type": "markdown",
   "id": "1ffa9d5c",
   "metadata": {},
   "source": [
    "# Pilot estimate of p"
   ]
  },
  {
   "cell_type": "code",
   "execution_count": 6,
   "id": "5f374a36",
   "metadata": {},
   "outputs": [
    {
     "data": {
      "text/plain": [
       "0.08000000000000002"
      ]
     },
     "execution_count": 6,
     "metadata": {},
     "output_type": "execute_result"
    }
   ],
   "source": [
    "pilot_mean = 0.\n",
    "for i, group in pilot_df.groupby('bin'):\n",
    "    strata_mean = group[score_column].mean()\n",
    "    pilot_mean += strata_mean * (len(group) / len(pilot_df))\n",
    "pilot_mean"
   ]
  },
  {
   "cell_type": "markdown",
   "id": "14d2a8e3",
   "metadata": {},
   "source": [
    "# Allocation"
   ]
  },
  {
   "cell_type": "code",
   "execution_count": 7,
   "id": "09a4d9e9",
   "metadata": {},
   "outputs": [
    {
     "name": "stdout",
     "output_type": "stream",
     "text": [
      "2 (-0.00042699999999999997, 0.000759]\n",
      "3 (0.000759, 0.000938]\n",
      "3 (0.000938, 0.00128]\n",
      "3 (0.00128, 0.00217]\n",
      "2 (0.00217, 0.00678]\n",
      "3 (0.00678, 0.241]\n",
      "6 (0.241, 0.992]\n",
      "18 (0.992, 0.999]\n",
      "\n",
      "50 0.1923076923076923 455.1690191716224\n",
      "50 0.23316068563427197 551.8631070655798\n",
      "50 0.23316068563427197 551.8631070655798\n",
      "50 0.23316068563427197 551.8631070655798\n",
      "50 0.1923076923076923 455.1690191716224\n",
      "50 0.23316068563427197 551.8631070655798\n",
      "50 0.3194855331891567 756.1835672624027\n",
      "50 0.47574295680203776 1126.0259661320338\n"
     ]
    }
   ],
   "source": [
    "sizes_sigmas = []\n",
    "for i, group in pilot_df.groupby('bin'):\n",
    "    pilot = np.array(group[score_column])\n",
    "    # laplace smoothing\n",
    "    pilot = np.concatenate([np.array([1,0]), pilot])\n",
    "    print(pilot.sum(), i)\n",
    "    sizes_sigmas.append((len(group), np.std(pilot)))\n",
    "print()\n",
    "\n",
    "size = 5000\n",
    "allocations = []\n",
    "denominator = np.sum([ n_h * sigma_h for n_h, sigma_h in sizes_sigmas ])\n",
    "for n_h, sigma_h in sizes_sigmas:\n",
    "    n_from_bin = size * n_h * sigma_h / denominator\n",
    "    print(n_h, sigma_h, n_from_bin)\n",
    "    allocations.append(n_from_bin)"
   ]
  },
  {
   "cell_type": "code",
   "execution_count": 8,
   "id": "6df1e376",
   "metadata": {},
   "outputs": [
    {
     "data": {
      "text/plain": [
       "[1.0,\n",
       " 1.2124355652982144,\n",
       " 1.2124355652982144,\n",
       " 1.2124355652982144,\n",
       " 1.0,\n",
       " 1.2124355652982144,\n",
       " 1.661324772583615,\n",
       " 2.473863375370597]"
      ]
     },
     "execution_count": 8,
     "metadata": {},
     "output_type": "execute_result"
    }
   ],
   "source": [
    "minimum = np.min(allocations)\n",
    "multipliers = [ i / minimum for i in allocations ]\n",
    "multipliers"
   ]
  },
  {
   "cell_type": "code",
   "execution_count": 9,
   "id": "c0f39e14",
   "metadata": {
    "scrolled": true
   },
   "outputs": [
    {
     "name": "stdout",
     "output_type": "stream",
     "text": [
      "(-0.00042699999999999997, 0.000759] 50 455.1690191716224 0.02 0.019999999999999966\n",
      "(0.000759, 0.000938] 50 551.8631070655798 0.04 0.039183673469387774\n",
      "(0.000938, 0.00128] 50 551.8631070655798 0.04 0.03918367346938778\n",
      "(0.00128, 0.00217] 50 551.8631070655798 0.04 0.03918367346938779\n",
      "(0.00217, 0.00678] 50 455.1690191716224 0.02 0.019999999999999962\n",
      "(0.00678, 0.241] 50 551.8631070655798 0.04 0.03918367346938779\n",
      "(0.241, 0.992] 50 756.1835672624027 0.1 0.09183673469387751\n",
      "(0.992, 0.999] 50 1126.0259661320338 0.34 0.22897959183673466\n"
     ]
    },
    {
     "data": {
      "text/plain": [
       "('stddev of estimator: ', 0.0032993587829579494)"
      ]
     },
     "execution_count": 9,
     "metadata": {},
     "output_type": "execute_result"
    }
   ],
   "source": [
    "stratified_var = 0\n",
    "for (i, group), n_from_bin in zip(pilot_df.groupby('bin'), allocations):\n",
    "    print(i, len(group), n_from_bin, group[score_column].mean(), group[score_column].var())\n",
    "    \n",
    "    p = group[score_column].mean()\n",
    "    \n",
    "    # approximation when the groups are very large\n",
    "    stratified_var += np.square(len(group) / len(pilot_df)) * (group[score_column].var() / n_from_bin)\n",
    "'stddev of estimator: ', np.sqrt(stratified_var)"
   ]
  },
  {
   "cell_type": "code",
   "execution_count": 10,
   "id": "e01ecb51",
   "metadata": {},
   "outputs": [
    {
     "data": {
      "text/plain": [
       "0.013197435131831798"
      ]
     },
     "execution_count": 10,
     "metadata": {},
     "output_type": "execute_result"
    }
   ],
   "source": [
    "# detectable effect size:\n",
    "4 * np.sqrt(stratified_var)"
   ]
  },
  {
   "cell_type": "code",
   "execution_count": 11,
   "id": "32a06c5c",
   "metadata": {},
   "outputs": [
    {
     "name": "stdout",
     "output_type": "stream",
     "text": [
      "(-0.00042699999999999997, 0.000759] 50 1.0 0.02 0.019999999999999966\n",
      "(0.000759, 0.000938] 50 1.2124355652982144 0.04 0.039183673469387774\n",
      "(0.000938, 0.00128] 50 1.2124355652982144 0.04 0.03918367346938778\n",
      "(0.00128, 0.00217] 50 1.2124355652982144 0.04 0.03918367346938779\n",
      "(0.00217, 0.00678] 50 1.0 0.02 0.019999999999999962\n",
      "(0.00678, 0.241] 50 1.2124355652982144 0.04 0.03918367346938779\n",
      "(0.241, 0.992] 50 1.661324772583615 0.1 0.09183673469387751\n",
      "(0.992, 0.999] 50 2.473863375370597 0.34 0.22897959183673466\n"
     ]
    }
   ],
   "source": [
    "numerator = 0\n",
    "for (i, group), multip_h in zip(pilot_df.groupby('bin'), multipliers):\n",
    "    print(i, len(group), multip_h, group[score_column].mean(), group[score_column].var())\n",
    "    \n",
    "    # approximation when the groups are very large\n",
    "    numerator += np.square(len(group) / len(pilot_df)) * (group[score_column].var() / multip_h)"
   ]
  },
  {
   "cell_type": "markdown",
   "id": "3eba7881",
   "metadata": {},
   "source": [
    "# Power analysis"
   ]
  },
  {
   "cell_type": "code",
   "execution_count": 12,
   "id": "dd707f4a",
   "metadata": {},
   "outputs": [
    {
     "name": "stdout",
     "output_type": "stream",
     "text": [
      "0.08000000000000002 817 3267 13068 "
     ]
    }
   ],
   "source": [
    "p = pilot_mean\n",
    "print(p, end=' ')\n",
    "\n",
    "for within in [0.2, 0.1, 0.05]:\n",
    "    desired_ci = p * within\n",
    "\n",
    "    alpha = 0.05\n",
    "    z_statistic = stats.norm.ppf(1 - (alpha / 2))\n",
    "    desired_var = np.square(desired_ci / z_statistic)\n",
    "\n",
    "    minimum = numerator / desired_var\n",
    "    n = np.sum([minimum * multip for multip in multipliers])\n",
    "    print(int(n+1), end=' ')"
   ]
  }
 ],
 "metadata": {
  "kernelspec": {
   "display_name": "Python 3 (ipykernel)",
   "language": "python",
   "name": "python3"
  },
  "language_info": {
   "codemirror_mode": {
    "name": "ipython",
    "version": 3
   },
   "file_extension": ".py",
   "mimetype": "text/x-python",
   "name": "python",
   "nbconvert_exporter": "python",
   "pygments_lexer": "ipython3",
   "version": "3.8.13"
  }
 },
 "nbformat": 4,
 "nbformat_minor": 5
}
