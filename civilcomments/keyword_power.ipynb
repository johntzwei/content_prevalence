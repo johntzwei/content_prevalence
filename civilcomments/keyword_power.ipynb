{
 "cells": [
  {
   "cell_type": "code",
   "execution_count": 1,
   "id": "de6302fb",
   "metadata": {},
   "outputs": [],
   "source": [
    "import numpy as np\n",
    "import pandas as pd\n",
    "import seaborn as sns\n",
    "from scipy import stats\n",
    "import datasets\n",
    "from tqdm.notebook import tqdm\n",
    "\n",
    "import utils"
   ]
  },
  {
   "cell_type": "code",
   "execution_count": 2,
   "id": "a6c79ce9",
   "metadata": {},
   "outputs": [
    {
     "name": "stderr",
     "output_type": "stream",
     "text": [
      "Found cached dataset civil_comments (/home/johnny/.cache/huggingface/datasets/civil_comments/default/0.9.0/e7a3aacd2ab7d135fa958e7209d10b1fa03807d44c486e3c34897aa08ea8ffab)\n"
     ]
    },
    {
     "data": {
      "application/vnd.jupyter.widget-view+json": {
       "model_id": "9069851a9cdd49188c1906ac0c0af56a",
       "version_major": 2,
       "version_minor": 0
      },
      "text/plain": [
       "  0%|          | 0/3 [00:00<?, ?it/s]"
      ]
     },
     "metadata": {},
     "output_type": "display_data"
    },
    {
     "name": "stderr",
     "output_type": "stream",
     "text": [
      "Loading cached shuffled indices for dataset at /home/johnny/.cache/huggingface/datasets/civil_comments/default/0.9.0/e7a3aacd2ab7d135fa958e7209d10b1fa03807d44c486e3c34897aa08ea8ffab/cache-01f767df1b53d154.arrow\n",
      "Loading cached processed dataset at /home/johnny/.cache/huggingface/datasets/civil_comments/default/0.9.0/e7a3aacd2ab7d135fa958e7209d10b1fa03807d44c486e3c34897aa08ea8ffab/cache-52cd85a4b8b2e0c8.arrow\n",
      "Loading cached processed dataset at /home/johnny/.cache/huggingface/datasets/civil_comments/default/0.9.0/e7a3aacd2ab7d135fa958e7209d10b1fa03807d44c486e3c34897aa08ea8ffab/cache-9e6abfbab2489ee3.arrow\n"
     ]
    }
   ],
   "source": [
    "train_ds, valid_ds, test_ds = utils.load_dataset()"
   ]
  },
  {
   "cell_type": "code",
   "execution_count": 3,
   "id": "432b0e68",
   "metadata": {},
   "outputs": [],
   "source": [
    "keyword_labels = []\n",
    "keyword_list = [\"stupid\", \"idiot\", \"idiots\", \"stupidity\", \"pathetic\", \"crap\", \\\n",
    "                \"ignorant\", \"dumb\", \"moron\", \"fools\"]\n",
    "\n",
    "for line in test_ds['text']:\n",
    "    label = any(word in line for word in keyword_list)\n",
    "    keyword_labels.append(1 if label else 0)"
   ]
  },
  {
   "cell_type": "code",
   "execution_count": 4,
   "id": "c59d1202",
   "metadata": {},
   "outputs": [
    {
     "data": {
      "text/plain": [
       "array([0, 0, 1, ..., 0, 0, 0])"
      ]
     },
     "execution_count": 4,
     "metadata": {},
     "output_type": "execute_result"
    }
   ],
   "source": [
    "keyword_labels = np.array(keyword_labels)\n",
    "keyword_labels"
   ]
  },
  {
   "cell_type": "code",
   "execution_count": 5,
   "id": "e8d8c28c",
   "metadata": {},
   "outputs": [],
   "source": [
    "score_npy = 'scores/ngram.npy'\n",
    "score_column = 'scores'\n",
    "bins = 8\n",
    "cut = 'quantile'\n",
    "allocation = 'pilot'\n",
    "pilot_size = 50"
   ]
  },
  {
   "cell_type": "code",
   "execution_count": 6,
   "id": "84d8637b",
   "metadata": {},
   "outputs": [
    {
     "name": "stdout",
     "output_type": "stream",
     "text": [
      "1647864 1647864 1647864\n"
     ]
    }
   ],
   "source": [
    "unmoderated = (1 - keyword_labels).astype(bool)\n",
    "\n",
    "scores = np.load(score_npy)\n",
    "\n",
    "toxic = np.array(test_ds['label'])[unmoderated]\n",
    "toxicity = np.array(test_ds['toxicity'])[unmoderated]\n",
    "subset_scores = scores[unmoderated]\n",
    "\n",
    "print(len(toxic), len(toxicity), len(subset_scores))"
   ]
  },
  {
   "cell_type": "code",
   "execution_count": 7,
   "id": "ea135fa4",
   "metadata": {},
   "outputs": [
    {
     "data": {
      "text/html": [
       "<div>\n",
       "<style scoped>\n",
       "    .dataframe tbody tr th:only-of-type {\n",
       "        vertical-align: middle;\n",
       "    }\n",
       "\n",
       "    .dataframe tbody tr th {\n",
       "        vertical-align: top;\n",
       "    }\n",
       "\n",
       "    .dataframe thead th {\n",
       "        text-align: right;\n",
       "    }\n",
       "</style>\n",
       "<table border=\"1\" class=\"dataframe\">\n",
       "  <thead>\n",
       "    <tr style=\"text-align: right;\">\n",
       "      <th></th>\n",
       "      <th>toxicity</th>\n",
       "      <th>toxic</th>\n",
       "      <th>scores</th>\n",
       "    </tr>\n",
       "  </thead>\n",
       "  <tbody>\n",
       "    <tr>\n",
       "      <th>0</th>\n",
       "      <td>0.4</td>\n",
       "      <td>0</td>\n",
       "      <td>0.036676</td>\n",
       "    </tr>\n",
       "  </tbody>\n",
       "</table>\n",
       "</div>"
      ],
      "text/plain": [
       "   toxicity  toxic    scores\n",
       "0       0.4      0  0.036676"
      ]
     },
     "execution_count": 7,
     "metadata": {},
     "output_type": "execute_result"
    }
   ],
   "source": [
    "# labels = test_ds['toxicity']\n",
    "# scores = np.load(score_npy)\n",
    "df = pd.DataFrame(data={'toxicity' : toxicity, 'toxic' : toxic, 'scores' : subset_scores})\n",
    "df.head(1)"
   ]
  },
  {
   "cell_type": "code",
   "execution_count": 8,
   "id": "4769fb03",
   "metadata": {},
   "outputs": [
    {
     "data": {
      "text/plain": [
       "(67585, 0.041013700159721916)"
      ]
     },
     "execution_count": 8,
     "metadata": {},
     "output_type": "execute_result"
    }
   ],
   "source": [
    "df['toxic'].sum(), df['toxic'].mean()"
   ]
  },
  {
   "cell_type": "code",
   "execution_count": 9,
   "id": "d37b96aa",
   "metadata": {},
   "outputs": [],
   "source": [
    "size = 12192"
   ]
  },
  {
   "cell_type": "code",
   "execution_count": 10,
   "id": "35fde490",
   "metadata": {},
   "outputs": [
    {
     "data": {
      "text/plain": [
       "0.0017961111150782238"
      ]
     },
     "execution_count": 10,
     "metadata": {},
     "output_type": "execute_result"
    }
   ],
   "source": [
    "p = df['toxic'].mean()\n",
    "random_sampling_var = p * (1 - p)\n",
    "np.sqrt(random_sampling_var / size)"
   ]
  },
  {
   "cell_type": "markdown",
   "id": "1db15637",
   "metadata": {},
   "source": [
    "### Cutting"
   ]
  },
  {
   "cell_type": "code",
   "execution_count": 11,
   "id": "83157ddf",
   "metadata": {},
   "outputs": [],
   "source": [
    "def get_error(df):\n",
    "    sizes_sigmas = []\n",
    "    for i, group in df.groupby('bin'):\n",
    "        # to round up to 1\n",
    "        pilot = group['toxic']\n",
    "        sizes_sigmas.append((len(group), np.std(pilot)))\n",
    "\n",
    "    allocations = []\n",
    "    denominator = np.sum([ n_h * sigma_h for n_h, sigma_h in sizes_sigmas ])\n",
    "    for n_h, sigma_h in sizes_sigmas:\n",
    "        n_from_bin = size * n_h * sigma_h / denominator\n",
    "        allocations.append(n_from_bin)\n",
    "    \n",
    "    stratified_var = 0\n",
    "    for (i, group), n_from_bin in zip(df.groupby('bin'), allocations):\n",
    "\n",
    "        p = group['toxic'].mean()\n",
    "\n",
    "        # approximation when the groups are very large\n",
    "        stratified_var += np.square(len(group) / len(df)) * (group['toxic'].var() / n_from_bin)\n",
    "    return np.sqrt(stratified_var)"
   ]
  },
  {
   "cell_type": "code",
   "execution_count": 12,
   "id": "cf7ebb20",
   "metadata": {},
   "outputs": [],
   "source": [
    "def oracle_bins(df, depth=4):\n",
    "    minimum_bins = [0, 1]\n",
    "    minimum_err = 1\n",
    "    steps = 10\n",
    "\n",
    "    for level in range(1, depth+1):\n",
    "        if level == 1:\n",
    "            indexes = [1]\n",
    "        else:\n",
    "            indexes = list(range(1, level*2, 2))\n",
    "\n",
    "        for idx in indexes:\n",
    "            bins = minimum_bins.copy()\n",
    "            bins.insert(idx, 0)\n",
    "            lb, ub = bins[idx-1], bins[idx+1]\n",
    "\n",
    "            # print(lb + (ub-lb)/steps, ub)\n",
    "\n",
    "            for i in np.linspace( lb + (ub-lb)/steps, ub, steps, endpoint=False):\n",
    "                bins[idx] = i\n",
    "                df['bin'] = pd.qcut(df[score_column], bins)\n",
    "                new_err = get_error(df)\n",
    "                if new_err < minimum_err:\n",
    "                    minimum_err = new_err\n",
    "                    minimum_bins = bins.copy()\n",
    "\n",
    "    return minimum_bins"
   ]
  },
  {
   "cell_type": "code",
   "execution_count": 13,
   "id": "d208296c",
   "metadata": {},
   "outputs": [],
   "source": [
    "if cut == 'eqwidth':\n",
    "    minimum, maximum = df[score_column].min(), df[score_column].max()\n",
    "    df['bin'] = pd.cut(df[score_column], np.linspace(minimum, maximum, num=bins+1), include_lowest=True)\n",
    "elif cut == 'quantile':\n",
    "    df['bin'] = pd.qcut(df[score_column], np.linspace(0, 1, num=bins+1))\n",
    "elif cut == 'oracle':\n",
    "    depth = int(np.log(bins) / np.log(2))\n",
    "    b = oracle_bins(df, depth = depth)\n",
    "    df['bin'] = pd.qcut(df[score_column], b)"
   ]
  },
  {
   "cell_type": "markdown",
   "id": "14d2a8e3",
   "metadata": {},
   "source": [
    "### Allocation"
   ]
  },
  {
   "cell_type": "code",
   "execution_count": 14,
   "id": "09a4d9e9",
   "metadata": {},
   "outputs": [
    {
     "name": "stdout",
     "output_type": "stream",
     "text": [
      "205983 0.1373351620873625 1112.864117286445\n",
      "205983 0.1373351620873625 1112.864117286445\n",
      "205983 0.1373351620873625 1112.864117286445\n",
      "205983 0.1373351620873625 1112.864117286445\n",
      "205983 0.1923076923076923 1558.32145966562\n",
      "205983 0.1923076923076923 1558.32145966562\n",
      "205983 0.1923076923076923 1558.32145966562\n",
      "205983 0.3783137610174231 3065.579151857359\n"
     ]
    }
   ],
   "source": [
    "sizes_sigmas = []\n",
    "for i, group in df.groupby('bin'):\n",
    "    # to round up to 1\n",
    "    if allocation == 'pilot':\n",
    "        pilot = np.array(group['toxic'].sample(pilot_size + 2))\n",
    "        pilot[-1] = 1\n",
    "        pilot[-2] = 0\n",
    "    elif allocation == 'optimal':\n",
    "        pilot = group['toxic']\n",
    "    sizes_sigmas.append((len(group), np.std(pilot)))\n",
    "\n",
    "allocations = []\n",
    "denominator = np.sum([ n_h * sigma_h for n_h, sigma_h in sizes_sigmas ])\n",
    "for n_h, sigma_h in sizes_sigmas:\n",
    "    n_from_bin = size * n_h * sigma_h / denominator\n",
    "    print(n_h, sigma_h, n_from_bin)\n",
    "    allocations.append(n_from_bin)"
   ]
  },
  {
   "cell_type": "code",
   "execution_count": 15,
   "id": "6df1e376",
   "metadata": {},
   "outputs": [
    {
     "data": {
      "text/plain": [
       "[1.0,\n",
       " 1.0,\n",
       " 1.0,\n",
       " 1.0,\n",
       " 1.4002800840280099,\n",
       " 1.4002800840280099,\n",
       " 1.4002800840280099,\n",
       " 2.7546751703454344]"
      ]
     },
     "execution_count": 15,
     "metadata": {},
     "output_type": "execute_result"
    }
   ],
   "source": [
    "minimum = np.min(allocations)\n",
    "multipliers = [ i / minimum for i in allocations ]\n",
    "multipliers"
   ]
  },
  {
   "cell_type": "code",
   "execution_count": 16,
   "id": "c0f39e14",
   "metadata": {
    "scrolled": true
   },
   "outputs": [
    {
     "name": "stdout",
     "output_type": "stream",
     "text": [
      "(5.999999999999994e-05, 0.011] 205983 1112.864117286445 0.0011165970007233606 0.001115355626651028\n",
      "(0.011, 0.0153] 205983 1112.864117286445 0.0025244801755484676 0.0025181194002706925\n",
      "(0.0153, 0.0196] 205983 1112.864117286445 0.0041168445939713475 0.004099916088727541\n",
      "(0.0196, 0.0246] 205983 1112.864117286445 0.006553938917289291 0.006511016411429947\n",
      "(0.0246, 0.0315] 205983 1558.32145966562 0.010529995193778128 0.010419164977604187\n",
      "(0.0315, 0.0421] 205983 1558.32145966562 0.017690780307112724 0.017377900965017536\n",
      "(0.0421, 0.0698] 205983 1558.32145966562 0.04062471174805688 0.038974533755975586\n",
      "(0.0698, 1.0] 205983 3065.579151857359 0.24495225334129517 0.1849515448215782\n"
     ]
    },
    {
     "data": {
      "text/plain": [
       "('stderr: ', 0.0013461743583270652)"
      ]
     },
     "execution_count": 16,
     "metadata": {},
     "output_type": "execute_result"
    }
   ],
   "source": [
    "stratified_var = 0\n",
    "for (i, group), n_from_bin in zip(df.groupby('bin'), allocations):\n",
    "    print(i, len(group), n_from_bin, group['toxic'].mean(), group['toxic'].var())\n",
    "    \n",
    "    p = group['toxic'].mean()\n",
    "    \n",
    "    # approximation when the groups are very large\n",
    "    stratified_var += np.square(len(group) / len(df)) * (group['toxic'].var() / n_from_bin)\n",
    "'stderr: ', np.sqrt(stratified_var)"
   ]
  },
  {
   "cell_type": "code",
   "execution_count": 17,
   "id": "32a06c5c",
   "metadata": {},
   "outputs": [
    {
     "name": "stdout",
     "output_type": "stream",
     "text": [
      "(5.999999999999994e-05, 0.011] 205983 1.0 0.0011165970007233606 0.001115355626651028\n",
      "(0.011, 0.0153] 205983 1.0 0.0025244801755484676 0.0025181194002706925\n",
      "(0.0153, 0.0196] 205983 1.0 0.0041168445939713475 0.004099916088727541\n",
      "(0.0196, 0.0246] 205983 1.0 0.006553938917289291 0.006511016411429947\n",
      "(0.0246, 0.0315] 205983 1.4002800840280099 0.010529995193778128 0.010419164977604187\n",
      "(0.0315, 0.0421] 205983 1.4002800840280099 0.017690780307112724 0.017377900965017536\n",
      "(0.0421, 0.0698] 205983 1.4002800840280099 0.04062471174805688 0.038974533755975586\n",
      "(0.0698, 1.0] 205983 2.7546751703454344 0.24495225334129517 0.1849515448215782\n"
     ]
    }
   ],
   "source": [
    "numerator = 0\n",
    "for (i, group), multip_h in zip(df.groupby('bin'), multipliers):\n",
    "    print(i, len(group), multip_h, group['toxic'].mean(), group['toxic'].var())\n",
    "    \n",
    "    # approximation when the groups are very large\n",
    "    numerator += np.square(len(group) / len(df)) * (group['toxic'].var() / multip_h)"
   ]
  },
  {
   "cell_type": "code",
   "execution_count": 18,
   "id": "dd707f4a",
   "metadata": {},
   "outputs": [
    {
     "name": "stdout",
     "output_type": "stream",
     "text": [
      "0.041013700159721916 1262 5046 20183 "
     ]
    }
   ],
   "source": [
    "p = df.toxic.mean()\n",
    "print(p, end=' ')\n",
    "\n",
    "for within in [0.2, 0.1, 0.05]:\n",
    "    desired_ci = p * within\n",
    "\n",
    "    alpha = 0.05\n",
    "    z_statistic = stats.norm.ppf(1 - (alpha / 2))\n",
    "    desired_var = np.square(desired_ci / z_statistic)\n",
    "\n",
    "    minimum = numerator / desired_var\n",
    "    n = np.sum([minimum * multip for multip in multipliers])\n",
    "    print(int(n+1), end=' ')"
   ]
  },
  {
   "cell_type": "code",
   "execution_count": 19,
   "id": "50be7333",
   "metadata": {},
   "outputs": [],
   "source": [
    "cached_groupby = list(df.groupby('bin'))"
   ]
  },
  {
   "cell_type": "code",
   "execution_count": 20,
   "id": "6c8b1346",
   "metadata": {},
   "outputs": [
    {
     "name": "stdout",
     "output_type": "stream",
     "text": [
      "0.041013700159721916 "
     ]
    },
    {
     "data": {
      "application/vnd.jupyter.widget-view+json": {
       "model_id": "5df3a421b4dd458c98350c54e62a649c",
       "version_major": 2,
       "version_minor": 0
      },
      "text/plain": [
       "  0%|          | 0/1000 [00:00<?, ?it/s]"
      ]
     },
     "metadata": {},
     "output_type": "display_data"
    },
    {
     "name": "stdout",
     "output_type": "stream",
     "text": [
      "1243 46.468472699753356 "
     ]
    },
    {
     "data": {
      "application/vnd.jupyter.widget-view+json": {
       "model_id": "d294fef671d94fcab388bb6192298466",
       "version_major": 2,
       "version_minor": 0
      },
      "text/plain": [
       "  0%|          | 0/1000 [00:00<?, ?it/s]"
      ]
     },
     "metadata": {},
     "output_type": "display_data"
    },
    {
     "name": "stdout",
     "output_type": "stream",
     "text": [
      "4972 189.1469129474968 "
     ]
    },
    {
     "data": {
      "application/vnd.jupyter.widget-view+json": {
       "model_id": "e9246c92727c4941b3f47f3b5ea3f350",
       "version_major": 2,
       "version_minor": 0
      },
      "text/plain": [
       "  0%|          | 0/1000 [00:00<?, ?it/s]"
      ]
     },
     "metadata": {},
     "output_type": "display_data"
    },
    {
     "name": "stdout",
     "output_type": "stream",
     "text": [
      "19879 726.2383724460425 "
     ]
    }
   ],
   "source": [
    "p = df.toxic.mean()\n",
    "print(p, end=' ')\n",
    "\n",
    "for within in [0.2, 0.1, 0.05]:\n",
    "    ns = []\n",
    "    for i in tqdm(range(0, 1000)):\n",
    "        sizes_sigmas = []\n",
    "        for i, group in cached_groupby:\n",
    "            # to round up to 1\n",
    "            pilot = np.array(group['toxic'].sample(pilot_size+1))\n",
    "            pilot[-1] = 1\n",
    "\n",
    "            sizes_sigmas.append((len(group), np.std(pilot)))\n",
    "\n",
    "        allocations = []\n",
    "        denominator = np.sum([ n_h * sigma_h for n_h, sigma_h in sizes_sigmas ])\n",
    "        for n_h, sigma_h in sizes_sigmas:\n",
    "            proportion = n_h * sigma_h / denominator\n",
    "            allocations.append(proportion)\n",
    "            \n",
    "        \n",
    "        numerator = 0\n",
    "        for (i, group), multip_h in zip(cached_groupby, allocations):\n",
    "            # approximation when the groups are very large\n",
    "            numerator += np.square(len(group) / len(df)) * (group['toxic'].var() / multip_h)\n",
    "\n",
    "        desired_ci = p * within\n",
    "\n",
    "        alpha = 0.05\n",
    "        z_statistic = stats.norm.ppf(1 - (alpha / 2))\n",
    "        desired_var = np.square(desired_ci / z_statistic)\n",
    "\n",
    "        minimum = numerator / desired_var\n",
    "        l = [minimum * multip for multip in allocations]\n",
    "        l = [ np.max([pilot_size, n]) for n in l ]\n",
    "        n = np.sum(l)\n",
    "        ns.append(n)\n",
    "    print(int(np.mean(ns)+1), np.std(ns), end=' ')"
   ]
  }
 ],
 "metadata": {
  "kernelspec": {
   "display_name": "Python 3 (ipykernel)",
   "language": "python",
   "name": "python3"
  },
  "language_info": {
   "codemirror_mode": {
    "name": "ipython",
    "version": 3
   },
   "file_extension": ".py",
   "mimetype": "text/x-python",
   "name": "python",
   "nbconvert_exporter": "python",
   "pygments_lexer": "ipython3",
   "version": "3.8.13"
  }
 },
 "nbformat": 4,
 "nbformat_minor": 5
}
