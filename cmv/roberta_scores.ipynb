{
 "cells": [
  {
   "cell_type": "code",
   "execution_count": 1,
   "id": "338a5654",
   "metadata": {},
   "outputs": [
    {
     "name": "stderr",
     "output_type": "stream",
     "text": [
      "2023-01-17 02:25:25.234899: W tensorflow/stream_executor/platform/default/dso_loader.cc:64] Could not load dynamic library 'libcudart.so.11.0'; dlerror: libcudart.so.11.0: cannot open shared object file: No such file or directory; LD_LIBRARY_PATH: /usr/local/cuda-10.1/lib64\n",
      "2023-01-17 02:25:25.234943: I tensorflow/stream_executor/cuda/cudart_stub.cc:29] Ignore above cudart dlerror if you do not have a GPU set up on your machine.\n"
     ]
    }
   ],
   "source": [
    "import numpy as np\n",
    "import scipy\n",
    "import seaborn as sns\n",
    "import datasets\n",
    "from datasets import Dataset\n",
    "import evaluate\n",
    "import torch\n",
    "from tqdm.notebook import tqdm\n",
    "import pickle\n",
    "import os\n",
    "os.environ['WANDB_DISABLED'] = 'true'\n",
    "\n",
    "import utils\n",
    "\n",
    "from transformers import AutoTokenizer, AutoModelForSequenceClassification\n",
    "from transformers import Trainer, TrainingArguments"
   ]
  },
  {
   "cell_type": "code",
   "execution_count": 2,
   "id": "e5b7ec9f",
   "metadata": {
    "scrolled": true
   },
   "outputs": [],
   "source": [
    "device = 'cuda' if torch.cuda.is_available() else 'cpu' "
   ]
  },
  {
   "cell_type": "code",
   "execution_count": 3,
   "id": "e21b09d0",
   "metadata": {},
   "outputs": [],
   "source": [
    "data = pickle.load(open('training_data.pkl', 'rb'))\n",
    "data = {'text': [i[0] for i in data], 'label' : [i[1] for i in data]}\n",
    "dataset = Dataset.from_dict(data)"
   ]
  },
  {
   "cell_type": "code",
   "execution_count": 4,
   "id": "d5b6e271",
   "metadata": {},
   "outputs": [],
   "source": [
    "# train_ds, valid_ds, test_ds = utils.load_dataset()\n",
    "dataset = dataset.shuffle(seed=0)"
   ]
  },
  {
   "cell_type": "code",
   "execution_count": 5,
   "id": "e429d90a",
   "metadata": {},
   "outputs": [
    {
     "data": {
      "text/plain": [
       "'\\ntokenizer = AutoTokenizer.from_pretrained(\"roberta-base\")\\ndef tokenize_function(examples):\\n    return tokenizer(examples[\"text\"], padding=\\'do_not_pad\\')\\n\\ntokenized_ds = ds.map(tokenize_function, batched=True)\\nlengths = np.array([len(i[\\'input_ids\\']) for i in tokenized_ds[\\'validation\\']])\\nnp.quantile(lengths, [0.90]) = 168\\n'"
      ]
     },
     "execution_count": 5,
     "metadata": {},
     "output_type": "execute_result"
    }
   ],
   "source": [
    "'''\n",
    "tokenizer = AutoTokenizer.from_pretrained(\"roberta-base\")\n",
    "def tokenize_function(examples):\n",
    "    return tokenizer(examples[\"text\"], padding='do_not_pad')\n",
    "\n",
    "tokenized_ds = ds.map(tokenize_function, batched=True)\n",
    "lengths = np.array([len(i['input_ids']) for i in tokenized_ds['validation']])\n",
    "np.quantile(lengths, [0.90]) = 168\n",
    "'''"
   ]
  },
  {
   "cell_type": "code",
   "execution_count": 6,
   "id": "eb1cb71f",
   "metadata": {},
   "outputs": [
    {
     "name": "stdout",
     "output_type": "stream",
     "text": [
      "100000\n",
      "4364\n"
     ]
    }
   ],
   "source": [
    "labels = np.array(dataset['label'])\n",
    "num_minority = np.sum(labels == 1)\n",
    "\n",
    "np.random.seed(0)\n",
    "\n",
    "indexes = []\n",
    "for label in [0, 1]:\n",
    "    idx = np.arange(len(labels))\n",
    "    idx = idx[labels == label]\n",
    "    \n",
    "    print(len(idx))\n",
    "    sample = np.random.choice(idx, size=num_minority, replace=False)\n",
    "    indexes.append(sample)"
   ]
  },
  {
   "cell_type": "code",
   "execution_count": 7,
   "id": "ccf145b3",
   "metadata": {
    "scrolled": true
   },
   "outputs": [
    {
     "data": {
      "text/plain": [
       "Dataset({\n",
       "    features: ['text', 'label'],\n",
       "    num_rows: 8728\n",
       "})"
      ]
     },
     "execution_count": 7,
     "metadata": {},
     "output_type": "execute_result"
    }
   ],
   "source": [
    "indexes = np.concatenate(indexes)\n",
    "balanced_dataset = dataset.select(indexes)\n",
    "balanced_dataset"
   ]
  },
  {
   "cell_type": "code",
   "execution_count": 8,
   "id": "e89a9d6e",
   "metadata": {},
   "outputs": [],
   "source": [
    "splits = balanced_dataset.train_test_split(test_size=0.1)\n",
    "train_ds = splits['train']\n",
    "valid_ds = splits['test']"
   ]
  },
  {
   "cell_type": "code",
   "execution_count": 9,
   "id": "3707f16d",
   "metadata": {},
   "outputs": [
    {
     "data": {
      "application/vnd.jupyter.widget-view+json": {
       "model_id": "ec69d56099a14036ab054da293363acf",
       "version_major": 2,
       "version_minor": 0
      },
      "text/plain": [
       "  0%|          | 0/8 [00:00<?, ?ba/s]"
      ]
     },
     "metadata": {},
     "output_type": "display_data"
    },
    {
     "data": {
      "application/vnd.jupyter.widget-view+json": {
       "model_id": "36c0dc06340b4a77b0639ad36948a985",
       "version_major": 2,
       "version_minor": 0
      },
      "text/plain": [
       "  0%|          | 0/1 [00:00<?, ?ba/s]"
      ]
     },
     "metadata": {},
     "output_type": "display_data"
    }
   ],
   "source": [
    "tokenizer = AutoTokenizer.from_pretrained(\"roberta-base\")\n",
    "def tokenize_function(examples):\n",
    "    return tokenizer(examples[\"text\"], padding=\"max_length\", max_length=168, truncation=True)\n",
    "\n",
    "tokenized_train = train_ds.map(tokenize_function, batched=True)\n",
    "tokenized_valid = valid_ds.map(tokenize_function, batched=True)"
   ]
  },
  {
   "cell_type": "code",
   "execution_count": 10,
   "id": "6c9b49cd",
   "metadata": {},
   "outputs": [
    {
     "data": {
      "text/plain": [
       "0.498026734563972"
      ]
     },
     "execution_count": 10,
     "metadata": {},
     "output_type": "execute_result"
    }
   ],
   "source": [
    "tokenized_train.set_format(type=\"torch\", columns=[\"input_ids\", \"attention_mask\", \"label\"])\n",
    "np.mean(tokenized_train['label'].numpy())"
   ]
  },
  {
   "cell_type": "code",
   "execution_count": 11,
   "id": "55575672",
   "metadata": {},
   "outputs": [
    {
     "data": {
      "text/plain": [
       "0.5177548682703322"
      ]
     },
     "execution_count": 11,
     "metadata": {},
     "output_type": "execute_result"
    }
   ],
   "source": [
    "tokenized_valid.set_format(type=\"torch\", columns=[\"input_ids\", \"attention_mask\", \"label\"])\n",
    "np.mean(tokenized_valid['label'].numpy())"
   ]
  },
  {
   "cell_type": "code",
   "execution_count": 12,
   "id": "ae86b29f",
   "metadata": {},
   "outputs": [
    {
     "name": "stderr",
     "output_type": "stream",
     "text": [
      "Some weights of the model checkpoint at roberta-base were not used when initializing RobertaForSequenceClassification: ['lm_head.layer_norm.bias', 'lm_head.layer_norm.weight', 'lm_head.dense.weight', 'lm_head.dense.bias', 'lm_head.decoder.weight', 'lm_head.bias', 'roberta.pooler.dense.bias', 'roberta.pooler.dense.weight']\n",
      "- This IS expected if you are initializing RobertaForSequenceClassification from the checkpoint of a model trained on another task or with another architecture (e.g. initializing a BertForSequenceClassification model from a BertForPreTraining model).\n",
      "- This IS NOT expected if you are initializing RobertaForSequenceClassification from the checkpoint of a model that you expect to be exactly identical (initializing a BertForSequenceClassification model from a BertForSequenceClassification model).\n",
      "Some weights of RobertaForSequenceClassification were not initialized from the model checkpoint at roberta-base and are newly initialized: ['classifier.dense.weight', 'classifier.out_proj.weight', 'classifier.dense.bias', 'classifier.out_proj.bias']\n",
      "You should probably TRAIN this model on a down-stream task to be able to use it for predictions and inference.\n"
     ]
    }
   ],
   "source": [
    "model = AutoModelForSequenceClassification.from_pretrained('roberta-base')"
   ]
  },
  {
   "cell_type": "code",
   "execution_count": 13,
   "id": "063a8e7e",
   "metadata": {},
   "outputs": [
    {
     "name": "stderr",
     "output_type": "stream",
     "text": [
      "Using the `WANDB_DISABLED` environment variable is deprecated and will be removed in v5. Use the --report_to flag to control the integrations used for logging result (for instance --report_to none).\n"
     ]
    }
   ],
   "source": [
    "training_args = TrainingArguments(output_dir=\"trainer\",\n",
    "                                  max_steps=1000,\n",
    "                                  per_device_train_batch_size=32,\n",
    "                                  evaluation_strategy='steps',\n",
    "                                  eval_steps=100,\n",
    "                                  save_strategy='no',\n",
    "                                  num_train_epochs=1,\n",
    "                                 )"
   ]
  },
  {
   "cell_type": "code",
   "execution_count": 14,
   "id": "470fbc6b",
   "metadata": {},
   "outputs": [],
   "source": [
    "metric = evaluate.load(\"roc_auc\")\n",
    "\n",
    "def compute_metrics(eval_pred):\n",
    "    logits, labels = eval_pred\n",
    "    batch_scores = scipy.special.softmax(logits, axis=-1)\n",
    "    return metric.compute(prediction_scores=batch_scores[:,1], references=labels)"
   ]
  },
  {
   "cell_type": "code",
   "execution_count": 15,
   "id": "5e37d2d4",
   "metadata": {},
   "outputs": [
    {
     "name": "stderr",
     "output_type": "stream",
     "text": [
      "max_steps is given, it will override any value given in num_train_epochs\n"
     ]
    }
   ],
   "source": [
    "trainer = Trainer(\n",
    "    model=model,\n",
    "    args=training_args,\n",
    "    train_dataset=tokenized_train,\n",
    "    eval_dataset=tokenized_valid,\n",
    "    compute_metrics=compute_metrics,\n",
    ")"
   ]
  },
  {
   "cell_type": "code",
   "execution_count": 16,
   "id": "b5318b6b",
   "metadata": {},
   "outputs": [
    {
     "name": "stderr",
     "output_type": "stream",
     "text": [
      "The following columns in the training set don't have a corresponding argument in `RobertaForSequenceClassification.forward` and have been ignored: text. If text are not expected by `RobertaForSequenceClassification.forward`,  you can safely ignore this message.\n",
      "/home/johnny/.conda/envs/torch/lib/python3.8/site-packages/transformers/optimization.py:306: FutureWarning: This implementation of AdamW is deprecated and will be removed in a future version. Use the PyTorch implementation torch.optim.AdamW instead, or set `no_deprecation_warning=True` to disable this warning\n",
      "  warnings.warn(\n",
      "***** Running training *****\n",
      "  Num examples = 7855\n",
      "  Num Epochs = 5\n",
      "  Instantaneous batch size per device = 32\n",
      "  Total train batch size (w. parallel, distributed & accumulation) = 32\n",
      "  Gradient Accumulation steps = 1\n",
      "  Total optimization steps = 1000\n"
     ]
    },
    {
     "data": {
      "text/html": [
       "\n",
       "    <div>\n",
       "      \n",
       "      <progress value='1000' max='1000' style='width:300px; height:20px; vertical-align: middle;'></progress>\n",
       "      [1000/1000 08:39, Epoch 4/5]\n",
       "    </div>\n",
       "    <table border=\"1\" class=\"dataframe\">\n",
       "  <thead>\n",
       " <tr style=\"text-align: left;\">\n",
       "      <th>Step</th>\n",
       "      <th>Training Loss</th>\n",
       "      <th>Validation Loss</th>\n",
       "      <th>Roc Auc</th>\n",
       "    </tr>\n",
       "  </thead>\n",
       "  <tbody>\n",
       "    <tr>\n",
       "      <td>100</td>\n",
       "      <td>No log</td>\n",
       "      <td>0.277721</td>\n",
       "      <td>0.958453</td>\n",
       "    </tr>\n",
       "    <tr>\n",
       "      <td>200</td>\n",
       "      <td>No log</td>\n",
       "      <td>0.262655</td>\n",
       "      <td>0.964113</td>\n",
       "    </tr>\n",
       "    <tr>\n",
       "      <td>300</td>\n",
       "      <td>No log</td>\n",
       "      <td>0.246393</td>\n",
       "      <td>0.965261</td>\n",
       "    </tr>\n",
       "    <tr>\n",
       "      <td>400</td>\n",
       "      <td>No log</td>\n",
       "      <td>0.354772</td>\n",
       "      <td>0.965916</td>\n",
       "    </tr>\n",
       "    <tr>\n",
       "      <td>500</td>\n",
       "      <td>0.281000</td>\n",
       "      <td>0.236016</td>\n",
       "      <td>0.969825</td>\n",
       "    </tr>\n",
       "    <tr>\n",
       "      <td>600</td>\n",
       "      <td>0.281000</td>\n",
       "      <td>0.300783</td>\n",
       "      <td>0.969347</td>\n",
       "    </tr>\n",
       "    <tr>\n",
       "      <td>700</td>\n",
       "      <td>0.281000</td>\n",
       "      <td>0.333815</td>\n",
       "      <td>0.969594</td>\n",
       "    </tr>\n",
       "    <tr>\n",
       "      <td>800</td>\n",
       "      <td>0.281000</td>\n",
       "      <td>0.395433</td>\n",
       "      <td>0.960469</td>\n",
       "    </tr>\n",
       "    <tr>\n",
       "      <td>900</td>\n",
       "      <td>0.281000</td>\n",
       "      <td>0.430769</td>\n",
       "      <td>0.963829</td>\n",
       "    </tr>\n",
       "    <tr>\n",
       "      <td>1000</td>\n",
       "      <td>0.088300</td>\n",
       "      <td>0.417295</td>\n",
       "      <td>0.966000</td>\n",
       "    </tr>\n",
       "  </tbody>\n",
       "</table><p>"
      ],
      "text/plain": [
       "<IPython.core.display.HTML object>"
      ]
     },
     "metadata": {},
     "output_type": "display_data"
    },
    {
     "name": "stderr",
     "output_type": "stream",
     "text": [
      "The following columns in the evaluation set don't have a corresponding argument in `RobertaForSequenceClassification.forward` and have been ignored: text. If text are not expected by `RobertaForSequenceClassification.forward`,  you can safely ignore this message.\n",
      "***** Running Evaluation *****\n",
      "  Num examples = 873\n",
      "  Batch size = 8\n",
      "The following columns in the evaluation set don't have a corresponding argument in `RobertaForSequenceClassification.forward` and have been ignored: text. If text are not expected by `RobertaForSequenceClassification.forward`,  you can safely ignore this message.\n",
      "***** Running Evaluation *****\n",
      "  Num examples = 873\n",
      "  Batch size = 8\n",
      "The following columns in the evaluation set don't have a corresponding argument in `RobertaForSequenceClassification.forward` and have been ignored: text. If text are not expected by `RobertaForSequenceClassification.forward`,  you can safely ignore this message.\n",
      "***** Running Evaluation *****\n",
      "  Num examples = 873\n",
      "  Batch size = 8\n",
      "The following columns in the evaluation set don't have a corresponding argument in `RobertaForSequenceClassification.forward` and have been ignored: text. If text are not expected by `RobertaForSequenceClassification.forward`,  you can safely ignore this message.\n",
      "***** Running Evaluation *****\n",
      "  Num examples = 873\n",
      "  Batch size = 8\n",
      "The following columns in the evaluation set don't have a corresponding argument in `RobertaForSequenceClassification.forward` and have been ignored: text. If text are not expected by `RobertaForSequenceClassification.forward`,  you can safely ignore this message.\n",
      "***** Running Evaluation *****\n",
      "  Num examples = 873\n",
      "  Batch size = 8\n",
      "The following columns in the evaluation set don't have a corresponding argument in `RobertaForSequenceClassification.forward` and have been ignored: text. If text are not expected by `RobertaForSequenceClassification.forward`,  you can safely ignore this message.\n",
      "***** Running Evaluation *****\n",
      "  Num examples = 873\n",
      "  Batch size = 8\n",
      "The following columns in the evaluation set don't have a corresponding argument in `RobertaForSequenceClassification.forward` and have been ignored: text. If text are not expected by `RobertaForSequenceClassification.forward`,  you can safely ignore this message.\n",
      "***** Running Evaluation *****\n",
      "  Num examples = 873\n",
      "  Batch size = 8\n",
      "The following columns in the evaluation set don't have a corresponding argument in `RobertaForSequenceClassification.forward` and have been ignored: text. If text are not expected by `RobertaForSequenceClassification.forward`,  you can safely ignore this message.\n",
      "***** Running Evaluation *****\n",
      "  Num examples = 873\n",
      "  Batch size = 8\n",
      "The following columns in the evaluation set don't have a corresponding argument in `RobertaForSequenceClassification.forward` and have been ignored: text. If text are not expected by `RobertaForSequenceClassification.forward`,  you can safely ignore this message.\n",
      "***** Running Evaluation *****\n",
      "  Num examples = 873\n",
      "  Batch size = 8\n",
      "The following columns in the evaluation set don't have a corresponding argument in `RobertaForSequenceClassification.forward` and have been ignored: text. If text are not expected by `RobertaForSequenceClassification.forward`,  you can safely ignore this message.\n",
      "***** Running Evaluation *****\n",
      "  Num examples = 873\n",
      "  Batch size = 8\n",
      "\n",
      "\n",
      "Training completed. Do not forget to share your model on huggingface.co/models =)\n",
      "\n",
      "\n"
     ]
    },
    {
     "data": {
      "text/plain": [
       "TrainOutput(global_step=1000, training_loss=0.1846529006958008, metrics={'train_runtime': 520.4482, 'train_samples_per_second': 61.485, 'train_steps_per_second': 1.921, 'total_flos': 2756795415857280.0, 'train_loss': 0.1846529006958008, 'epoch': 4.07})"
      ]
     },
     "execution_count": 16,
     "metadata": {},
     "output_type": "execute_result"
    }
   ],
   "source": [
    "trainer.train()"
   ]
  },
  {
   "cell_type": "code",
   "execution_count": 17,
   "id": "5c107402",
   "metadata": {},
   "outputs": [],
   "source": [
    "def _evaluate(model, val_dataloader):\n",
    "    model.eval()\n",
    "    val_pbar = tqdm(total=len(val_dataloader))\n",
    "\n",
    "    scores = []\n",
    "    for batch in val_dataloader:\n",
    "        batch = {k: v.to(device) for k, v in batch.items()}\n",
    "        labels = batch['label']\n",
    "        del(batch['label'])\n",
    "        with torch.no_grad():\n",
    "            outputs = model(**batch)\n",
    "        logits = outputs.logits\n",
    "        predictions = torch.argmax(logits, dim=-1).cpu().tolist()\n",
    "\n",
    "        batch_scores = torch.nn.Softmax()(logits)[:,-1]\n",
    "        scores.append(batch_scores)\n",
    "\n",
    "        metric.add_batch(prediction_scores=batch_scores, references=labels)\n",
    "        val_pbar.update(1)\n",
    "    eval_dict = metric.compute()\n",
    "    val_pbar.set_description('Roc_auc: %.2f' % eval_dict['roc_auc'])\n",
    "\n",
    "    eval_dict['predictions'] = torch.cat(scores)\n",
    "\n",
    "    return eval_dict"
   ]
  },
  {
   "cell_type": "code",
   "execution_count": 18,
   "id": "c44566a6",
   "metadata": {},
   "outputs": [],
   "source": [
    "#tokenized_test = test_ds.map(tokenize_function, batched=True)\n",
    "#tokenized_test.set_format(type=\"torch\", columns=[\"input_ids\", \"attention_mask\", \"label\"])\n",
    "\n",
    "#val_dataloader = torch.utils.data.DataLoader(tokenized_test, shuffle=False, batch_size=16,# pin_memory=True)\n",
    "#eval_dict = _evaluate(model, val_dataloader)"
   ]
  },
  {
   "cell_type": "code",
   "execution_count": 19,
   "id": "b7c381d4",
   "metadata": {
    "scrolled": true
   },
   "outputs": [],
   "source": [
    "#predictions = eval_dict['predictions'].cpu().numpy()\n",
    "#np.save('scores/roberta_balanced', predictions)"
   ]
  },
  {
   "cell_type": "code",
   "execution_count": 20,
   "id": "4f33c693",
   "metadata": {},
   "outputs": [
    {
     "name": "stderr",
     "output_type": "stream",
     "text": [
      "Saving model checkpoint to ./roberta_balanced\n",
      "Configuration saved in ./roberta_balanced/config.json\n",
      "Model weights saved in ./roberta_balanced/pytorch_model.bin\n"
     ]
    }
   ],
   "source": [
    "trainer.save_model('./roberta_balanced')"
   ]
  }
 ],
 "metadata": {
  "kernelspec": {
   "display_name": "Python 3 (ipykernel)",
   "language": "python",
   "name": "python3"
  },
  "language_info": {
   "codemirror_mode": {
    "name": "ipython",
    "version": 3
   },
   "file_extension": ".py",
   "mimetype": "text/x-python",
   "name": "python",
   "nbconvert_exporter": "python",
   "pygments_lexer": "ipython3",
   "version": "3.8.13"
  }
 },
 "nbformat": 4,
 "nbformat_minor": 5
}
