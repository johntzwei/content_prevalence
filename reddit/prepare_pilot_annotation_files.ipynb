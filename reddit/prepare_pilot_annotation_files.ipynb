{
 "cells": [
  {
   "cell_type": "code",
   "execution_count": 1,
   "id": "b81660a8",
   "metadata": {},
   "outputs": [],
   "source": [
    "import sqlite3\n",
    "import pandas as pd\n",
    "import numpy as np\n",
    "\n",
    "import transformers\n",
    "from transformers import AutoModelForSequenceClassification\n",
    "import torch\n",
    "from tqdm.notebook import tqdm\n",
    "import seaborn as sns\n",
    "import random"
   ]
  },
  {
   "cell_type": "code",
   "execution_count": 2,
   "id": "058f2dbe",
   "metadata": {},
   "outputs": [],
   "source": [
    "names = ['politics', 'wow', 'sex', 'pcmasterrace', 'askreddit', 'legaladvice']\n",
    "score_column = 'score'\n",
    "bins = 8\n",
    "num_pilot = 50"
   ]
  },
  {
   "cell_type": "code",
   "execution_count": 3,
   "id": "570d8017",
   "metadata": {},
   "outputs": [],
   "source": [
    "# make pilot samples\n",
    "data = []\n",
    "\n",
    "for db_name in names:\n",
    "    df = pd.read_csv('./%s.csv' % db_name, header=0)\n",
    "    \n",
    "    df = df[~(df.comment == '[removed]')]\n",
    "    df = df[~(df.comment == '[deleted]')]\n",
    "    \n",
    "    df['bin'] = pd.qcut(df[score_column], np.linspace(0, 1, num=bins+1))\n",
    "\n",
    "    for i, g in df.groupby('bin'):\n",
    "        shuffled_g = g.sample(frac=1., random_state=119)\n",
    "\n",
    "        for j in range(0, num_pilot):\n",
    "            row = shuffled_g.iloc[j]\n",
    "\n",
    "            data.append([str(random.random()), db_name, str(i), row['url'],\n",
    "                            row['comment'].replace('\\t', ' ').replace('\\n', '///')])"
   ]
  },
  {
   "cell_type": "code",
   "execution_count": 4,
   "id": "f012c2f4",
   "metadata": {},
   "outputs": [
    {
     "data": {
      "text/plain": [
       "2400"
      ]
     },
     "execution_count": 4,
     "metadata": {},
     "output_type": "execute_result"
    }
   ],
   "source": [
    "len(data)"
   ]
  },
  {
   "cell_type": "code",
   "execution_count": 5,
   "id": "df131ce7",
   "metadata": {},
   "outputs": [],
   "source": [
    "pd.DataFrame(data).to_csv('t.csv', header=None, index=None)"
   ]
  }
 ],
 "metadata": {
  "kernelspec": {
   "display_name": "Python 3 (ipykernel)",
   "language": "python",
   "name": "python3"
  },
  "language_info": {
   "codemirror_mode": {
    "name": "ipython",
    "version": 3
   },
   "file_extension": ".py",
   "mimetype": "text/x-python",
   "name": "python",
   "nbconvert_exporter": "python",
   "pygments_lexer": "ipython3",
   "version": "3.8.13"
  }
 },
 "nbformat": 4,
 "nbformat_minor": 5
}
