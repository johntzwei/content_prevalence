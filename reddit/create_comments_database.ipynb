{
 "cells": [
  {
   "cell_type": "code",
   "execution_count": 1,
   "id": "27e9f11f",
   "metadata": {},
   "outputs": [],
   "source": [
    "import pandas as pd\n",
    "from sqlalchemy import create_engine, MetaData, Table, Column, Integer, String, Text\n",
    "from sqlalchemy.orm import Session\n",
    "from tqdm.notebook import tqdm"
   ]
  },
  {
   "cell_type": "code",
   "execution_count": 2,
   "id": "36145216",
   "metadata": {},
   "outputs": [],
   "source": [
    "setting = 4"
   ]
  },
  {
   "cell_type": "code",
   "execution_count": 23,
   "id": "475b454b",
   "metadata": {},
   "outputs": [],
   "source": [
    "if setting == 1 or setting == 2:    \n",
    "    df = pd.read_csv('./raw/ids_2020-06.csv', header=None)\n",
    "    df.columns = ['submission_id', 'subreddit_id', 'created_utc', 'subreddit', 'url']\n",
    "    print(len(df))\n",
    "\n",
    "    df2 = pd.read_csv('./raw/ids_2020-07.csv', header=None)\n",
    "    df2.columns = ['submission_id', 'subreddit_id', 'created_utc', 'subreddit', 'url']\n",
    "    print(len(df2))\n",
    "    \n",
    "    all_df = pd.concat([df, df2])\n",
    "    print(len(all_df))\n",
    "if setting >= 3:\n",
    "    all_df = pd.read_csv('./raw/ids_2022-12.csv', header=None)\n",
    "    all_df.columns = ['submission_id', 'subreddit_id', 'created_utc', 'subreddit', 'url']\n",
    "    print(len(all_df))"
   ]
  },
  {
   "cell_type": "code",
   "execution_count": 22,
   "id": "4f6b80e9",
   "metadata": {},
   "outputs": [],
   "source": [
    "if setting == 1:\n",
    "    db_name = 'before:politics.db'\n",
    "    subreddit = 'politics'\n",
    "    seed = 0\n",
    "    # Mon Jun 08 2020 07:00:00 GMT+0000\n",
    "    after_utc = 1591599600\n",
    "    # Mon Jun 29 2020 07:00:00 GMT+0000\n",
    "    before_utc = 1593414000\n",
    "elif setting == 2:\n",
    "    db_name = 'after:politics.db'\n",
    "    subreddit = 'politics'\n",
    "    seed = 0\n",
    "    # Mon Jun 29 2020 07:00:00 GMT+0000\n",
    "    after_utc = 1593414000\n",
    "    # Sun Jul 20 2020 07:00:00 GMT+0000\n",
    "    before_utc = 1595228400\n",
    "elif setting == 3:\n",
    "    db_name = 'askreddit.db'\n",
    "    subreddit = 'AskReddit'\n",
    "    seed = 0\n",
    "    after_utc = None\n",
    "    before_utc = None"
   ]
  },
  {
   "cell_type": "code",
   "execution_count": 24,
   "id": "aff4b939",
   "metadata": {},
   "outputs": [
    {
     "name": "stdout",
     "output_type": "stream",
     "text": [
      "15978\n",
      "15978\n"
     ]
    },
    {
     "data": {
      "text/html": [
       "<div>\n",
       "<style scoped>\n",
       "    .dataframe tbody tr th:only-of-type {\n",
       "        vertical-align: middle;\n",
       "    }\n",
       "\n",
       "    .dataframe tbody tr th {\n",
       "        vertical-align: top;\n",
       "    }\n",
       "\n",
       "    .dataframe thead th {\n",
       "        text-align: right;\n",
       "    }\n",
       "</style>\n",
       "<table border=\"1\" class=\"dataframe\">\n",
       "  <thead>\n",
       "    <tr style=\"text-align: right;\">\n",
       "      <th></th>\n",
       "      <th>submission_id</th>\n",
       "      <th>subreddit_id</th>\n",
       "      <th>created_utc</th>\n",
       "      <th>subreddit</th>\n",
       "      <th>url</th>\n",
       "    </tr>\n",
       "  </thead>\n",
       "  <tbody>\n",
       "    <tr>\n",
       "      <th>883</th>\n",
       "      <td>z97vv4</td>\n",
       "      <td>t5_2rawz</td>\n",
       "      <td>1669852837</td>\n",
       "      <td>legaladvice</td>\n",
       "      <td>https://www.reddit.com/r/legaladvice/comments/...</td>\n",
       "    </tr>\n",
       "    <tr>\n",
       "      <th>1856</th>\n",
       "      <td>z97wv9</td>\n",
       "      <td>t5_2rawz</td>\n",
       "      <td>1669852899</td>\n",
       "      <td>legaladvice</td>\n",
       "      <td>https://www.reddit.com/r/legaladvice/comments/...</td>\n",
       "    </tr>\n",
       "    <tr>\n",
       "      <th>2521</th>\n",
       "      <td>z97xk3</td>\n",
       "      <td>t5_2rawz</td>\n",
       "      <td>1669852944</td>\n",
       "      <td>legaladvice</td>\n",
       "      <td>https://www.reddit.com/r/legaladvice/comments/...</td>\n",
       "    </tr>\n",
       "    <tr>\n",
       "      <th>2543</th>\n",
       "      <td>z97xkz</td>\n",
       "      <td>t5_2rawz</td>\n",
       "      <td>1669852946</td>\n",
       "      <td>legaladvice</td>\n",
       "      <td>NaN</td>\n",
       "    </tr>\n",
       "    <tr>\n",
       "      <th>4228</th>\n",
       "      <td>z97zdd</td>\n",
       "      <td>t5_2rawz</td>\n",
       "      <td>1669853065</td>\n",
       "      <td>legaladvice</td>\n",
       "      <td>https://www.reddit.com/r/legaladvice/comments/...</td>\n",
       "    </tr>\n",
       "    <tr>\n",
       "      <th>...</th>\n",
       "      <td>...</td>\n",
       "      <td>...</td>\n",
       "      <td>...</td>\n",
       "      <td>...</td>\n",
       "      <td>...</td>\n",
       "    </tr>\n",
       "    <tr>\n",
       "      <th>35666517</th>\n",
       "      <td>1006jp5</td>\n",
       "      <td>t5_2rawz</td>\n",
       "      <td>1672529409</td>\n",
       "      <td>legaladvice</td>\n",
       "      <td>https://www.reddit.com/r/legaladvice/comments/...</td>\n",
       "    </tr>\n",
       "    <tr>\n",
       "      <th>35673954</th>\n",
       "      <td>1006q9j</td>\n",
       "      <td>t5_2rawz</td>\n",
       "      <td>1672529981</td>\n",
       "      <td>legaladvice</td>\n",
       "      <td>https://www.reddit.com/r/legaladvice/comments/...</td>\n",
       "    </tr>\n",
       "    <tr>\n",
       "      <th>35676630</th>\n",
       "      <td>1006sn3</td>\n",
       "      <td>t5_2rawz</td>\n",
       "      <td>1672530186</td>\n",
       "      <td>legaladvice</td>\n",
       "      <td>https://www.reddit.com/r/legaladvice/comments/...</td>\n",
       "    </tr>\n",
       "    <tr>\n",
       "      <th>35676766</th>\n",
       "      <td>1006srm</td>\n",
       "      <td>t5_2rawz</td>\n",
       "      <td>1672530196</td>\n",
       "      <td>legaladvice</td>\n",
       "      <td>https://www.reddit.com/r/legaladvice/comments/...</td>\n",
       "    </tr>\n",
       "    <tr>\n",
       "      <th>35677604</th>\n",
       "      <td>1006tic</td>\n",
       "      <td>t5_2rawz</td>\n",
       "      <td>1672530264</td>\n",
       "      <td>legaladvice</td>\n",
       "      <td>https://www.reddit.com/r/legaladvice/comments/...</td>\n",
       "    </tr>\n",
       "  </tbody>\n",
       "</table>\n",
       "<p>15978 rows × 5 columns</p>\n",
       "</div>"
      ],
      "text/plain": [
       "         submission_id subreddit_id  created_utc    subreddit  \\\n",
       "883             z97vv4     t5_2rawz   1669852837  legaladvice   \n",
       "1856            z97wv9     t5_2rawz   1669852899  legaladvice   \n",
       "2521            z97xk3     t5_2rawz   1669852944  legaladvice   \n",
       "2543            z97xkz     t5_2rawz   1669852946  legaladvice   \n",
       "4228            z97zdd     t5_2rawz   1669853065  legaladvice   \n",
       "...                ...          ...          ...          ...   \n",
       "35666517       1006jp5     t5_2rawz   1672529409  legaladvice   \n",
       "35673954       1006q9j     t5_2rawz   1672529981  legaladvice   \n",
       "35676630       1006sn3     t5_2rawz   1672530186  legaladvice   \n",
       "35676766       1006srm     t5_2rawz   1672530196  legaladvice   \n",
       "35677604       1006tic     t5_2rawz   1672530264  legaladvice   \n",
       "\n",
       "                                                        url  \n",
       "883       https://www.reddit.com/r/legaladvice/comments/...  \n",
       "1856      https://www.reddit.com/r/legaladvice/comments/...  \n",
       "2521      https://www.reddit.com/r/legaladvice/comments/...  \n",
       "2543                                                    NaN  \n",
       "4228      https://www.reddit.com/r/legaladvice/comments/...  \n",
       "...                                                     ...  \n",
       "35666517  https://www.reddit.com/r/legaladvice/comments/...  \n",
       "35673954  https://www.reddit.com/r/legaladvice/comments/...  \n",
       "35676630  https://www.reddit.com/r/legaladvice/comments/...  \n",
       "35676766  https://www.reddit.com/r/legaladvice/comments/...  \n",
       "35677604  https://www.reddit.com/r/legaladvice/comments/...  \n",
       "\n",
       "[15978 rows x 5 columns]"
      ]
     },
     "execution_count": 24,
     "metadata": {},
     "output_type": "execute_result"
    }
   ],
   "source": [
    "df = all_df\n",
    "\n",
    "if subreddit:\n",
    "    df = df[df.subreddit == subreddit]\n",
    "    print(len(df)) \n",
    "    \n",
    "df = df.drop_duplicates('submission_id')\n",
    "print(len(df)) \n",
    "\n",
    "if before_utc:\n",
    "    df = df[df.created_utc < before_utc]\n",
    "    print(len(df))\n",
    "    \n",
    "if after_utc:\n",
    "    df = df[df.created_utc > after_utc]\n",
    "    print(len(df)) \n",
    "    \n",
    "df"
   ]
  },
  {
   "cell_type": "code",
   "execution_count": 25,
   "id": "d80b54eb",
   "metadata": {},
   "outputs": [],
   "source": [
    "# create submissions database\n",
    "engine = create_engine('sqlite:///%s' % db_name, echo = False)\n",
    "meta = MetaData()\n",
    "\n",
    "submissions_table = Table(\n",
    "   'submissions', meta, \n",
    "    Column('id', String, primary_key=True),\n",
    "    Column('status', Integer),\n",
    ")\n",
    "meta.create_all(engine)"
   ]
  },
  {
   "cell_type": "code",
   "execution_count": 26,
   "id": "47b3f446",
   "metadata": {},
   "outputs": [
    {
     "data": {
      "application/vnd.jupyter.widget-view+json": {
       "model_id": "6d2e1159a93a4082a96a20c038aef335",
       "version_major": 2,
       "version_minor": 0
      },
      "text/plain": [
       "  0%|          | 0/15978 [00:00<?, ?it/s]"
      ]
     },
     "metadata": {},
     "output_type": "display_data"
    }
   ],
   "source": [
    "session = Session(engine)\n",
    "\n",
    "with session.begin():\n",
    "    for i, row in tqdm(df.sample(frac=1, random_state=seed).iterrows(), total=len(df)):\n",
    "        ins = submissions_table.insert().values(id=row['submission_id'], status=0)\n",
    "        session.execute(ins)"
   ]
  },
  {
   "cell_type": "code",
   "execution_count": 27,
   "id": "b3480b3a",
   "metadata": {},
   "outputs": [
    {
     "name": "stdout",
     "output_type": "stream",
     "text": [
      "2023-01-21 02:51:48,378 INFO sqlalchemy.engine.Engine BEGIN (implicit)\n",
      "2023-01-21 02:51:48,379 INFO sqlalchemy.engine.Engine PRAGMA main.table_info(\"comments\")\n",
      "2023-01-21 02:51:48,380 INFO sqlalchemy.engine.Engine [raw sql] ()\n",
      "2023-01-21 02:51:48,398 INFO sqlalchemy.engine.Engine PRAGMA temp.table_info(\"comments\")\n",
      "2023-01-21 02:51:48,400 INFO sqlalchemy.engine.Engine [raw sql] ()\n",
      "2023-01-21 02:51:48,402 INFO sqlalchemy.engine.Engine \n",
      "CREATE TABLE comments (\n",
      "\tcomment_id VARCHAR NOT NULL, \n",
      "\tsubmission_id VARCHAR, \n",
      "\turl VARCHAR, \n",
      "\tcomment TEXT, \n",
      "\tPRIMARY KEY (comment_id)\n",
      ")\n",
      "\n",
      "\n",
      "2023-01-21 02:51:48,403 INFO sqlalchemy.engine.Engine [no key 0.00138s] ()\n",
      "2023-01-21 02:51:48,425 INFO sqlalchemy.engine.Engine COMMIT\n"
     ]
    }
   ],
   "source": [
    "# create comments database\n",
    "engine = create_engine('sqlite:///%s' % db_name, echo = True)\n",
    "meta = MetaData()\n",
    "\n",
    "students = Table(\n",
    "   'comments', meta, \n",
    "    Column('comment_id', String, primary_key=True),\n",
    "    Column('submission_id', String),\n",
    "    Column('url', String),\n",
    "    Column('comment', Text),    \n",
    ")\n",
    "meta.create_all(engine)"
   ]
  },
  {
   "cell_type": "code",
   "execution_count": 28,
   "id": "be6adf01",
   "metadata": {},
   "outputs": [
    {
     "data": {
      "text/html": [
       "<div>\n",
       "<style scoped>\n",
       "    .dataframe tbody tr th:only-of-type {\n",
       "        vertical-align: middle;\n",
       "    }\n",
       "\n",
       "    .dataframe tbody tr th {\n",
       "        vertical-align: top;\n",
       "    }\n",
       "\n",
       "    .dataframe thead th {\n",
       "        text-align: right;\n",
       "    }\n",
       "</style>\n",
       "<table border=\"1\" class=\"dataframe\">\n",
       "  <thead>\n",
       "    <tr style=\"text-align: right;\">\n",
       "      <th></th>\n",
       "      <th>submission_id</th>\n",
       "      <th>subreddit_id</th>\n",
       "      <th>created_utc</th>\n",
       "      <th>subreddit</th>\n",
       "      <th>url</th>\n",
       "    </tr>\n",
       "  </thead>\n",
       "  <tbody>\n",
       "    <tr>\n",
       "      <th>883</th>\n",
       "      <td>z97vv4</td>\n",
       "      <td>t5_2rawz</td>\n",
       "      <td>1669852837</td>\n",
       "      <td>legaladvice</td>\n",
       "      <td>https://www.reddit.com/r/legaladvice/comments/...</td>\n",
       "    </tr>\n",
       "  </tbody>\n",
       "</table>\n",
       "</div>"
      ],
      "text/plain": [
       "    submission_id subreddit_id  created_utc    subreddit  \\\n",
       "883        z97vv4     t5_2rawz   1669852837  legaladvice   \n",
       "\n",
       "                                                   url  \n",
       "883  https://www.reddit.com/r/legaladvice/comments/...  "
      ]
     },
     "execution_count": 28,
     "metadata": {},
     "output_type": "execute_result"
    }
   ],
   "source": [
    "df.head(1)"
   ]
  },
  {
   "cell_type": "code",
   "execution_count": 29,
   "id": "e74ce7f0",
   "metadata": {},
   "outputs": [],
   "source": [
    "counts = pd.DataFrame(df['subreddit'].value_counts())"
   ]
  },
  {
   "cell_type": "code",
   "execution_count": 30,
   "id": "86dedc9c",
   "metadata": {},
   "outputs": [
    {
     "name": "stdout",
     "output_type": "stream",
     "text": [
      "legaladvice 15978\n"
     ]
    }
   ],
   "source": [
    "for i, j in counts.head(100).iterrows():\n",
    "    print(i, j.iloc[0])"
   ]
  }
 ],
 "metadata": {
  "kernelspec": {
   "display_name": "Python 3 (ipykernel)",
   "language": "python",
   "name": "python3"
  },
  "language_info": {
   "codemirror_mode": {
    "name": "ipython",
    "version": 3
   },
   "file_extension": ".py",
   "mimetype": "text/x-python",
   "name": "python",
   "nbconvert_exporter": "python",
   "pygments_lexer": "ipython3",
   "version": "3.8.13"
  }
 },
 "nbformat": 4,
 "nbformat_minor": 5
}
