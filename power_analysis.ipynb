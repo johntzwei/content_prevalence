{
 "cells": [
  {
   "cell_type": "code",
   "execution_count": 1,
   "metadata": {
    "id": "OhsSCd1SbKBu"
   },
   "outputs": [],
   "source": [
    "import numpy as np\n",
    "import scipy\n",
    "from scipy import stats"
   ]
  },
  {
   "cell_type": "code",
   "execution_count": 2,
   "metadata": {},
   "outputs": [],
   "source": [
    "def calculate_n(var, desired_ci, alpha=0.05):\n",
    "    z_statistic = stats.norm.ppf(1 - (alpha / 2))\n",
    "    se_squared = np.square(desired_ci / z_statistic)\n",
    "    n = var / se_squared\n",
    "    return n"
   ]
  },
  {
   "cell_type": "code",
   "execution_count": 3,
   "metadata": {
    "id": "d8elM22mbN7_"
   },
   "outputs": [],
   "source": [
    "def calculate_ci(n, p, alpha=0.05):\n",
    "    var = p * (1 - p)\n",
    "    stderr = np.sqrt(var / n)\n",
    "    ci = stats.norm.ppf(1 - (alpha / 2)) * stderr\n",
    "    return ci"
   ]
  },
  {
   "cell_type": "code",
   "execution_count": 4,
   "metadata": {
    "colab": {
     "base_uri": "https://localhost:8080/"
    },
    "id": "Ej-2gcuqMZlB",
    "outputId": "296d50e7-38b9-4c49-adca-983629cbf07f"
   },
   "outputs": [
    {
     "name": "stdout",
     "output_type": "stream",
     "text": [
      "0.2 385 1537 6147 \n",
      "0.1 865 3458 13830 \n",
      "0.08 1105 4418 17671 \n",
      "0.059 1532 6127 24508 \n",
      "0.01 9508 38031 152122 \n",
      "0.001 95941 383762 1535047 \n",
      "0.0001 960269 3841075 15364299 \n"
     ]
    }
   ],
   "source": [
    "for p in [0.2, 0.1, 0.08, 0.059, 0.01, 0.001, 0.0001]:\n",
    "    print(p, end=' ')\n",
    "    for within in [0.2, 0.1, 0.05]:\n",
    "        desired_ci = p * within     # within 5 percent of p\n",
    "        var = p * (1 - p)\n",
    "        \n",
    "        n = calculate_n(var, desired_ci)\n",
    "        print(int(n)+1, end=' ')\n",
    "    print()"
   ]
  },
  {
   "cell_type": "code",
   "execution_count": 5,
   "metadata": {
    "colab": {
     "base_uri": "https://localhost:8080/"
    },
    "id": "MlXOqw8CP-Uv",
    "outputId": "f4fb965a-a9dd-4c8b-8a39-074edfe6391f"
   },
   "outputs": [
    {
     "data": {
      "text/plain": [
       "0.005899904316404775"
      ]
     },
     "execution_count": 5,
     "metadata": {},
     "output_type": "execute_result"
    }
   ],
   "source": [
    "calculate_ci(6127, 0.059)"
   ]
  },
  {
   "cell_type": "code",
   "execution_count": 6,
   "metadata": {},
   "outputs": [
    {
     "data": {
      "text/plain": [
       "1143.2181450385715"
      ]
     },
     "execution_count": 6,
     "metadata": {},
     "output_type": "execute_result"
    }
   ],
   "source": [
    "calculate_n(0.00744, 0.005)"
   ]
  },
  {
   "cell_type": "code",
   "execution_count": 7,
   "metadata": {
    "colab": {
     "base_uri": "https://localhost:8080/"
    },
    "id": "PMWjC4TAVUTp",
    "outputId": "1f57ba31-e775-4a83-a122-658bd8b0926c"
   },
   "outputs": [
    {
     "name": "stdout",
     "output_type": "stream",
     "text": [
      "0.1 0.2 2827.3136920308752\n",
      "0.01 0.2 30485.817201028578\n",
      "0.001 0.2 307070.85229100555\n",
      "0.0001 0.2 3072921.203190775\n"
     ]
    }
   ],
   "source": [
    "for pow in range(1, 5):\n",
    "    proportion_captured = 0.2\n",
    "    p = 10 ** -pow\n",
    "    desired_ci = p * 0.1      # within 5 percent of p\n",
    "\n",
    "    alpha = 0.05\n",
    "    remaining_p = p * (1-proportion_captured)             \n",
    "    var = remaining_p * (1 - remaining_p)\n",
    "    n = (var / np.square(desired_ci / stats.norm.ppf(1 - (alpha / 2))))\n",
    "    print(p, proportion_captured, n)"
   ]
  }
 ],
 "metadata": {
  "colab": {
   "provenance": []
  },
  "kernelspec": {
   "display_name": "Python 3 (ipykernel)",
   "language": "python",
   "name": "python3"
  },
  "language_info": {
   "codemirror_mode": {
    "name": "ipython",
    "version": 3
   },
   "file_extension": ".py",
   "mimetype": "text/x-python",
   "name": "python",
   "nbconvert_exporter": "python",
   "pygments_lexer": "ipython3",
   "version": "3.8.13"
  }
 },
 "nbformat": 4,
 "nbformat_minor": 1
}
