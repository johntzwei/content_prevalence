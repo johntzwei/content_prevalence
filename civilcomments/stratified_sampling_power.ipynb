{
 "cells": [
  {
   "cell_type": "code",
   "execution_count": 1,
   "id": "de6302fb",
   "metadata": {},
   "outputs": [],
   "source": [
    "import numpy as np\n",
    "import pandas as pd\n",
    "import seaborn as sns\n",
    "from scipy import stats\n",
    "import datasets\n",
    "from tqdm.notebook import tqdm\n",
    "\n",
    "import utils"
   ]
  },
  {
   "cell_type": "code",
   "execution_count": 2,
   "id": "a6c79ce9",
   "metadata": {},
   "outputs": [
    {
     "name": "stderr",
     "output_type": "stream",
     "text": [
      "Found cached dataset civil_comments (/home/johnny/.cache/huggingface/datasets/civil_comments/default/0.9.0/e7a3aacd2ab7d135fa958e7209d10b1fa03807d44c486e3c34897aa08ea8ffab)\n"
     ]
    },
    {
     "data": {
      "application/vnd.jupyter.widget-view+json": {
       "model_id": "d312e760e0d246bfafd6736aa8a26547",
       "version_major": 2,
       "version_minor": 0
      },
      "text/plain": [
       "  0%|          | 0/3 [00:00<?, ?it/s]"
      ]
     },
     "metadata": {},
     "output_type": "display_data"
    }
   ],
   "source": [
    "train_ds, valid_ds, test_ds = utils.load_dataset()"
   ]
  },
  {
   "cell_type": "code",
   "execution_count": 3,
   "id": "e8d8c28c",
   "metadata": {},
   "outputs": [],
   "source": [
    "score_npy = 'scores/roberta_balanced.npy'\n",
    "score_column = 'scores'\n",
    "\n",
    "bins = 8\n",
    "cut = 'quantile'\n",
    "allocation = 'pilot'\n",
    "pilot_size = 50"
   ]
  },
  {
   "cell_type": "code",
   "execution_count": 4,
   "id": "5afea81e",
   "metadata": {},
   "outputs": [],
   "source": [
    "labels = test_ds['toxicity']\n",
    "scores = np.load(score_npy)\n",
    "df = pd.DataFrame(data={'toxicity' : labels, 'toxic' : test_ds['label'], 'scores' : scores})"
   ]
  },
  {
   "cell_type": "code",
   "execution_count": 5,
   "id": "ea135fa4",
   "metadata": {},
   "outputs": [
    {
     "data": {
      "text/html": [
       "<div>\n",
       "<style scoped>\n",
       "    .dataframe tbody tr th:only-of-type {\n",
       "        vertical-align: middle;\n",
       "    }\n",
       "\n",
       "    .dataframe tbody tr th {\n",
       "        vertical-align: top;\n",
       "    }\n",
       "\n",
       "    .dataframe thead th {\n",
       "        text-align: right;\n",
       "    }\n",
       "</style>\n",
       "<table border=\"1\" class=\"dataframe\">\n",
       "  <thead>\n",
       "    <tr style=\"text-align: right;\">\n",
       "      <th></th>\n",
       "      <th>toxicity</th>\n",
       "      <th>toxic</th>\n",
       "      <th>scores</th>\n",
       "    </tr>\n",
       "  </thead>\n",
       "  <tbody>\n",
       "    <tr>\n",
       "      <th>0</th>\n",
       "      <td>0.0</td>\n",
       "      <td>0</td>\n",
       "      <td>0.001761</td>\n",
       "    </tr>\n",
       "  </tbody>\n",
       "</table>\n",
       "</div>"
      ],
      "text/plain": [
       "   toxicity  toxic    scores\n",
       "0       0.0      0  0.001761"
      ]
     },
     "execution_count": 5,
     "metadata": {},
     "output_type": "execute_result"
    }
   ],
   "source": [
    "df.head(1)"
   ]
  },
  {
   "cell_type": "code",
   "execution_count": 6,
   "id": "4769fb03",
   "metadata": {},
   "outputs": [
    {
     "data": {
      "text/plain": [
       "(106438, 0.05897253769515213)"
      ]
     },
     "execution_count": 6,
     "metadata": {},
     "output_type": "execute_result"
    }
   ],
   "source": [
    "df['toxic'].sum(), df['toxic'].mean()"
   ]
  },
  {
   "cell_type": "code",
   "execution_count": 7,
   "id": "d37b96aa",
   "metadata": {},
   "outputs": [],
   "source": [
    "size = 12192"
   ]
  },
  {
   "cell_type": "code",
   "execution_count": 8,
   "id": "35fde490",
   "metadata": {},
   "outputs": [
    {
     "data": {
      "text/plain": [
       "0.002133480020786072"
      ]
     },
     "execution_count": 8,
     "metadata": {},
     "output_type": "execute_result"
    }
   ],
   "source": [
    "p = df['toxic'].mean()\n",
    "random_sampling_var = p * (1 - p)\n",
    "np.sqrt(random_sampling_var / size)"
   ]
  },
  {
   "cell_type": "markdown",
   "id": "1db15637",
   "metadata": {},
   "source": [
    "### Cutting"
   ]
  },
  {
   "cell_type": "code",
   "execution_count": 9,
   "id": "83157ddf",
   "metadata": {},
   "outputs": [],
   "source": [
    "def get_error(df):\n",
    "    sizes_sigmas = []\n",
    "    for i, group in df.groupby('bin'):\n",
    "        # to round up to 1\n",
    "        pilot = group['toxic']\n",
    "        sizes_sigmas.append((len(group), np.std(pilot)))\n",
    "\n",
    "    allocations = []\n",
    "    denominator = np.sum([ n_h * sigma_h for n_h, sigma_h in sizes_sigmas ])\n",
    "    for n_h, sigma_h in sizes_sigmas:\n",
    "        n_from_bin = size * n_h * sigma_h / denominator\n",
    "        allocations.append(n_from_bin)\n",
    "    \n",
    "    stratified_var = 0\n",
    "    for (i, group), n_from_bin in zip(df.groupby('bin'), allocations):\n",
    "\n",
    "        p = group['toxic'].mean()\n",
    "\n",
    "        # approximation when the groups are very large\n",
    "        stratified_var += np.square(len(group) / len(df)) * (group['toxic'].var() / n_from_bin)\n",
    "    return np.sqrt(stratified_var)"
   ]
  },
  {
   "cell_type": "code",
   "execution_count": 10,
   "id": "cf7ebb20",
   "metadata": {},
   "outputs": [],
   "source": [
    "def oracle_bins(df, depth=4):\n",
    "    minimum_bins = [0, 1]\n",
    "    minimum_err = 1\n",
    "    steps = 10\n",
    "\n",
    "    for level in range(1, depth+1):\n",
    "        if level == 1:\n",
    "            indexes = [1]\n",
    "        else:\n",
    "            indexes = list(range(1, level*2, 2))\n",
    "\n",
    "        for idx in indexes:\n",
    "            bins = minimum_bins.copy()\n",
    "            bins.insert(idx, 0)\n",
    "            lb, ub = bins[idx-1], bins[idx+1]\n",
    "\n",
    "            # print(lb + (ub-lb)/steps, ub)\n",
    "\n",
    "            for i in np.linspace( lb + (ub-lb)/steps, ub, steps, endpoint=False):\n",
    "                bins[idx] = i\n",
    "                df['bin'] = pd.qcut(df[score_column], bins)\n",
    "                new_err = get_error(df)\n",
    "                if new_err < minimum_err:\n",
    "                    minimum_err = new_err\n",
    "                    minimum_bins = bins.copy()\n",
    "\n",
    "    return minimum_bins"
   ]
  },
  {
   "cell_type": "code",
   "execution_count": 11,
   "id": "d208296c",
   "metadata": {},
   "outputs": [],
   "source": [
    "if cut == 'eqwidth':\n",
    "    minimum, maximum = df[score_column].min(), df[score_column].max()\n",
    "    df['bin'] = pd.cut(df[score_column], np.linspace(minimum, maximum, num=bins+1), include_lowest=True)\n",
    "elif cut == 'quantile':\n",
    "    df['bin'] = pd.qcut(df[score_column], np.linspace(0, 1, num=bins+1))\n",
    "elif cut == 'oracle':\n",
    "    depth = int(np.log(bins) / np.log(2))\n",
    "    b = oracle_bins(df, depth = depth)\n",
    "    df['bin'] = pd.qcut(df[score_column], b)"
   ]
  },
  {
   "cell_type": "markdown",
   "id": "14d2a8e3",
   "metadata": {},
   "source": [
    "### Allocation"
   ]
  },
  {
   "cell_type": "code",
   "execution_count": 12,
   "id": "09a4d9e9",
   "metadata": {},
   "outputs": [
    {
     "name": "stdout",
     "output_type": "stream",
     "text": [
      "225612 0.09900990099009901 903.0895550780031\n",
      "225607 0.09900990099009901 903.0695408598968\n",
      "225609 0.09900990099009901 903.0775465471393\n",
      "225609 0.09900990099009901 903.0775465471393\n",
      "225609 0.09900990099009901 903.0775465471393\n",
      "225609 0.09900990099009901 903.0775465471393\n",
      "225609 0.27006300390071003 2463.2671332556174\n",
      "225610 0.4725583985656127 4310.2635846179255\n"
     ]
    }
   ],
   "source": [
    "sizes_sigmas = []\n",
    "for i, group in df.groupby('bin'):\n",
    "    # to round up to 1\n",
    "    if allocation == 'pilot':\n",
    "        pilot = np.array(group['toxic'].sample(pilot_size + 2))\n",
    "        pilot[-1] = 1\n",
    "        pilot[-2] = 0\n",
    "    elif allocation == 'optimal':\n",
    "        pilot = group['toxic']\n",
    "    sizes_sigmas.append((len(group), np.std(pilot)))\n",
    "\n",
    "allocations = []\n",
    "denominator = np.sum([ n_h * sigma_h for n_h, sigma_h in sizes_sigmas ])\n",
    "for n_h, sigma_h in sizes_sigmas:\n",
    "    n_from_bin = size * n_h * sigma_h / denominator\n",
    "    print(n_h, sigma_h, n_from_bin)\n",
    "    allocations.append(n_from_bin)"
   ]
  },
  {
   "cell_type": "code",
   "execution_count": 13,
   "id": "6df1e376",
   "metadata": {},
   "outputs": [
    {
     "data": {
      "text/plain": [
       "[1.000022162432903,\n",
       " 1.0,\n",
       " 1.000008864973161,\n",
       " 1.000008864973161,\n",
       " 1.000008864973161,\n",
       " 1.000008864973161,\n",
       " 2.7276605198201134,\n",
       " 4.772903292158122]"
      ]
     },
     "execution_count": 13,
     "metadata": {},
     "output_type": "execute_result"
    }
   ],
   "source": [
    "minimum = np.min(allocations)\n",
    "multipliers = [ i / minimum for i in allocations ]\n",
    "multipliers"
   ]
  },
  {
   "cell_type": "code",
   "execution_count": 14,
   "id": "c0f39e14",
   "metadata": {
    "scrolled": true
   },
   "outputs": [
    {
     "name": "stdout",
     "output_type": "stream",
     "text": [
      "(0.0005200000000000001, 0.0018] 225612 903.0895550780031 0.0001772955339255004 0.0001772648859266667\n",
      "(0.0018, 0.00198] 225607 903.0695408598968 0.0005186009299356846 0.000518334280519157\n",
      "(0.00198, 0.0023] 225609 903.0775465471393 0.0008909219047112482 0.0008901321083340531\n",
      "(0.0023, 0.00306] 225609 903.0775465471393 0.0015336267613437406 0.0015312815376297766\n",
      "(0.00306, 0.00635] 225609 903.0775465471393 0.0032135242831624624 0.003203211742919281\n",
      "(0.00635, 0.0573] 225609 903.0775465471393 0.010473872939466068 0.010364216863925926\n",
      "(0.0573, 0.916] 225609 2463.2671332556174 0.04925335425448453 0.04682766891045865\n",
      "(0.916, 0.997] 225610 4310.2635846179255 0.4057178316563982 0.241111941443611\n"
     ]
    },
    {
     "data": {
      "text/plain": [
       "('stderr: ', 0.0012082062756475468)"
      ]
     },
     "execution_count": 14,
     "metadata": {},
     "output_type": "execute_result"
    }
   ],
   "source": [
    "stratified_var = 0\n",
    "for (i, group), n_from_bin in zip(df.groupby('bin'), allocations):\n",
    "    print(i, len(group), n_from_bin, group['toxic'].mean(), group['toxic'].var())\n",
    "    \n",
    "    p = group['toxic'].mean()\n",
    "    \n",
    "    # approximation when the groups are very large\n",
    "    stratified_var += np.square(len(group) / len(df)) * (group['toxic'].var() / n_from_bin)\n",
    "'stderr: ', np.sqrt(stratified_var)"
   ]
  },
  {
   "cell_type": "code",
   "execution_count": 15,
   "id": "32a06c5c",
   "metadata": {},
   "outputs": [
    {
     "name": "stdout",
     "output_type": "stream",
     "text": [
      "(0.0005200000000000001, 0.0018] 225612 1.000022162432903 0.0001772955339255004 0.0001772648859266667\n",
      "(0.0018, 0.00198] 225607 1.0 0.0005186009299356846 0.000518334280519157\n",
      "(0.00198, 0.0023] 225609 1.000008864973161 0.0008909219047112482 0.0008901321083340531\n",
      "(0.0023, 0.00306] 225609 1.000008864973161 0.0015336267613437406 0.0015312815376297766\n",
      "(0.00306, 0.00635] 225609 1.000008864973161 0.0032135242831624624 0.003203211742919281\n",
      "(0.00635, 0.0573] 225609 1.000008864973161 0.010473872939466068 0.010364216863925926\n",
      "(0.0573, 0.916] 225609 2.7276605198201134 0.04925335425448453 0.04682766891045865\n",
      "(0.916, 0.997] 225610 4.772903292158122 0.4057178316563982 0.241111941443611\n"
     ]
    }
   ],
   "source": [
    "numerator = 0\n",
    "for (i, group), multip_h in zip(df.groupby('bin'), multipliers):\n",
    "    print(i, len(group), multip_h, group['toxic'].mean(), group['toxic'].var())\n",
    "    \n",
    "    # approximation when the groups are very large\n",
    "    numerator += np.square(len(group) / len(df)) * (group['toxic'].var() / multip_h)"
   ]
  },
  {
   "cell_type": "code",
   "execution_count": 16,
   "id": "dd707f4a",
   "metadata": {},
   "outputs": [
    {
     "name": "stdout",
     "output_type": "stream",
     "text": [
      "0.05897253769515213 492 1966 7864 "
     ]
    }
   ],
   "source": [
    "p = 0.05897253769515213\n",
    "print(p, end=' ')\n",
    "\n",
    "for within in [0.2, 0.1, 0.05]:\n",
    "    desired_ci = p * within\n",
    "\n",
    "    alpha = 0.05\n",
    "    z_statistic = stats.norm.ppf(1 - (alpha / 2))\n",
    "    desired_var = np.square(desired_ci / z_statistic)\n",
    "\n",
    "    minimum = numerator / desired_var\n",
    "    n = np.sum([minimum * multip for multip in multipliers])\n",
    "    print(int(n+1), end=' ')"
   ]
  },
  {
   "cell_type": "code",
   "execution_count": 17,
   "id": "50be7333",
   "metadata": {},
   "outputs": [],
   "source": [
    "cached_groupby = list(df.groupby('bin'))"
   ]
  },
  {
   "cell_type": "code",
   "execution_count": 18,
   "id": "6c8b1346",
   "metadata": {},
   "outputs": [
    {
     "name": "stdout",
     "output_type": "stream",
     "text": [
      "0.05897253769515213 "
     ]
    },
    {
     "data": {
      "application/vnd.jupyter.widget-view+json": {
       "model_id": "243cfcc5a32143daba1c9207f52b610a",
       "version_major": 2,
       "version_minor": 0
      },
      "text/plain": [
       "  0%|          | 0/1000 [00:00<?, ?it/s]"
      ]
     },
     "metadata": {},
     "output_type": "display_data"
    },
    {
     "name": "stdout",
     "output_type": "stream",
     "text": [
      "571 15.260134694649501 "
     ]
    },
    {
     "data": {
      "application/vnd.jupyter.widget-view+json": {
       "model_id": "b774a25f42b34180af882a9097755b49",
       "version_major": 2,
       "version_minor": 0
      },
      "text/plain": [
       "  0%|          | 0/1000 [00:00<?, ?it/s]"
      ]
     },
     "metadata": {},
     "output_type": "display_data"
    },
    {
     "name": "stdout",
     "output_type": "stream",
     "text": [
      "2230 78.78822477266212 "
     ]
    },
    {
     "data": {
      "application/vnd.jupyter.widget-view+json": {
       "model_id": "d5a490d114714aa4a515face7f04ffd2",
       "version_major": 2,
       "version_minor": 0
      },
      "text/plain": [
       "  0%|          | 0/1000 [00:00<?, ?it/s]"
      ]
     },
     "metadata": {},
     "output_type": "display_data"
    },
    {
     "name": "stdout",
     "output_type": "stream",
     "text": [
      "8921 317.4244427512398 "
     ]
    }
   ],
   "source": [
    "p = 0.05897253769515213\n",
    "print(p, end=' ')\n",
    "\n",
    "for within in [0.2, 0.1, 0.05]:\n",
    "    ns = []\n",
    "    for i in tqdm(range(0, 1000)):\n",
    "        sizes_sigmas = []\n",
    "        for i, group in cached_groupby:\n",
    "            # to round up to 1\n",
    "            pilot = np.array(group['toxic'].sample(pilot_size+1))\n",
    "            pilot[-1] = 1\n",
    "\n",
    "            sizes_sigmas.append((len(group), np.std(pilot)))\n",
    "\n",
    "        allocations = []\n",
    "        denominator = np.sum([ n_h * sigma_h for n_h, sigma_h in sizes_sigmas ])\n",
    "        for n_h, sigma_h in sizes_sigmas:\n",
    "            proportion = n_h * sigma_h / denominator\n",
    "            allocations.append(proportion)\n",
    "            \n",
    "        \n",
    "        numerator = 0\n",
    "        for (i, group), multip_h in zip(cached_groupby, allocations):\n",
    "            # approximation when the groups are very large\n",
    "            numerator += np.square(len(group) / len(df)) * (group['toxic'].var() / multip_h)\n",
    "\n",
    "        desired_ci = p * within\n",
    "\n",
    "        alpha = 0.05\n",
    "        z_statistic = stats.norm.ppf(1 - (alpha / 2))\n",
    "        desired_var = np.square(desired_ci / z_statistic)\n",
    "\n",
    "        minimum = numerator / desired_var\n",
    "        l = [minimum * multip for multip in allocations]\n",
    "        l = [ np.max([pilot_size, n]) for n in l ]\n",
    "        n = np.sum(l)\n",
    "        ns.append(n)\n",
    "    print(int(np.mean(ns)+1), np.std(ns), end=' ')"
   ]
  }
 ],
 "metadata": {
  "kernelspec": {
   "display_name": "Python 3 (ipykernel)",
   "language": "python",
   "name": "python3"
  },
  "language_info": {
   "codemirror_mode": {
    "name": "ipython",
    "version": 3
   },
   "file_extension": ".py",
   "mimetype": "text/x-python",
   "name": "python",
   "nbconvert_exporter": "python",
   "pygments_lexer": "ipython3",
   "version": "3.8.13"
  }
 },
 "nbformat": 4,
 "nbformat_minor": 5
}
