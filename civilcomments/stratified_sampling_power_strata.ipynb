{
 "cells": [
  {
   "cell_type": "code",
   "execution_count": 92,
   "id": "de6302fb",
   "metadata": {},
   "outputs": [],
   "source": [
    "import numpy as np\n",
    "import pandas as pd\n",
    "import seaborn as sns\n",
    "sns.set()\n",
    "sns.set_context('paper', font_scale=0.65)\n",
    "sns.set_style('whitegrid', {'font.family':'serif', 'font.serif':'Times New Roman'})\n",
    "import matplotlib.pyplot as plt\n",
    "from scipy import stats\n",
    "import datasets\n",
    "from tqdm.notebook import tqdm\n",
    "\n",
    "import utils"
   ]
  },
  {
   "cell_type": "code",
   "execution_count": 2,
   "id": "a6c79ce9",
   "metadata": {},
   "outputs": [
    {
     "name": "stderr",
     "output_type": "stream",
     "text": [
      "Found cached dataset civil_comments (/home/johnny/.cache/huggingface/datasets/civil_comments/default/0.9.0/e7a3aacd2ab7d135fa958e7209d10b1fa03807d44c486e3c34897aa08ea8ffab)\n"
     ]
    },
    {
     "data": {
      "application/vnd.jupyter.widget-view+json": {
       "model_id": "d06fac18d0184e4db0ee3cacf5a74e7e",
       "version_major": 2,
       "version_minor": 0
      },
      "text/plain": [
       "  0%|          | 0/3 [00:00<?, ?it/s]"
      ]
     },
     "metadata": {},
     "output_type": "display_data"
    }
   ],
   "source": [
    "train_ds, valid_ds, test_ds = utils.load_dataset()"
   ]
  },
  {
   "cell_type": "code",
   "execution_count": 3,
   "id": "e8d8c28c",
   "metadata": {},
   "outputs": [],
   "source": [
    "score_npy = 'scores/roberta_balanced.npy'\n",
    "score_column = 'scores'\n",
    "\n",
    "bins = None\n",
    "cut = 'quantile'\n",
    "allocation = 'optimal'\n",
    "within = 0.2"
   ]
  },
  {
   "cell_type": "code",
   "execution_count": 4,
   "id": "5afea81e",
   "metadata": {},
   "outputs": [],
   "source": [
    "labels = test_ds['toxicity']\n",
    "scores = np.load(score_npy)\n",
    "df = pd.DataFrame(data={'toxicity' : labels, 'toxic' : test_ds['label'], 'scores' : scores})"
   ]
  },
  {
   "cell_type": "code",
   "execution_count": 5,
   "id": "ea135fa4",
   "metadata": {},
   "outputs": [
    {
     "data": {
      "text/html": [
       "<div>\n",
       "<style scoped>\n",
       "    .dataframe tbody tr th:only-of-type {\n",
       "        vertical-align: middle;\n",
       "    }\n",
       "\n",
       "    .dataframe tbody tr th {\n",
       "        vertical-align: top;\n",
       "    }\n",
       "\n",
       "    .dataframe thead th {\n",
       "        text-align: right;\n",
       "    }\n",
       "</style>\n",
       "<table border=\"1\" class=\"dataframe\">\n",
       "  <thead>\n",
       "    <tr style=\"text-align: right;\">\n",
       "      <th></th>\n",
       "      <th>toxicity</th>\n",
       "      <th>toxic</th>\n",
       "      <th>scores</th>\n",
       "    </tr>\n",
       "  </thead>\n",
       "  <tbody>\n",
       "    <tr>\n",
       "      <th>0</th>\n",
       "      <td>0.0</td>\n",
       "      <td>0</td>\n",
       "      <td>0.001761</td>\n",
       "    </tr>\n",
       "  </tbody>\n",
       "</table>\n",
       "</div>"
      ],
      "text/plain": [
       "   toxicity  toxic    scores\n",
       "0       0.0      0  0.001761"
      ]
     },
     "execution_count": 5,
     "metadata": {},
     "output_type": "execute_result"
    }
   ],
   "source": [
    "df.head(1)"
   ]
  },
  {
   "cell_type": "code",
   "execution_count": 6,
   "id": "4769fb03",
   "metadata": {},
   "outputs": [
    {
     "data": {
      "text/plain": [
       "(106438, 0.05897253769515213)"
      ]
     },
     "execution_count": 6,
     "metadata": {},
     "output_type": "execute_result"
    }
   ],
   "source": [
    "df['toxic'].sum(), df['toxic'].mean()"
   ]
  },
  {
   "cell_type": "code",
   "execution_count": 7,
   "id": "d37b96aa",
   "metadata": {},
   "outputs": [],
   "source": [
    "size = 12192"
   ]
  },
  {
   "cell_type": "code",
   "execution_count": 8,
   "id": "35fde490",
   "metadata": {},
   "outputs": [
    {
     "data": {
      "text/plain": [
       "0.002133480020786072"
      ]
     },
     "execution_count": 8,
     "metadata": {},
     "output_type": "execute_result"
    }
   ],
   "source": [
    "p = df['toxic'].mean()\n",
    "random_sampling_var = p * (1 - p)\n",
    "np.sqrt(random_sampling_var / size)"
   ]
  },
  {
   "cell_type": "markdown",
   "id": "755d16fd",
   "metadata": {},
   "source": [
    "### Oracle bin search"
   ]
  },
  {
   "cell_type": "code",
   "execution_count": 9,
   "id": "e4baad98",
   "metadata": {},
   "outputs": [],
   "source": [
    "def get_error(df):\n",
    "    sizes_sigmas = []\n",
    "    for i, group in df.groupby('bin'):\n",
    "        # to round up to 1\n",
    "        pilot = group['toxic']\n",
    "        sizes_sigmas.append((len(group), np.std(pilot)))\n",
    "\n",
    "    allocations = []\n",
    "    denominator = np.sum([ n_h * sigma_h for n_h, sigma_h in sizes_sigmas ])\n",
    "    for n_h, sigma_h in sizes_sigmas:\n",
    "        n_from_bin = size * n_h * sigma_h / denominator\n",
    "        allocations.append(n_from_bin)\n",
    "    \n",
    "    stratified_var = 0\n",
    "    for (i, group), n_from_bin in zip(df.groupby('bin'), allocations):\n",
    "\n",
    "        p = group['toxic'].mean()\n",
    "\n",
    "        # approximation when the groups are very large\n",
    "        stratified_var += np.square(len(group) / len(df)) * (group['toxic'].var() / n_from_bin)\n",
    "    return np.sqrt(stratified_var)"
   ]
  },
  {
   "cell_type": "code",
   "execution_count": 10,
   "id": "3e4723aa",
   "metadata": {},
   "outputs": [
    {
     "data": {
      "text/plain": [
       "'\\n=== 2 ===\\n- [0, 1]\\n1 [0, 2, 1]\\n\\n=== 4 ===\\n1 [0, 3, 2, 1]\\n3 [0, 3, 2, 4, 1]\\n\\n=== 8 ===\\n1 [0, 5, 3, 2, 4, 1]\\n3 [0, 5, 3, 6, 2, 4, 1]\\n\\n5 [0, 5, 6, 3, 2, 7, 4, 1]\\n7 [0, 5, 6, 3, 2, 7, 4, 8, 1]\\n\\n=== 16 ===\\n1 [0, 9, 5, 6, 3, 2, 7, 4, 8, 1]\\n3 [0, 9, 5, 10, 6, 3, 2, 7, 4, 8, 1]\\n5 [0, 9, 5, 10, 6, 11, 3, 2, 7, 4, 8, 1]\\n7 [0, 9, 5, 10, 6, 11, 3, 12, 2, 7, 4, 8, 1]\\n\\n9  [0, 9, 5, 10, 6, 11, 3, 12, 2, 13, 7, 4, 8, 1]\\n11 [0, 9, 5, 10, 6, 11, 3, 12, 2, 13, 7, 14, 4, 8, 1]\\n13 [0, 9, 5, 10, 6, 11, 3, 12, 2, 13, 7, 14, 4, 15, 8, 1]\\n15 [0, 9, 5, 10, 6, 11, 3, 12, 2, 13, 7, 14, 4, 15, 8, 16, 1]\\n'"
      ]
     },
     "execution_count": 10,
     "metadata": {},
     "output_type": "execute_result"
    }
   ],
   "source": [
    "'''\n",
    "=== 2 ===\n",
    "- [0, 1]\n",
    "1 [0, 2, 1]\n",
    "\n",
    "=== 4 ===\n",
    "1 [0, 3, 2, 1]\n",
    "3 [0, 3, 2, 4, 1]\n",
    "\n",
    "=== 8 ===\n",
    "1 [0, 5, 3, 2, 4, 1]\n",
    "3 [0, 5, 3, 6, 2, 4, 1]\n",
    "\n",
    "5 [0, 5, 6, 3, 2, 7, 4, 1]\n",
    "7 [0, 5, 6, 3, 2, 7, 4, 8, 1]\n",
    "\n",
    "=== 16 ===\n",
    "1 [0, 9, 5, 6, 3, 2, 7, 4, 8, 1]\n",
    "3 [0, 9, 5, 10, 6, 3, 2, 7, 4, 8, 1]\n",
    "5 [0, 9, 5, 10, 6, 11, 3, 2, 7, 4, 8, 1]\n",
    "7 [0, 9, 5, 10, 6, 11, 3, 12, 2, 7, 4, 8, 1]\n",
    "\n",
    "9  [0, 9, 5, 10, 6, 11, 3, 12, 2, 13, 7, 4, 8, 1]\n",
    "11 [0, 9, 5, 10, 6, 11, 3, 12, 2, 13, 7, 14, 4, 8, 1]\n",
    "13 [0, 9, 5, 10, 6, 11, 3, 12, 2, 13, 7, 14, 4, 15, 8, 1]\n",
    "15 [0, 9, 5, 10, 6, 11, 3, 12, 2, 13, 7, 14, 4, 15, 8, 16, 1]\n",
    "'''"
   ]
  },
  {
   "cell_type": "code",
   "execution_count": 11,
   "id": "beace42a",
   "metadata": {
    "scrolled": false
   },
   "outputs": [],
   "source": [
    "def oracle_bins(df, depth=4):\n",
    "    minimum_bins = [0, 1]\n",
    "    minimum_err = 1\n",
    "    steps = 10\n",
    "\n",
    "    for level in range(1, depth+1):\n",
    "        if level == 1:\n",
    "            indexes = [1]\n",
    "        else:\n",
    "            indexes = list(range(1, level*2, 2))\n",
    "\n",
    "        for idx in indexes:\n",
    "            bins = minimum_bins.copy()\n",
    "            bins.insert(idx, 0)\n",
    "            lb, ub = bins[idx-1], bins[idx+1]\n",
    "\n",
    "            # print(lb + (ub-lb)/steps, ub)\n",
    "\n",
    "            for i in np.linspace( lb + (ub-lb)/steps, ub, steps, endpoint=False):\n",
    "                bins[idx] = i\n",
    "                df['bin'] = pd.qcut(df[score_column], bins)\n",
    "                new_err = get_error(df)\n",
    "                if new_err < minimum_err:\n",
    "                    minimum_err = new_err\n",
    "                    minimum_bins = bins.copy()\n",
    "\n",
    "    return minimum_bins"
   ]
  },
  {
   "cell_type": "markdown",
   "id": "14d2a8e3",
   "metadata": {},
   "source": [
    "### Allocation"
   ]
  },
  {
   "cell_type": "code",
   "execution_count": 18,
   "id": "76c62ae7",
   "metadata": {},
   "outputs": [
    {
     "data": {
      "text/plain": [
       "1.5849625007211563"
      ]
     },
     "execution_count": 18,
     "metadata": {},
     "output_type": "execute_result"
    }
   ],
   "source": [
    "np.log(3) / np.log(2)"
   ]
  },
  {
   "cell_type": "code",
   "execution_count": 36,
   "id": "09a4d9e9",
   "metadata": {},
   "outputs": [],
   "source": [
    "def calculate(cut = 'quantile', allocation = 'optimal', within = 0.2, pilot_size=50):\n",
    "    print(cut, end=',')\n",
    "    print(allocation, end=',')\n",
    "    \n",
    "    results = []\n",
    "    \n",
    "    for bins in range(2, 18, 2):\n",
    "        if cut == 'eqwidth':\n",
    "            minimum, maximum = df[score_column].min(), df[score_column].max()\n",
    "            df['bin'] = pd.cut(df[score_column], np.linspace(minimum, maximum, num=bins+1), include_lowest=True)\n",
    "        elif cut == 'quantile':\n",
    "            df['bin'] = pd.qcut(df[score_column], np.linspace(0, 1, num=bins+1))\n",
    "        elif cut == 'searched':\n",
    "            depth = int(np.log(bins) / np.log(2))\n",
    "            bins = oracle_bins(df, depth = depth)\n",
    "            df['bin'] = pd.qcut(df[score_column], bins)\n",
    "\n",
    "        sizes_sigmas = []\n",
    "        for i, group in df.groupby('bin'):\n",
    "            # to round up to 1\n",
    "            if allocation == 'pilot':\n",
    "                pilot = np.array(group['toxic'].sample(pilot_size + 2))\n",
    "                pilot[-1] = 1\n",
    "                pilot[-2] = 0\n",
    "            elif allocation == 'optimal':\n",
    "                pilot = group['toxic']\n",
    "            else:\n",
    "                pilot = group['toxic']\n",
    "            sizes_sigmas.append((len(group), np.std(pilot)))\n",
    "\n",
    "        if allocation == 'equal':\n",
    "            sizes_sigmas = [ (1, 1) for i, j in sizes_sigmas ]\n",
    "\n",
    "        multipliers = []\n",
    "        denominator = np.sum([ n_h * sigma_h for n_h, sigma_h in sizes_sigmas ])\n",
    "        for n_h, sigma_h in sizes_sigmas:\n",
    "            n_from_bin = n_h * sigma_h / denominator\n",
    "            multipliers.append(n_from_bin)\n",
    "\n",
    "        desired_ci = p * within\n",
    "\n",
    "        alpha = 0.05\n",
    "        z_statistic = stats.norm.ppf(1 - (alpha / 2))\n",
    "        desired_var = np.square(desired_ci / z_statistic)\n",
    "\n",
    "        numerator = 0\n",
    "        for (i, group), multip_h in zip(df.groupby('bin'), multipliers):\n",
    "            # approximation when the groups are very large\n",
    "            numerator += np.square(len(group) / len(df)) * (group['toxic'].var() / multip_h)\n",
    "\n",
    "        minimum = numerator / desired_var\n",
    "        \n",
    "        if allocation == 'pilot':\n",
    "            n = np.sum([max(minimum * multip, pilot_size) for multip in multipliers])\n",
    "        else:\n",
    "            n = np.sum([minimum * multip for multip in multipliers])\n",
    "        print(int(n+1), end=',')\n",
    "        results.append(int(n+1))\n",
    "    print()\n",
    "    return results"
   ]
  },
  {
   "cell_type": "code",
   "execution_count": 28,
   "id": "babf717e",
   "metadata": {},
   "outputs": [
    {
     "data": {
      "text/plain": [
       "0.001281440636776062"
      ]
     },
     "execution_count": 28,
     "metadata": {},
     "output_type": "execute_result"
    }
   ],
   "source": [
    "bins = oracle_bins(df, depth = int(2 / 2))\n",
    "df['bin'] = pd.qcut(df[score_column], bins)\n",
    "get_error(df)"
   ]
  },
  {
   "cell_type": "code",
   "execution_count": 29,
   "id": "4675ba54",
   "metadata": {},
   "outputs": [
    {
     "data": {
      "text/plain": [
       "0.0012818545961773556"
      ]
     },
     "execution_count": 29,
     "metadata": {},
     "output_type": "execute_result"
    }
   ],
   "source": [
    "df['bin'] = pd.cut(df['scores'], np.linspace(0, 1, num=2+1), include_lowest=True)\n",
    "get_error(df)"
   ]
  },
  {
   "cell_type": "code",
   "execution_count": 93,
   "id": "eaa25c7f",
   "metadata": {},
   "outputs": [
    {
     "name": "stdout",
     "output_type": "stream",
     "text": [
      "binning,allocation,2,4,6,8,10,12,14,16\n",
      "searched,optimal,553,387,387,357,357,357,357,352,\n",
      "eqwidth,optimal,554,506,486,472,462,454,447,441,\n",
      "quantile,optimal,844,532,445,407,386,373,364,358,\n",
      "binning,allocation,2,4,6,8,10,12,14,16\n",
      "quantile,optimal,844,532,445,407,386,373,364,358,\n",
      "quantile,pilot,1243,697,588,558,623,692,752,840,\n",
      "quantile,equal,1439,1271,1143,1052,988,943,911,888,\n",
      "binning,allocation,2,4,6,8,10,12,14,16\n",
      "quantile,optimal,844,532,445,407,386,373,364,358,\n",
      "quantile,pilot,1439,961,804,777,713,752,693,765,\n",
      "quantile,pilot,1099,676,579,562,616,681,763,848,\n",
      "quantile,pilot,949,666,731,876,1036,1208,1401,1601,\n"
     ]
    },
    {
     "data": {
      "image/png": "[encoded data removed]",
      "text/plain": [
       "<Figure size 629x180 with 3 Axes>"
      ]
     },
     "metadata": {},
     "output_type": "display_data"
    }
   ],
   "source": [
    "fig, ax = plt.subplots(1, 3, figsize=(6.29,1.8), sharey=False)\n",
    "fig.tight_layout()\n",
    "\n",
    "# plot 1\n",
    "print('binning,allocation,%s' % ','.join([ str(i) for i in range(2,18,2) ]))\n",
    "ax[0].set_title('Binning (w/ optimal alloc.)')\n",
    "results = calculate('searched', 'optimal', 0.2)\n",
    "sns.lineplot(x=list(range(2,18,2)), y=results, ax=ax[0], label='oracle')\n",
    "results = calculate('eqwidth', 'optimal', 0.2)\n",
    "sns.lineplot(x=list(range(2,18,2)), y=results, ax=ax[0], label='eqwidth')\n",
    "results = calculate('quantile', 'optimal', 0.2)\n",
    "sns.lineplot(x=list(range(2,18,2)), y=results, ax=ax[0], label='quantile')\n",
    "\n",
    "\n",
    "print('binning,allocation,%s' % ','.join([ str(i) for i in range(2,18,2) ]))\n",
    "ax[1].set_title('Allocation (w/ quantile bins)')\n",
    "results = calculate('quantile', 'optimal', 0.2)\n",
    "sns.lineplot(x=list(range(2,18,2)), y=results, ax=ax[1], label='optimal')\n",
    "results = calculate('quantile', 'pilot', 0.2, pilot_size=50)\n",
    "sns.lineplot(x=list(range(2,18,2)), y=results, ax=ax[1], label='pilot:50')\n",
    "results = calculate('quantile', 'equal', 0.2)\n",
    "sns.lineplot(x=list(range(2,18,2)), y=results, ax=ax[1], label='equal')\n",
    "\n",
    "\n",
    "print('binning,allocation,%s' % ','.join([ str(i) for i in range(2,18,2) ]))\n",
    "ax[2].set_title('Pilot samples (w/ quantile bins)')\n",
    "results = calculate('quantile', 'optimal', 0.2)\n",
    "sns.lineplot(x=list(range(2,18,2)), y=results, ax=ax[2], label='optimal')\n",
    "results = calculate('quantile', 'pilot', 0.2, pilot_size=10)\n",
    "sns.lineplot(x=list(range(2,18,2)), y=results, ax=ax[2], label='pilot:10')\n",
    "results = calculate('quantile', 'pilot', 0.2, pilot_size=50)\n",
    "sns.lineplot(x=list(range(2,18,2)), y=results, ax=ax[2], label='pilot:50')\n",
    "results = calculate('quantile', 'pilot', 0.2, pilot_size=100)\n",
    "sns.lineplot(x=list(range(2,18,2)), y=results, ax=ax[2], label='pilot:100')\n",
    "\n",
    "fig.text(0.5, -0.1, 'Number of strata', ha='center', size=8)\n",
    "fig.text(-0.03, 0.5, '# of samples required', va='center', rotation='vertical', size=8)\n",
    "plt.savefig('civilcomments_binning_allocation.pdf', bbox_inches='tight')"
   ]
  }
 ],
 "metadata": {
  "kernelspec": {
   "display_name": "Python 3 (ipykernel)",
   "language": "python",
   "name": "python3"
  },
  "language_info": {
   "codemirror_mode": {
    "name": "ipython",
    "version": 3
   },
   "file_extension": ".py",
   "mimetype": "text/x-python",
   "name": "python",
   "nbconvert_exporter": "python",
   "pygments_lexer": "ipython3",
   "version": "3.8.13"
  }
 },
 "nbformat": 4,
 "nbformat_minor": 5
}
