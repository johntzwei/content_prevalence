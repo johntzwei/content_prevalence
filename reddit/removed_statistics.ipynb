{
 "cells": [
  {
   "cell_type": "code",
   "execution_count": 1,
   "id": "b81660a8",
   "metadata": {},
   "outputs": [],
   "source": [
    "import sqlite3\n",
    "import pandas as pd\n",
    "import numpy as np\n",
    "\n",
    "import transformers\n",
    "from transformers import AutoModelForSequenceClassification\n",
    "import torch\n",
    "from tqdm.notebook import tqdm\n",
    "import seaborn as sns\n",
    "import random"
   ]
  },
  {
   "cell_type": "code",
   "execution_count": 2,
   "id": "058f2dbe",
   "metadata": {},
   "outputs": [],
   "source": [
    "names = ['politics', 'askreddit', 'sex', 'pcmasterrace', 'wow', 'legaladvice']\n",
    "probabilities = [(0.07, 0.0642, 0.0758), (0.0475, 0.0429, 0.0521), (0.03, 0.0263, 0.0337), (0.04, 0.0361, 0.0439), (0.0425, 0.0376, 0.0474),  (0.015, 0.0125, 0.0175)]\n",
    "score_column = 'score'\n",
    "bins = 8\n",
    "num_pilot = 50"
   ]
  },
  {
   "cell_type": "code",
   "execution_count": 5,
   "id": "570d8017",
   "metadata": {},
   "outputs": [
    {
     "name": "stdout",
     "output_type": "stream",
     "text": [
      "politics 0.0077 0.0719 0.0991 0.0922 0.1071\n",
      "askreddit 0.007 0.0499 0.1292 0.1191 0.1411\n",
      "sex 0.0206 0.0469 0.4072 0.3794 0.4393\n",
      "pcmasterrace 0.0089 0.045 0.182 0.1686 0.1978\n",
      "wow 0.0075 0.0451 0.1497 0.1363 0.166\n",
      "legaladvice 0.0765 0.089 0.8362 0.8138 0.8597\n"
     ]
    }
   ],
   "source": [
    "# make pilot samples\n",
    "data = []\n",
    "\n",
    "for (p, up, low), db_name in zip(probabilities, names):\n",
    "    df = pd.read_csv('./%s.csv' % db_name, header=0)\n",
    "    removed = df[df.comment == '[removed]']\n",
    "    deleted = df[df.comment == '[deleted]']\n",
    "    \n",
    "    num_total = len(df) - (len(removed) + len(deleted))\n",
    "    TP = len(removed)\n",
    "    \n",
    "    FN = int(num_total * p)\n",
    "    P = FN + TP\n",
    "    recall = np.round(TP / P, 4)\n",
    "    \n",
    "    FN = int(num_total * low)\n",
    "    P = FN + TP\n",
    "    low_recall = np.round(TP / P, 4)\n",
    "    \n",
    "    FN = int(num_total * up)\n",
    "    P = FN + TP\n",
    "    high_recall = np.round(TP / P, 4)\n",
    "    \n",
    "    print(db_name, np.round(TP/num_total, 4), np.round(P/num_total, 4), recall, low_recall, high_recall)"
   ]
  }
 ],
 "metadata": {
  "kernelspec": {
   "display_name": "Python 3 (ipykernel)",
   "language": "python",
   "name": "python3"
  },
  "language_info": {
   "codemirror_mode": {
    "name": "ipython",
    "version": 3
   },
   "file_extension": ".py",
   "mimetype": "text/x-python",
   "name": "python",
   "nbconvert_exporter": "python",
   "pygments_lexer": "ipython3",
   "version": "3.8.13"
  }
 },
 "nbformat": 4,
 "nbformat_minor": 5
}
