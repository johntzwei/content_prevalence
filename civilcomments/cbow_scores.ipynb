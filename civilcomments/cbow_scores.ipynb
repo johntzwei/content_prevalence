{
 "cells": [
  {
   "cell_type": "code",
   "execution_count": 1,
   "id": "338a5654",
   "metadata": {},
   "outputs": [
    {
     "name": "stderr",
     "output_type": "stream",
     "text": [
      "2023-01-04 07:00:49.337439: W tensorflow/stream_executor/platform/default/dso_loader.cc:64] Could not load dynamic library 'libcudart.so.11.0'; dlerror: libcudart.so.11.0: cannot open shared object file: No such file or directory; LD_LIBRARY_PATH: /usr/local/cuda-10.1/lib64\n",
      "2023-01-04 07:00:49.337486: I tensorflow/stream_executor/cuda/cudart_stub.cc:29] Ignore above cudart dlerror if you do not have a GPU set up on your machine.\n"
     ]
    }
   ],
   "source": [
    "import numpy as np\n",
    "import scipy\n",
    "import seaborn as sns\n",
    "import datasets\n",
    "import torch\n",
    "from torch import nn\n",
    "import evaluate\n",
    "from tqdm.notebook import tqdm\n",
    "import os\n",
    "os.environ['WANDB_DISABLED'] = 'true'\n",
    "# import wandb\n",
    "from nltk.tokenize import word_tokenize\n",
    "from collections import Counter\n",
    "\n",
    "import utils\n",
    "\n",
    "from transformers import AutoTokenizer, AutoModelForSequenceClassification\n",
    "from transformers import Trainer, TrainingArguments"
   ]
  },
  {
   "cell_type": "code",
   "execution_count": 2,
   "id": "e5b7ec9f",
   "metadata": {
    "scrolled": true
   },
   "outputs": [],
   "source": [
    "device = 'cuda' if torch.cuda.is_available() else 'cpu' "
   ]
  },
  {
   "cell_type": "code",
   "execution_count": 3,
   "id": "d5b6e271",
   "metadata": {},
   "outputs": [
    {
     "name": "stderr",
     "output_type": "stream",
     "text": [
      "Found cached dataset civil_comments (/home/johnny/.cache/huggingface/datasets/civil_comments/default/0.9.0/e7a3aacd2ab7d135fa958e7209d10b1fa03807d44c486e3c34897aa08ea8ffab)\n"
     ]
    },
    {
     "data": {
      "application/vnd.jupyter.widget-view+json": {
       "model_id": "8e2ae0f5ea7c48e3b2276f1b102d8517",
       "version_major": 2,
       "version_minor": 0
      },
      "text/plain": [
       "  0%|          | 0/3 [00:00<?, ?it/s]"
      ]
     },
     "metadata": {},
     "output_type": "display_data"
    }
   ],
   "source": [
    "train_ds, valid_ds, test_ds = utils.load_dataset()"
   ]
  },
  {
   "cell_type": "code",
   "execution_count": 4,
   "id": "623c3e56",
   "metadata": {},
   "outputs": [
    {
     "name": "stdout",
     "output_type": "stream",
     "text": [
      "91671\n",
      "5649\n"
     ]
    }
   ],
   "source": [
    "balanced = True\n",
    "\n",
    "if balanced:\n",
    "    labels = np.array(train_ds['label'])\n",
    "    num_minority = np.sum(labels == 1)\n",
    "\n",
    "    np.random.seed(0)\n",
    "\n",
    "    indexes = []\n",
    "    for label in [0, 1]:\n",
    "        idx = np.arange(len(labels))\n",
    "        idx = idx[labels == label]\n",
    "\n",
    "        print(len(idx))\n",
    "        sample = np.random.choice(idx, size=num_minority, replace=False)\n",
    "        indexes.append(sample)\n",
    "\n",
    "    indexes = np.concatenate(indexes)\n",
    "    train_ds = train_ds.select(indexes)\n",
    "    train_ds"
   ]
  },
  {
   "cell_type": "code",
   "execution_count": 5,
   "id": "4b3b084f",
   "metadata": {},
   "outputs": [
    {
     "data": {
      "text/plain": [
       "10508"
      ]
     },
     "execution_count": 5,
     "metadata": {},
     "output_type": "execute_result"
    }
   ],
   "source": [
    "all_words = []\n",
    "for raw_text in valid_ds['text']:\n",
    "    words = word_tokenize(raw_text)\n",
    "    words = [ i.lower() for i in words ]\n",
    "    all_words.extend(words)\n",
    "counter = Counter(all_words)\n",
    "\n",
    "# 21,053 unique words\n",
    "vocab = [ x for x, count in counter.items() if count >= 2 ]\n",
    "vocab = sorted(vocab)\n",
    "vocab = { x : i for i, x in enumerate(vocab, 1) }\n",
    "reverse_vocab = { i : x for x, i in vocab.items() }\n",
    "len(vocab)"
   ]
  },
  {
   "cell_type": "code",
   "execution_count": 6,
   "id": "c97a00a4",
   "metadata": {},
   "outputs": [],
   "source": [
    "class CBOW(torch.nn.Module):\n",
    "    def __init__(self, vocab_size, embedding_dim):\n",
    "        super(CBOW, self).__init__()\n",
    "\n",
    "        self.embeddings = nn.Embedding(vocab_size+1, embedding_dim, padding_idx=0)\n",
    "        self.linear1 = nn.Linear(embedding_dim, 128)\n",
    "        self.activation_function1 = nn.ReLU()\n",
    "        \n",
    "        self.dropout = nn.Dropout(p=0.5)\n",
    "\n",
    "        self.linear3 = nn.Linear(128, 2)\n",
    "        self.activation_function3 = nn.ReLU()\n",
    "        \n",
    "\n",
    "    def forward(self, input_ids, label, attention_mask):\n",
    "        embeds = self.embeddings(input_ids)        \n",
    "        out = torch.mean(embeds, axis=1)\n",
    "        out = self.linear1(out)\n",
    "        out = self.activation_function1(out)\n",
    "        out = self.dropout(out)\n",
    "        out = self.linear3(out)\n",
    "        out = self.activation_function3(out)\n",
    "        return out\n",
    "\n",
    "    def get_word_emdedding(self, word):\n",
    "        word = torch.tensor([word_to_ix[word]])\n",
    "        return self.embeddings(word).view(1,-1)\n",
    "\n",
    "\n",
    "model = CBOW(len(vocab), 128)"
   ]
  },
  {
   "cell_type": "code",
   "execution_count": 7,
   "id": "6ee91526",
   "metadata": {},
   "outputs": [],
   "source": [
    "class SentimentNet(nn.Module):\n",
    "    def __init__(self, vocab_size, output_size, embedding_dim, hidden_dim, n_layers, drop_prob=0.5):\n",
    "        super(SentimentNet, self).__init__()\n",
    "        self.output_size = output_size\n",
    "        self.n_layers = n_layers\n",
    "        self.hidden_dim = hidden_dim\n",
    "        \n",
    "        self.embedding = nn.Embedding(vocab_size+1, embedding_dim, padding_idx=0)\n",
    "        self.lstm = nn.LSTM(embedding_dim, hidden_dim, n_layers, dropout=drop_prob, batch_first=True)\n",
    "        self.dropout = nn.Dropout(drop_prob)\n",
    "        self.fc = nn.Linear(hidden_dim, output_size)\n",
    "        \n",
    "    def forward(self, input_ids, label, attention_mask):\n",
    "        batch_size = input_ids.size(0)\n",
    "        embeds = self.embedding(input_ids)\n",
    "        hidden = self.init_hidden(batch_size)\n",
    "        lstm_out, hidden = self.lstm(embeds, hidden)\n",
    "        lstm_out = lstm_out.contiguous().view(-1, self.hidden_dim)\n",
    "        \n",
    "        out = self.dropout(lstm_out)\n",
    "        out = self.fc(out)\n",
    "        \n",
    "        out = out.view(batch_size, -1)\n",
    "        return out\n",
    "    \n",
    "    def init_hidden(self, batch_size):\n",
    "        weight = next(self.parameters()).data\n",
    "        hidden = (weight.new(self.n_layers, batch_size, self.hidden_dim).zero_().to(device),\n",
    "                      weight.new(self.n_layers, batch_size, self.hidden_dim).zero_().to(device))\n",
    "        return hidden\n",
    "    \n",
    "model = SentimentNet(len(vocab), 2, 128, 128, 2)"
   ]
  },
  {
   "cell_type": "code",
   "execution_count": 8,
   "id": "3707f16d",
   "metadata": {},
   "outputs": [
    {
     "name": "stderr",
     "output_type": "stream",
     "text": [
      "Loading cached processed dataset at /home/johnny/.cache/huggingface/datasets/civil_comments/default/0.9.0/e7a3aacd2ab7d135fa958e7209d10b1fa03807d44c486e3c34897aa08ea8ffab/cache-a05ca6d1490976db.arrow\n",
      "Loading cached processed dataset at /home/johnny/.cache/huggingface/datasets/civil_comments/default/0.9.0/e7a3aacd2ab7d135fa958e7209d10b1fa03807d44c486e3c34897aa08ea8ffab/cache-39f3d85df3eb9263.arrow\n"
     ]
    }
   ],
   "source": [
    "def tokenize_function(examples, cutoff=256):\n",
    "    words = word_tokenize(examples['text'])\n",
    "    words = [ i.lower() for i in words ]\n",
    "    words = [ vocab[i] for i in words if i in vocab ]\n",
    "    \n",
    "    if len(words) < cutoff:\n",
    "        words = words + [0] * (cutoff - len(words))\n",
    "        mask = [1] * len(words) + [0] * (cutoff - len(words))\n",
    "    else:\n",
    "        words = words[:cutoff]\n",
    "        mask = [1] * cutoff\n",
    "    \n",
    "    return {'input_ids' : words, 'attention_mask' : mask}\n",
    "\n",
    "tokenized_train = train_ds.map(tokenize_function, batched=False)\n",
    "tokenized_valid = valid_ds.map(tokenize_function, batched=False)"
   ]
  },
  {
   "cell_type": "code",
   "execution_count": 9,
   "id": "c1d04c19",
   "metadata": {},
   "outputs": [],
   "source": [
    "tokenized_train.set_format(type=\"torch\", columns=[\"input_ids\", \"attention_mask\", \"label\"])\n",
    "tokenized_valid.set_format(type=\"torch\", columns=[\"input_ids\", \"attention_mask\", \"label\"])"
   ]
  },
  {
   "cell_type": "code",
   "execution_count": 10,
   "id": "063a8e7e",
   "metadata": {},
   "outputs": [
    {
     "name": "stderr",
     "output_type": "stream",
     "text": [
      "Using the `WANDB_DISABLED` environment variable is deprecated and will be removed in v5. Use the --report_to flag to control the integrations used for logging result (for instance --report_to none).\n"
     ]
    }
   ],
   "source": [
    "training_args = TrainingArguments(output_dir=\"trainer\",\n",
    "                                  max_steps=1000,\n",
    "                                  per_device_train_batch_size=32,\n",
    "                                  evaluation_strategy='steps',\n",
    "                                  eval_steps=100,\n",
    "                                  save_strategy='no',\n",
    "                                  num_train_epochs=1,\n",
    "                                 )"
   ]
  },
  {
   "cell_type": "code",
   "execution_count": 11,
   "id": "a5ca2858",
   "metadata": {},
   "outputs": [],
   "source": [
    "metric = evaluate.load(\"roc_auc\")\n",
    "\n",
    "def compute_metrics(eval_pred):\n",
    "    logits, labels = eval_pred\n",
    "    batch_scores = scipy.special.softmax(logits, axis=-1)\n",
    "    return metric.compute(prediction_scores=batch_scores[:,1], references=labels)"
   ]
  },
  {
   "cell_type": "code",
   "execution_count": 12,
   "id": "5c107402",
   "metadata": {},
   "outputs": [],
   "source": [
    "def _evaluate(model, val_dataloader):\n",
    "    model.eval()\n",
    "    val_pbar = tqdm(total=len(val_dataloader))\n",
    "\n",
    "    scores = []\n",
    "    for batch in val_dataloader:\n",
    "        batch = {k: v.to(device) for k, v in batch.items()}\n",
    "        with torch.no_grad():\n",
    "            outputs = model(**batch)\n",
    "        logits = outputs\n",
    "        predictions = torch.argmax(logits, dim=-1).cpu().tolist()\n",
    "\n",
    "        batch_scores = torch.nn.Softmax()(logits)[:,-1]\n",
    "        scores.append(batch_scores)\n",
    "\n",
    "        metric.add_batch(prediction_scores=batch_scores, references=batch[\"label\"])\n",
    "        val_pbar.update(1)\n",
    "    eval_dict = metric.compute()\n",
    "    val_pbar.set_description('roc_auc: %.2f' % eval_dict['roc_auc'])\n",
    "\n",
    "    eval_dict['predictions'] = torch.cat(scores)\n",
    "\n",
    "    return eval_dict"
   ]
  },
  {
   "cell_type": "code",
   "execution_count": 13,
   "id": "b03434ef",
   "metadata": {},
   "outputs": [],
   "source": [
    "max_steps = 5000\n",
    "eval_steps = 500\n",
    "learning_rate = 0.01\n",
    "batch_size = 32\n",
    "# adam should default to correct_bias = True\n",
    "adam_epsilon = 1e-6\n",
    "adam_beta1 = 0.9\n",
    "adam_beta2 = 0.999\n",
    "max_grad_norm = 1.0\n",
    "weight_decay = 0.00"
   ]
  },
  {
   "cell_type": "code",
   "execution_count": 14,
   "id": "cdf3ee3a",
   "metadata": {},
   "outputs": [],
   "source": [
    "def train(model, train_dataset, val_dataset, tolerance=3, metric_name='accuracy'):\n",
    "    steps = 0\n",
    "    epochs = 0\n",
    "    best_acc = None\n",
    "    patience = 0\n",
    "    pbar = tqdm(total=max_steps)\n",
    "    train_dataloader = torch.utils.data.DataLoader(train_dataset, shuffle=True, batch_size=batch_size, pin_memory=True)\n",
    "    val_dataloader = torch.utils.data.DataLoader(val_dataset, shuffle=False, batch_size=batch_size, pin_memory=True)\n",
    "    it = iter(train_dataloader)\n",
    "    \n",
    "    xe = nn.CrossEntropyLoss()\n",
    "    optimizer = torch.optim.AdamW(params=model.parameters(), lr=learning_rate, betas=(adam_beta1, adam_beta2), eps=adam_epsilon, weight_decay=weight_decay)\n",
    "    \n",
    "\n",
    "    while steps < max_steps:\n",
    "        # training\n",
    "        model.train()\n",
    "        total_loss = 0.\n",
    "\n",
    "        try:\n",
    "            batch = next(it)\n",
    "        except:\n",
    "            epochs += 1\n",
    "            it = iter(train_dataloader)\n",
    "            batch = next(it)\n",
    "\n",
    "        steps += 1\n",
    "        batch = {k: v.to(device) for k, v in batch.items()}\n",
    "        outputs = model(**batch)\n",
    "        loss = xe(outputs, batch['label'])\n",
    "        loss.backward()\n",
    "        total_loss += loss.cpu()\n",
    "\n",
    "        torch.nn.utils.clip_grad_norm_(model.parameters(), max_grad_norm)\n",
    "        optimizer.step()\n",
    "        optimizer.zero_grad()\n",
    "\n",
    "        pbar.set_description('Epoch: %d, Avg batch loss: %.2f' % (epochs, total_loss / steps))\n",
    "        pbar.update(1)\n",
    "\n",
    "        if steps % eval_steps == 0:\n",
    "            model.eval()\n",
    "            eval_dict = _evaluate(model, val_dataloader)\n",
    "\n",
    "            # early stopping\n",
    "            if not best_acc or eval_dict[metric_name] > best_acc:\n",
    "                best_acc = eval_dict[metric_name]\n",
    "            else:\n",
    "                patience += 1\n",
    "\n",
    "            if patience >= tolerance:\n",
    "                break"
   ]
  },
  {
   "cell_type": "code",
   "execution_count": 15,
   "id": "1c82e2ce",
   "metadata": {},
   "outputs": [
    {
     "data": {
      "application/vnd.jupyter.widget-view+json": {
       "model_id": "a8f8aacfd8654832916b4e224b9d7ae6",
       "version_major": 2,
       "version_minor": 0
      },
      "text/plain": [
       "  0%|          | 0/5000 [00:00<?, ?it/s]"
      ]
     },
     "metadata": {},
     "output_type": "display_data"
    },
    {
     "data": {
      "application/vnd.jupyter.widget-view+json": {
       "model_id": "99ae1b4c0ac44143825733efb462c6ae",
       "version_major": 2,
       "version_minor": 0
      },
      "text/plain": [
       "  0%|          | 0/157 [00:00<?, ?it/s]"
      ]
     },
     "metadata": {},
     "output_type": "display_data"
    },
    {
     "name": "stderr",
     "output_type": "stream",
     "text": [
      "/tmp/ipykernel_5820/686518619.py:13: UserWarning: Implicit dimension choice for softmax has been deprecated. Change the call to include dim=X as an argument.\n",
      "  batch_scores = torch.nn.Softmax()(logits)[:,-1]\n"
     ]
    },
    {
     "data": {
      "application/vnd.jupyter.widget-view+json": {
       "model_id": "8ed4f178c5bd456cbc376dea795f63e0",
       "version_major": 2,
       "version_minor": 0
      },
      "text/plain": [
       "  0%|          | 0/157 [00:00<?, ?it/s]"
      ]
     },
     "metadata": {},
     "output_type": "display_data"
    },
    {
     "name": "stderr",
     "output_type": "stream",
     "text": [
      "/tmp/ipykernel_5820/686518619.py:13: UserWarning: Implicit dimension choice for softmax has been deprecated. Change the call to include dim=X as an argument.\n",
      "  batch_scores = torch.nn.Softmax()(logits)[:,-1]\n"
     ]
    },
    {
     "data": {
      "application/vnd.jupyter.widget-view+json": {
       "model_id": "84438af94d0d40ff9d89790c8b6bb482",
       "version_major": 2,
       "version_minor": 0
      },
      "text/plain": [
       "  0%|          | 0/157 [00:00<?, ?it/s]"
      ]
     },
     "metadata": {},
     "output_type": "display_data"
    },
    {
     "name": "stderr",
     "output_type": "stream",
     "text": [
      "/tmp/ipykernel_5820/686518619.py:13: UserWarning: Implicit dimension choice for softmax has been deprecated. Change the call to include dim=X as an argument.\n",
      "  batch_scores = torch.nn.Softmax()(logits)[:,-1]\n"
     ]
    },
    {
     "data": {
      "application/vnd.jupyter.widget-view+json": {
       "model_id": "e80095777e9c4c60abaf077e99a02dcc",
       "version_major": 2,
       "version_minor": 0
      },
      "text/plain": [
       "  0%|          | 0/157 [00:00<?, ?it/s]"
      ]
     },
     "metadata": {},
     "output_type": "display_data"
    },
    {
     "name": "stderr",
     "output_type": "stream",
     "text": [
      "/tmp/ipykernel_5820/686518619.py:13: UserWarning: Implicit dimension choice for softmax has been deprecated. Change the call to include dim=X as an argument.\n",
      "  batch_scores = torch.nn.Softmax()(logits)[:,-1]\n",
      "IOPub message rate exceeded.\n",
      "The notebook server will temporarily stop sending output\n",
      "to the client in order to avoid crashing it.\n",
      "To change this limit, set the config variable\n",
      "`--NotebookApp.iopub_msg_rate_limit`.\n",
      "\n",
      "Current values:\n",
      "NotebookApp.iopub_msg_rate_limit=1000.0 (msgs/sec)\n",
      "NotebookApp.rate_limit_window=3.0 (secs)\n",
      "\n"
     ]
    }
   ],
   "source": [
    "train(model, tokenized_train, tokenized_valid, metric_name='roc_auc')"
   ]
  },
  {
   "cell_type": "code",
   "execution_count": 16,
   "id": "c44566a6",
   "metadata": {},
   "outputs": [
    {
     "data": {
      "application/vnd.jupyter.widget-view+json": {
       "model_id": "4461fa3988df46729ade3076884decad",
       "version_major": 2,
       "version_minor": 0
      },
      "text/plain": [
       "  0%|          | 0/1804874 [00:00<?, ?ex/s]"
      ]
     },
     "metadata": {},
     "output_type": "display_data"
    },
    {
     "name": "stderr",
     "output_type": "stream",
     "text": [
      "IOPub message rate exceeded.\n",
      "The notebook server will temporarily stop sending output\n",
      "to the client in order to avoid crashing it.\n",
      "To change this limit, set the config variable\n",
      "`--NotebookApp.iopub_msg_rate_limit`.\n",
      "\n",
      "Current values:\n",
      "NotebookApp.iopub_msg_rate_limit=1000.0 (msgs/sec)\n",
      "NotebookApp.rate_limit_window=3.0 (secs)\n",
      "\n",
      "IOPub message rate exceeded.\n",
      "The notebook server will temporarily stop sending output\n",
      "to the client in order to avoid crashing it.\n",
      "To change this limit, set the config variable\n",
      "`--NotebookApp.iopub_msg_rate_limit`.\n",
      "\n",
      "Current values:\n",
      "NotebookApp.iopub_msg_rate_limit=1000.0 (msgs/sec)\n",
      "NotebookApp.rate_limit_window=3.0 (secs)\n",
      "\n"
     ]
    }
   ],
   "source": [
    "tokenized_test = test_ds.map(tokenize_function, batched=False)\n",
    "tokenized_test.set_format(type=\"torch\", columns=[\"input_ids\", \"label\"])\n",
    "\n",
    "val_dataloader = torch.utils.data.DataLoader(tokenized_test, shuffle=False, batch_size=64, pin_memory=True)\n",
    "eval_dict = _evaluate(model, val_dataloader)"
   ]
  },
  {
   "cell_type": "code",
   "execution_count": null,
   "id": "b7c381d4",
   "metadata": {
    "scrolled": true
   },
   "outputs": [],
   "source": [
    "predictions = eval_dict['predictions'].cpu().numpy()\n",
    "np.save('scores/cbow', predictions)"
   ]
  },
  {
   "cell_type": "code",
   "execution_count": null,
   "id": "4f33c693",
   "metadata": {},
   "outputs": [],
   "source": [
    "torch.save(model)"
   ]
  }
 ],
 "metadata": {
  "kernelspec": {
   "display_name": "Python 3 (ipykernel)",
   "language": "python",
   "name": "python3"
  },
  "language_info": {
   "codemirror_mode": {
    "name": "ipython",
    "version": 3
   },
   "file_extension": ".py",
   "mimetype": "text/x-python",
   "name": "python",
   "nbconvert_exporter": "python",
   "pygments_lexer": "ipython3",
   "version": "3.8.13"
  }
 },
 "nbformat": 4,
 "nbformat_minor": 5
}
