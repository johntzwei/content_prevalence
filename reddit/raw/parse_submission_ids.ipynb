{
 "cells": [
  {
   "cell_type": "code",
   "execution_count": 3,
   "id": "62f2710b",
   "metadata": {},
   "outputs": [],
   "source": [
    "import zstandard as zstd\n",
    "import json\n",
    "import tqdm.notebook as tqdm\n",
    "import csv"
   ]
  },
  {
   "cell_type": "code",
   "execution_count": 9,
   "id": "4cf3516b",
   "metadata": {},
   "outputs": [
    {
     "data": {
      "application/vnd.jupyter.widget-view+json": {
       "model_id": "54e5461a7e1942f9bed828ba82af7e89",
       "version_major": 2,
       "version_minor": 0
      },
      "text/plain": [
       "  0%|          | 0/6656.0 [00:00<?, ?it/s]"
      ]
     },
     "metadata": {},
     "output_type": "display_data"
    },
    {
     "name": "stdout",
     "output_type": "stream",
     "text": [
      "'utf-8' codec can't decode byte 0xd0 in position 16777215: unexpected end of data\n",
      "'utf-8' codec can't decode byte 0xb8 in position 0: invalid start byte\n",
      "problem\n",
      "'utf-8' codec can't decode byte 0xd9 in position 16777215: unexpected end of data\n",
      "'utf-8' codec can't decode byte 0x8e in position 0: invalid start byte\n",
      "problem\n",
      "'utf-8' codec can't decode bytes in position 16777213-16777215: unexpected end of data\n",
      "'utf-8' codec can't decode byte 0x9d in position 0: invalid start byte\n",
      "problem\n",
      "'utf-8' codec can't decode byte 0xf0 in position 16777215: unexpected end of data\n",
      "'utf-8' codec can't decode byte 0x9f in position 0: invalid start byte\n",
      "problem\n",
      "'utf-8' codec can't decode byte 0xea in position 16777215: unexpected end of data\n",
      "'utf-8' codec can't decode byte 0xb2 in position 0: invalid start byte\n",
      "problem\n",
      "'utf-8' codec can't decode byte 0xd0 in position 16777215: unexpected end of data\n",
      "'utf-8' codec can't decode byte 0xb0 in position 0: invalid start byte\n",
      "problem\n",
      "'utf-8' codec can't decode bytes in position 16777214-16777215: unexpected end of data\n",
      "'utf-8' codec can't decode byte 0xb4 in position 0: invalid start byte\n",
      "problem\n",
      "'utf-8' codec can't decode byte 0xeb in position 16777215: unexpected end of data\n",
      "'utf-8' codec can't decode byte 0xb6 in position 0: invalid start byte\n",
      "problem\n",
      "'utf-8' codec can't decode bytes in position 16777214-16777215: unexpected end of data\n",
      "'utf-8' codec can't decode byte 0x9b in position 0: invalid start byte\n",
      "problem\n",
      "'utf-8' codec can't decode byte 0xeb in position 16777215: unexpected end of data\n",
      "'utf-8' codec can't decode byte 0x93 in position 0: invalid start byte\n",
      "problem\n",
      "'utf-8' codec can't decode byte 0xec in position 16777215: unexpected end of data\n",
      "'utf-8' codec can't decode byte 0x97 in position 0: invalid start byte\n",
      "problem\n",
      "'utf-8' codec can't decode byte 0xec in position 16777215: unexpected end of data\n",
      "'utf-8' codec can't decode byte 0x95 in position 0: invalid start byte\n",
      "problem\n",
      "'utf-8' codec can't decode byte 0xe6 in position 16777215: unexpected end of data\n",
      "'utf-8' codec can't decode byte 0x81 in position 0: invalid start byte\n",
      "problem\n",
      "'utf-8' codec can't decode byte 0xe0 in position 16777215: unexpected end of data\n",
      "'utf-8' codec can't decode byte 0xb0 in position 0: invalid start byte\n",
      "problem\n",
      "'utf-8' codec can't decode byte 0xd8 in position 16777215: unexpected end of data\n",
      "'utf-8' codec can't decode byte 0xa2 in position 0: invalid start byte\n",
      "problem\n",
      "'utf-8' codec can't decode byte 0xd0 in position 16777215: unexpected end of data\n",
      "'utf-8' codec can't decode byte 0xb7 in position 0: invalid start byte\n",
      "problem\n",
      "'utf-8' codec can't decode bytes in position 16777214-16777215: unexpected end of data\n",
      "'utf-8' codec can't decode byte 0xbc in position 0: invalid start byte\n",
      "problem\n",
      "'utf-8' codec can't decode bytes in position 16777214-16777215: unexpected end of data\n",
      "'utf-8' codec can't decode byte 0xbf in position 0: invalid start byte\n",
      "problem\n",
      "'utf-8' codec can't decode byte 0xd8 in position 16777215: unexpected end of data\n",
      "'utf-8' codec can't decode byte 0xa9 in position 0: invalid start byte\n",
      "problem\n",
      "'utf-8' codec can't decode bytes in position 16777214-16777215: unexpected end of data\n",
      "'utf-8' codec can't decode byte 0x99 in position 0: invalid start byte\n",
      "problem\n"
     ]
    }
   ],
   "source": [
    "total = 6.5 * 1024\n",
    "pbar = tqdm.tqdm(total=total)\n",
    "writer = csv.writer(open('./ids_2022-12.csv', 'wt'))\n",
    "\n",
    "with open(\"./RS_2022-12.zst\", 'rb') as fh:\n",
    "    dctx = zstd.ZstdDecompressor(max_window_size=2147483648)\n",
    "    with dctx.stream_reader(fh) as reader:\n",
    "        previous_line = \"\"\n",
    "        while True:\n",
    "            chunk = reader.read(2**24)  # 16mb chunks\n",
    "            pbar.update(1)\n",
    "            if not chunk:\n",
    "                break\n",
    "                \n",
    "            try:\n",
    "                string_data = chunk.decode('utf-8')\n",
    "            except Exception as e:\n",
    "                print(e)\n",
    "                previous_line = \"\"\n",
    "                continue\n",
    "                \n",
    "            lines = string_data.split(\"\\n\")\n",
    "            for i, line in enumerate(lines[:-1]):\n",
    "                if i == 0:\n",
    "                    line = previous_line + line\n",
    "                \n",
    "                try:\n",
    "                    object = json.loads(line)\n",
    "                except Exception as e:\n",
    "                    print(e)\n",
    "                    continue\n",
    "                \n",
    "                writer.writerow([object['id'], object['subreddit_id'], object['created_utc'], object['subreddit'], object['url']])\n",
    "                \n",
    "                # do something with the object here\n",
    "            previous_line = lines[-1] "
   ]
  },
  {
   "cell_type": "code",
   "execution_count": 10,
   "id": "4cc2d749",
   "metadata": {},
   "outputs": [
    {
     "ename": "AttributeError",
     "evalue": "'_csv.writer' object has no attribute 'close'",
     "output_type": "error",
     "traceback": [
      "\u001b[0;31m---------------------------------------------------------------------------\u001b[0m",
      "\u001b[0;31mAttributeError\u001b[0m                            Traceback (most recent call last)",
      "Cell \u001b[0;32mIn [10], line 1\u001b[0m\n\u001b[0;32m----> 1\u001b[0m \u001b[43mwriter\u001b[49m\u001b[38;5;241;43m.\u001b[39;49m\u001b[43mclose\u001b[49m()\n",
      "\u001b[0;31mAttributeError\u001b[0m: '_csv.writer' object has no attribute 'close'"
     ]
    }
   ],
   "source": [
    "writer.close()"
   ]
  },
  {
   "cell_type": "code",
   "execution_count": 11,
   "id": "81556ccd",
   "metadata": {},
   "outputs": [
    {
     "data": {
      "text/plain": [
       "('10073tk',\n",
       " 't5_nltz5',\n",
       " 1672531199,\n",
       " 'exercisepostures',\n",
       " 'https://youtu.be/Skzk99jqsZ4')"
      ]
     },
     "execution_count": 11,
     "metadata": {},
     "output_type": "execute_result"
    }
   ],
   "source": [
    "object['id'], object['subreddit_id'], object['created_utc'], object['subreddit'], object['url']"
   ]
  },
  {
   "cell_type": "code",
   "execution_count": null,
   "id": "a62130e1",
   "metadata": {},
   "outputs": [],
   "source": []
  }
 ],
 "metadata": {
  "kernelspec": {
   "display_name": "Python 3 (ipykernel)",
   "language": "python",
   "name": "python3"
  },
  "language_info": {
   "codemirror_mode": {
    "name": "ipython",
    "version": 3
   },
   "file_extension": ".py",
   "mimetype": "text/x-python",
   "name": "python",
   "nbconvert_exporter": "python",
   "pygments_lexer": "ipython3",
   "version": "3.8.13"
  }
 },
 "nbformat": 4,
 "nbformat_minor": 5
}
