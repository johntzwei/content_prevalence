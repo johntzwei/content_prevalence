{
 "cells": [
  {
   "cell_type": "code",
   "execution_count": 1,
   "id": "de6302fb",
   "metadata": {},
   "outputs": [],
   "source": [
    "import numpy as np\n",
    "import pandas as pd\n",
    "import seaborn as sns\n",
    "from scipy import stats\n",
    "import datasets\n",
    "from tqdm.notebook import tqdm\n",
    "\n",
    "import utils"
   ]
  },
  {
   "cell_type": "markdown",
   "id": "7689cd5d",
   "metadata": {},
   "source": [
    "# Load pilot"
   ]
  },
  {
   "cell_type": "code",
   "execution_count": 2,
   "id": "d58624db",
   "metadata": {},
   "outputs": [],
   "source": [
    "score_column = 'label'\n",
    "annotations_file = './khalil_pilots.csv'\n",
    "database = 'pcmasterrace'\n",
    "within = 0.2"
   ]
  },
  {
   "cell_type": "code",
   "execution_count": 3,
   "id": "be715bf5",
   "metadata": {},
   "outputs": [
    {
     "data": {
      "text/html": [
       "<div>\n",
       "<style scoped>\n",
       "    .dataframe tbody tr th:only-of-type {\n",
       "        vertical-align: middle;\n",
       "    }\n",
       "\n",
       "    .dataframe tbody tr th {\n",
       "        vertical-align: top;\n",
       "    }\n",
       "\n",
       "    .dataframe thead th {\n",
       "        text-align: right;\n",
       "    }\n",
       "</style>\n",
       "<table border=\"1\" class=\"dataframe\">\n",
       "  <thead>\n",
       "    <tr style=\"text-align: right;\">\n",
       "      <th></th>\n",
       "      <th>random</th>\n",
       "      <th>database</th>\n",
       "      <th>bin</th>\n",
       "      <th>link</th>\n",
       "      <th>comment</th>\n",
       "      <th>raw_label</th>\n",
       "      <th>notes</th>\n",
       "      <th>label</th>\n",
       "    </tr>\n",
       "  </thead>\n",
       "  <tbody>\n",
       "    <tr>\n",
       "      <th>0</th>\n",
       "      <td>0.000134</td>\n",
       "      <td>askreddit</td>\n",
       "      <td>(-0.00043000000000000004, 0.000737]</td>\n",
       "      <td>https://www.reddit.com/r/AskReddit/comments/zq...</td>\n",
       "      <td>Case in point, try a Danish Blue on steak. Tan...</td>\n",
       "      <td>n</td>\n",
       "      <td>NaN</td>\n",
       "      <td>0</td>\n",
       "    </tr>\n",
       "    <tr>\n",
       "      <th>1</th>\n",
       "      <td>0.000660</td>\n",
       "      <td>askreddit</td>\n",
       "      <td>(-0.00043000000000000004, 0.000737]</td>\n",
       "      <td>https://www.reddit.com/r/askreddit/comments/zk...</td>\n",
       "      <td>It was actually hailed as 'last mile' transpor...</td>\n",
       "      <td>n</td>\n",
       "      <td>NaN</td>\n",
       "      <td>0</td>\n",
       "    </tr>\n",
       "  </tbody>\n",
       "</table>\n",
       "</div>"
      ],
      "text/plain": [
       "     random   database                                  bin  \\\n",
       "0  0.000134  askreddit  (-0.00043000000000000004, 0.000737]   \n",
       "1  0.000660  askreddit  (-0.00043000000000000004, 0.000737]   \n",
       "\n",
       "                                                link  \\\n",
       "0  https://www.reddit.com/r/AskReddit/comments/zq...   \n",
       "1  https://www.reddit.com/r/askreddit/comments/zk...   \n",
       "\n",
       "                                             comment raw_label notes  label  \n",
       "0  Case in point, try a Danish Blue on steak. Tan...         n   NaN      0  \n",
       "1  It was actually hailed as 'last mile' transpor...         n   NaN      0  "
      ]
     },
     "execution_count": 3,
     "metadata": {},
     "output_type": "execute_result"
    }
   ],
   "source": [
    "# pilot_df = pd.read_csv(annotations_file, delimiter='\\t', header=None)\n",
    "# pilot_df.columns = ['bin', 'link', 'comment', 'raw_label']\n",
    "# pilot_df = pilot_df.dropna()\n",
    "\n",
    "df = pd.read_csv(annotations_file, header=[0])\n",
    "df.columns = ['random', 'database', 'bin', 'link', 'comment', 'raw_label', 'notes']\n",
    "df[score_column] = [ 1 if i == 'y' else 0 for i in df['raw_label'] ]\n",
    "df.head(2)"
   ]
  },
  {
   "cell_type": "code",
   "execution_count": 4,
   "id": "655d62f7",
   "metadata": {},
   "outputs": [
    {
     "data": {
      "text/html": [
       "<div>\n",
       "<style scoped>\n",
       "    .dataframe tbody tr th:only-of-type {\n",
       "        vertical-align: middle;\n",
       "    }\n",
       "\n",
       "    .dataframe tbody tr th {\n",
       "        vertical-align: top;\n",
       "    }\n",
       "\n",
       "    .dataframe thead th {\n",
       "        text-align: right;\n",
       "    }\n",
       "</style>\n",
       "<table border=\"1\" class=\"dataframe\">\n",
       "  <thead>\n",
       "    <tr style=\"text-align: right;\">\n",
       "      <th></th>\n",
       "      <th>random</th>\n",
       "      <th>bin</th>\n",
       "      <th>link</th>\n",
       "      <th>comment</th>\n",
       "      <th>raw_label</th>\n",
       "      <th>notes</th>\n",
       "      <th>label</th>\n",
       "    </tr>\n",
       "    <tr>\n",
       "      <th>database</th>\n",
       "      <th></th>\n",
       "      <th></th>\n",
       "      <th></th>\n",
       "      <th></th>\n",
       "      <th></th>\n",
       "      <th></th>\n",
       "      <th></th>\n",
       "    </tr>\n",
       "  </thead>\n",
       "  <tbody>\n",
       "    <tr>\n",
       "      <th>askreddit</th>\n",
       "      <td>400</td>\n",
       "      <td>400</td>\n",
       "      <td>400</td>\n",
       "      <td>400</td>\n",
       "      <td>400</td>\n",
       "      <td>0</td>\n",
       "      <td>400</td>\n",
       "    </tr>\n",
       "    <tr>\n",
       "      <th>legaladvice</th>\n",
       "      <td>400</td>\n",
       "      <td>400</td>\n",
       "      <td>400</td>\n",
       "      <td>400</td>\n",
       "      <td>400</td>\n",
       "      <td>1</td>\n",
       "      <td>400</td>\n",
       "    </tr>\n",
       "    <tr>\n",
       "      <th>pcmasterrace</th>\n",
       "      <td>400</td>\n",
       "      <td>400</td>\n",
       "      <td>400</td>\n",
       "      <td>400</td>\n",
       "      <td>400</td>\n",
       "      <td>0</td>\n",
       "      <td>400</td>\n",
       "    </tr>\n",
       "    <tr>\n",
       "      <th>politics</th>\n",
       "      <td>400</td>\n",
       "      <td>400</td>\n",
       "      <td>400</td>\n",
       "      <td>400</td>\n",
       "      <td>400</td>\n",
       "      <td>0</td>\n",
       "      <td>400</td>\n",
       "    </tr>\n",
       "    <tr>\n",
       "      <th>sex</th>\n",
       "      <td>400</td>\n",
       "      <td>400</td>\n",
       "      <td>400</td>\n",
       "      <td>400</td>\n",
       "      <td>400</td>\n",
       "      <td>3</td>\n",
       "      <td>400</td>\n",
       "    </tr>\n",
       "    <tr>\n",
       "      <th>wow</th>\n",
       "      <td>400</td>\n",
       "      <td>400</td>\n",
       "      <td>400</td>\n",
       "      <td>400</td>\n",
       "      <td>400</td>\n",
       "      <td>1</td>\n",
       "      <td>400</td>\n",
       "    </tr>\n",
       "  </tbody>\n",
       "</table>\n",
       "</div>"
      ],
      "text/plain": [
       "              random  bin  link  comment  raw_label  notes  label\n",
       "database                                                         \n",
       "askreddit        400  400   400      400        400      0    400\n",
       "legaladvice      400  400   400      400        400      1    400\n",
       "pcmasterrace     400  400   400      400        400      0    400\n",
       "politics         400  400   400      400        400      0    400\n",
       "sex              400  400   400      400        400      3    400\n",
       "wow              400  400   400      400        400      1    400"
      ]
     },
     "execution_count": 4,
     "metadata": {},
     "output_type": "execute_result"
    }
   ],
   "source": [
    "df.groupby('database').count()"
   ]
  },
  {
   "cell_type": "code",
   "execution_count": 5,
   "id": "59973c39",
   "metadata": {},
   "outputs": [],
   "source": [
    "pilot_df = df[df.database == database]"
   ]
  },
  {
   "cell_type": "markdown",
   "id": "1ffa9d5c",
   "metadata": {},
   "source": [
    "# Pilot estimate of p"
   ]
  },
  {
   "cell_type": "code",
   "execution_count": 6,
   "id": "5f374a36",
   "metadata": {},
   "outputs": [
    {
     "data": {
      "text/plain": [
       "0.04"
      ]
     },
     "execution_count": 6,
     "metadata": {},
     "output_type": "execute_result"
    }
   ],
   "source": [
    "pilot_mean = 0.\n",
    "for i, group in pilot_df.groupby('bin'):\n",
    "    strata_mean = group[score_column].mean()\n",
    "    pilot_mean += strata_mean * (len(group) / len(pilot_df))\n",
    "pilot_mean"
   ]
  },
  {
   "cell_type": "markdown",
   "id": "14d2a8e3",
   "metadata": {},
   "source": [
    "# Allocation"
   ]
  },
  {
   "cell_type": "code",
   "execution_count": 7,
   "id": "09a4d9e9",
   "metadata": {},
   "outputs": [
    {
     "name": "stdout",
     "output_type": "stream",
     "text": [
      "1 (-0.00043599999999999997, 0.000666]\n",
      "1 (0.000666, 0.000734]\n",
      "1 (0.000734, 0.000844]\n",
      "2 (0.000844, 0.00107]\n",
      "1 (0.00107, 0.00176]\n",
      "2 (0.00176, 0.00706]\n",
      "3 (0.00706, 0.763]\n",
      "13 (0.763, 0.999]\n",
      "\n",
      "50 0.13733516208736252 429.1376695179857\n",
      "50 0.13733516208736252 429.1376695179857\n",
      "50 0.13733516208736252 429.1376695179857\n",
      "50 0.19230769230769232 600.9129319322293\n",
      "50 0.13733516208736252 429.1376695179857\n",
      "50 0.1923076923076923 600.9129319322292\n",
      "50 0.23316068563427197 728.5682103222597\n",
      "50 0.4330127018922193 1353.0552477413391\n"
     ]
    }
   ],
   "source": [
    "sizes_sigmas = []\n",
    "for i, group in pilot_df.groupby('bin'):\n",
    "    pilot = np.array(group[score_column])\n",
    "    # laplace smoothing\n",
    "    pilot = np.concatenate([np.array([1,0]), pilot])\n",
    "    print(pilot.sum(), i)\n",
    "    sizes_sigmas.append((len(group), np.std(pilot)))\n",
    "print()\n",
    "\n",
    "size = 5000\n",
    "allocations = []\n",
    "denominator = np.sum([ n_h * sigma_h for n_h, sigma_h in sizes_sigmas ])\n",
    "for n_h, sigma_h in sizes_sigmas:\n",
    "    n_from_bin = size * n_h * sigma_h / denominator\n",
    "    print(n_h, sigma_h, n_from_bin)\n",
    "    allocations.append(n_from_bin)"
   ]
  },
  {
   "cell_type": "code",
   "execution_count": 8,
   "id": "6df1e376",
   "metadata": {},
   "outputs": [
    {
     "data": {
      "text/plain": [
       "[1.0,\n",
       " 1.0,\n",
       " 1.0,\n",
       " 1.4002800840280096,\n",
       " 1.0,\n",
       " 1.4002800840280094,\n",
       " 1.6977493752543307,\n",
       " 3.152963125472328]"
      ]
     },
     "execution_count": 8,
     "metadata": {},
     "output_type": "execute_result"
    }
   ],
   "source": [
    "minimum = np.min(allocations)\n",
    "multipliers = [ i / minimum for i in allocations ]\n",
    "multipliers"
   ]
  },
  {
   "cell_type": "code",
   "execution_count": 9,
   "id": "c0f39e14",
   "metadata": {
    "scrolled": true
   },
   "outputs": [
    {
     "name": "stdout",
     "output_type": "stream",
     "text": [
      "(-0.00043599999999999997, 0.000666] 50 429.1376695179857 0.0 0.0\n",
      "(0.000666, 0.000734] 50 429.1376695179857 0.0 0.0\n",
      "(0.000734, 0.000844] 50 429.1376695179857 0.0 0.0\n",
      "(0.000844, 0.00107] 50 600.9129319322293 0.02 0.019999999999999976\n",
      "(0.00107, 0.00176] 50 429.1376695179857 0.0 0.0\n",
      "(0.00176, 0.00706] 50 600.9129319322292 0.02 0.019999999999999955\n",
      "(0.00706, 0.763] 50 728.5682103222597 0.04 0.0391836734693878\n",
      "(0.763, 0.999] 50 1353.0552477413391 0.24 0.18612244897959182\n"
     ]
    },
    {
     "data": {
      "text/plain": [
       "('stddev of estimator: ', 0.0020074249003956914)"
      ]
     },
     "execution_count": 9,
     "metadata": {},
     "output_type": "execute_result"
    }
   ],
   "source": [
    "stratified_var = 0\n",
    "for (i, group), n_from_bin in zip(pilot_df.groupby('bin'), allocations):\n",
    "    print(i, len(group), n_from_bin, group[score_column].mean(), group[score_column].var())\n",
    "    \n",
    "    p = group[score_column].mean()\n",
    "    \n",
    "    # approximation when the groups are very large\n",
    "    stratified_var += np.square(len(group) / len(pilot_df)) * (group[score_column].var() / n_from_bin)\n",
    "'stddev of estimator: ', np.sqrt(stratified_var)"
   ]
  },
  {
   "cell_type": "code",
   "execution_count": 10,
   "id": "10f4f4df",
   "metadata": {},
   "outputs": [
    {
     "name": "stdout",
     "output_type": "stream",
     "text": [
      "[0.0361, 0.0439]\n"
     ]
    }
   ],
   "source": [
    "stddev = np.sqrt(stratified_var)\n",
    "left = stats.norm.ppf([0.025]).item() * stddev + pilot_mean\n",
    "right = stats.norm.ppf([0.975]).item() * stddev + pilot_mean\n",
    "print('[%.4f, %.4f]' % (left, right))"
   ]
  },
  {
   "cell_type": "code",
   "execution_count": 11,
   "id": "32a06c5c",
   "metadata": {},
   "outputs": [
    {
     "name": "stdout",
     "output_type": "stream",
     "text": [
      "(-0.00043599999999999997, 0.000666] 50 1.0 0.0 0.0\n",
      "(0.000666, 0.000734] 50 1.0 0.0 0.0\n",
      "(0.000734, 0.000844] 50 1.0 0.0 0.0\n",
      "(0.000844, 0.00107] 50 1.4002800840280096 0.02 0.019999999999999976\n",
      "(0.00107, 0.00176] 50 1.0 0.0 0.0\n",
      "(0.00176, 0.00706] 50 1.4002800840280094 0.02 0.019999999999999955\n",
      "(0.00706, 0.763] 50 1.6977493752543307 0.04 0.0391836734693878\n",
      "(0.763, 0.999] 50 3.152963125472328 0.24 0.18612244897959182\n"
     ]
    }
   ],
   "source": [
    "numerator = 0\n",
    "for (i, group), multip_h in zip(pilot_df.groupby('bin'), multipliers):\n",
    "    print(i, len(group), multip_h, group[score_column].mean(), group[score_column].var())\n",
    "    \n",
    "    # approximation when the groups are very large\n",
    "    numerator += np.square(len(group) / len(pilot_df)) * (group[score_column].var() / multip_h)"
   ]
  },
  {
   "cell_type": "markdown",
   "id": "3eba7881",
   "metadata": {},
   "source": [
    "# Power analysis"
   ]
  },
  {
   "cell_type": "code",
   "execution_count": 12,
   "id": "cf1700d2",
   "metadata": {},
   "outputs": [],
   "source": [
    "def calculate_n(var, desired_ci, alpha=0.05):\n",
    "    z_statistic = stats.norm.ppf(1 - (alpha / 2))\n",
    "    se_squared = np.square(desired_ci / z_statistic)\n",
    "    n = var / se_squared\n",
    "    return n"
   ]
  },
  {
   "cell_type": "code",
   "execution_count": 13,
   "id": "29178f1f",
   "metadata": {},
   "outputs": [
    {
     "name": "stdout",
     "output_type": "stream",
     "text": [
      "0.03606551949355554 2567\n",
      "0.04393448050644446 2090\n"
     ]
    }
   ],
   "source": [
    "rs_n = []\n",
    "for p in [left, right]:\n",
    "    desired_ci = p * within     # within 5 percent of p\n",
    "    var = p * (1 - p)\n",
    "\n",
    "    rs_n.append(calculate_n(var, desired_ci)+1)\n",
    "    print(p, int(rs_n[-1]))"
   ]
  },
  {
   "cell_type": "code",
   "execution_count": 14,
   "id": "dd707f4a",
   "metadata": {},
   "outputs": [
    {
     "name": "stdout",
     "output_type": "stream",
     "text": [
      "0.03606551949355554 1488\n",
      "0.04393448050644446 1003\n"
     ]
    }
   ],
   "source": [
    "ss_n = []\n",
    "for p in [left, right]:\n",
    "    desired_ci = p * within\n",
    "\n",
    "    alpha = 0.05\n",
    "    z_statistic = stats.norm.ppf(1 - (alpha / 2))\n",
    "    desired_var = np.square(desired_ci / z_statistic)\n",
    "\n",
    "    minimum = numerator / desired_var\n",
    "    ss_n.append(np.sum([minimum * multip for multip in multipliers])+1)\n",
    "    print(p, int(ss_n[-1]))"
   ]
  },
  {
   "cell_type": "code",
   "execution_count": 15,
   "id": "6cc8946b",
   "metadata": {},
   "outputs": [
    {
     "name": "stdout",
     "output_type": "stream",
     "text": [
      "0.04393448050644446 3097\n"
     ]
    }
   ],
   "source": [
    "desired_ci = 0.005\n",
    "\n",
    "alpha = 0.05\n",
    "z_statistic = stats.norm.ppf(1 - (alpha / 2))\n",
    "desired_var = np.square(desired_ci / z_statistic)\n",
    "\n",
    "minimum = numerator / desired_var\n",
    "mde_n = np.sum([minimum * multip for multip in multipliers])+1\n",
    "print(p, int(mde_n))"
   ]
  },
  {
   "cell_type": "code",
   "execution_count": 16,
   "id": "d03b088f",
   "metadata": {},
   "outputs": [
    {
     "data": {
      "text/plain": [
       "0.4202622486267441"
      ]
     },
     "execution_count": 16,
     "metadata": {},
     "output_type": "execute_result"
    }
   ],
   "source": [
    "efficiency = 1 - (ss_n[0] / rs_n[0])\n",
    "efficiency"
   ]
  },
  {
   "cell_type": "code",
   "execution_count": 17,
   "id": "9fd7e3f5",
   "metadata": {},
   "outputs": [
    {
     "name": "stdout",
     "output_type": "stream",
     "text": [
      "r/pcmasterrace & 4.00\\% & [3.61\\%, 4.39\\%] & [1003, 1488] & [2090, 2567] & 42\\% & 3097 \\\\\n"
     ]
    }
   ],
   "source": [
    "print('r/%s & %.2f\\%% & [%.2f\\%%, %.2f\\%%] & [%d, %d] & [%d, %d] & %d\\%% & %d \\\\\\\\' % (database, pilot_mean*100, left*100, right*100, ss_n[1], ss_n[0], rs_n[1], rs_n[0], efficiency*100, mde_n,))"
   ]
  },
  {
   "cell_type": "code",
   "execution_count": 18,
   "id": "f02a633c",
   "metadata": {},
   "outputs": [
    {
     "data": {
      "text/plain": [
       "(0.04, 0.0361, 0.0439)"
      ]
     },
     "execution_count": 18,
     "metadata": {},
     "output_type": "execute_result"
    }
   ],
   "source": [
    "pilot_mean, np.round(left, 4), np.round(right, 4)"
   ]
  }
 ],
 "metadata": {
  "kernelspec": {
   "display_name": "Python 3 (ipykernel)",
   "language": "python",
   "name": "python3"
  },
  "language_info": {
   "codemirror_mode": {
    "name": "ipython",
    "version": 3
   },
   "file_extension": ".py",
   "mimetype": "text/x-python",
   "name": "python",
   "nbconvert_exporter": "python",
   "pygments_lexer": "ipython3",
   "version": "3.8.13"
  }
 },
 "nbformat": 4,
 "nbformat_minor": 5
}
