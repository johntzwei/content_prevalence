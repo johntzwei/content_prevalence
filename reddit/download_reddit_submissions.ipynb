{
 "cells": [
  {
   "cell_type": "code",
   "execution_count": 1,
   "id": "27e9f11f",
   "metadata": {},
   "outputs": [],
   "source": [
    "import pandas as pd\n",
    "from sqlalchemy import create_engine, MetaData, Table, Column, Integer, String, Text, \\\n",
    "    select, update, func\n",
    "from tqdm.notebook import tqdm\n",
    "import praw\n",
    "import time"
   ]
  },
  {
   "cell_type": "code",
   "execution_count": 2,
   "id": "1e1cf135",
   "metadata": {},
   "outputs": [],
   "source": [
    "db_name = 'legaladvice.db'\n",
    "subreddit = 'legaladvice'\n",
    "seed = 0\n",
    "stop_at = 100000\n",
    "exclude_top_level = True"
   ]
  },
  {
   "cell_type": "code",
   "execution_count": 3,
   "id": "6964960c",
   "metadata": {},
   "outputs": [],
   "source": [
    "engine = create_engine('sqlite:///%s' % db_name, echo = False)\n",
    "meta = MetaData()\n",
    "\n",
    "submissions_table = Table(\n",
    "   'submissions', meta, \n",
    "    Column('id', String, primary_key=True),\n",
    "    Column('status', Integer),\n",
    ")"
   ]
  },
  {
   "cell_type": "code",
   "execution_count": 4,
   "id": "a9a5e0cc",
   "metadata": {},
   "outputs": [],
   "source": [
    "meta = MetaData()\n",
    "comments_table = Table(\n",
    "   'comments', meta, \n",
    "    Column('comment_id', String, primary_key=True),\n",
    "    Column('submission_id', String),\n",
    "    Column('url', String),\n",
    "    Column('comment', Text),    \n",
    ")\n",
    "meta.create_all(engine)"
   ]
  },
  {
   "cell_type": "code",
   "execution_count": 5,
   "id": "e99c7fd1",
   "metadata": {},
   "outputs": [],
   "source": [
    "reddit = praw.Reddit(\n",
    "    client_id=\"PTYaeRF8ATlqboPxx-3u6g\",\n",
    "    client_secret=\"o9GvtpP9xk-CXfj7Y5Tys62dOZSyRw\",\n",
    "    user_agent=\"comment extraction for prevalence estimation (by u/patroklos1)\",\n",
    "    #password=\"8PmSSKqNfnQ3hvy\",\n",
    "    #username=\"patroklos1\",\n",
    ")"
   ]
  },
  {
   "cell_type": "code",
   "execution_count": null,
   "id": "d0e54677",
   "metadata": {
    "scrolled": false
   },
   "outputs": [
    {
     "name": "stderr",
     "output_type": "stream",
     "text": [
      "/tmp/ipykernel_33867/589220735.py:3: RemovedIn20Warning: Deprecated API features detected! These feature(s) are not compatible with SQLAlchemy 2.0. To prevent incompatible upgrades prior to updating applications, ensure requirements files are pinned to \"sqlalchemy<2.0\". Set environment variable SQLALCHEMY_WARN_20=1 to show all deprecation warnings.  Set environment variable SQLALCHEMY_SILENCE_UBER_WARNING=1 to silence this message. (Background on SQLAlchemy 2.0 at: https://sqlalche.me/e/b8d9)\n",
      "  num_rows = engine.execute('select count(comment_id) from comments').scalar()\n"
     ]
    },
    {
     "name": "stdout",
     "output_type": "stream",
     "text": [
      "0\n",
      "0\n",
      "2\n",
      "3\n",
      "3\n",
      "3\n",
      "3\n",
      "10\n",
      "10\n"
     ]
    }
   ],
   "source": [
    "while True:\n",
    "    with engine.connect() as conn:\n",
    "        num_rows = engine.execute('select count(comment_id) from comments').scalar()\n",
    "        \n",
    "    print(num_rows)\n",
    "    if num_rows >= stop_at:\n",
    "        break\n",
    "    \n",
    "    with engine.connect() as conn:\n",
    "        # get an unvisited submission\n",
    "        stmt = submissions_table.select()\n",
    "        stmt = stmt.where(submissions_table.c.status==0).order_by(func.random()).limit(1)\n",
    "        row = next(conn.execute(stmt))\n",
    "        submission_id, status = row\n",
    "\n",
    "        # update\n",
    "        stmt = submissions_table.update()\n",
    "        stmt = stmt.where(submissions_table.c.id==submission_id)\n",
    "        stmt = stmt.values(status=1)\n",
    "        conn.execute(stmt)\n",
    "\n",
    "    # retrieve comments\n",
    "    submission = reddit.submission(submission_id)\n",
    "    submission.comments.replace_more(limit=None)\n",
    "    data = []\n",
    "    for comment in submission.comments.list():\n",
    "        url = \"https://www.reddit.com/r/%s/comments/%s/comment/%s\" % (subreddit, submission_id, comment.id)\n",
    "        \n",
    "        if exclude_top_level and comment.parent_id.startswith('t3'):\n",
    "            continue\n",
    "        \n",
    "        data.append((comment.id, submission_id, url, comment.body))\n",
    "\n",
    "    # save\n",
    "    with engine.connect() as conn:\n",
    "        # update\n",
    "        stmt = submissions_table.update()\n",
    "        stmt = stmt.where(submissions_table.c.id==submission_id)\n",
    "        stmt = stmt.values(status=2)\n",
    "        conn.execute(stmt)\n",
    "\n",
    "        if len(data) == 0:\n",
    "            continue\n",
    "        else:\n",
    "            for id, submission_id, url, comment in data:\n",
    "                ins = comments_table.insert().values(\n",
    "                    comment_id=id, submission_id=submission_id, url=url, comment=comment)\n",
    "                result = conn.execute(ins)\n",
    "        \n",
    "    # time.sleep(0.1)"
   ]
  },
  {
   "cell_type": "code",
   "execution_count": null,
   "id": "fd354fad",
   "metadata": {},
   "outputs": [],
   "source": [
    "with engine.connect() as conn:\n",
    "    stmt = comments_table.select()\n",
    "    stmt = stmt.order_by(func.random()).limit(1)\n",
    "    row = next(conn.execute(stmt))\n",
    "    print(row)"
   ]
  },
  {
   "cell_type": "code",
   "execution_count": null,
   "id": "8114eeda",
   "metadata": {},
   "outputs": [],
   "source": [
    "with engine.connect() as conn:\n",
    "    total_rows = engine.execute('select count(id) from submissions').scalar()\n",
    "    print(total_rows)\n",
    "    collected_rows = engine.execute('select count(id) from submissions where status=0').scalar()\n",
    "    print(collected_rows)\n",
    "    \n",
    "    print(1 - collected_rows / total_rows)"
   ]
  },
  {
   "cell_type": "code",
   "execution_count": null,
   "id": "ee3d4142",
   "metadata": {},
   "outputs": [],
   "source": []
  }
 ],
 "metadata": {
  "kernelspec": {
   "display_name": "Python 3 (ipykernel)",
   "language": "python",
   "name": "python3"
  },
  "language_info": {
   "codemirror_mode": {
    "name": "ipython",
    "version": 3
   },
   "file_extension": ".py",
   "mimetype": "text/x-python",
   "name": "python",
   "nbconvert_exporter": "python",
   "pygments_lexer": "ipython3",
   "version": "3.8.13"
  }
 },
 "nbformat": 4,
 "nbformat_minor": 5
}
