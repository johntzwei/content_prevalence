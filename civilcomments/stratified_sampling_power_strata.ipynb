{
 "cells": [
  {
   "cell_type": "code",
   "execution_count": 1,
   "id": "de6302fb",
   "metadata": {},
   "outputs": [],
   "source": [
    "import numpy as np\n",
    "import pandas as pd\n",
    "import seaborn as sns\n",
    "sns.set()\n",
    "sns.set_context('paper', font_scale=0.65)\n",
    "sns.set_style('whitegrid', {'font.family':'serif', 'font.serif':'Times New Roman'})\n",
    "import matplotlib.pyplot as plt\n",
    "from scipy import stats\n",
    "import datasets\n",
    "from tqdm.notebook import tqdm\n",
    "from functools import lru_cache\n",
    "\n",
    "\n",
    "import utils"
   ]
  },
  {
   "cell_type": "code",
   "execution_count": 2,
   "id": "a6c79ce9",
   "metadata": {},
   "outputs": [
    {
     "name": "stderr",
     "output_type": "stream",
     "text": [
      "Found cached dataset parquet (/home/johnny/.cache/huggingface/datasets/parquet/civil_comments-e92c9358c47debf9/0.0.0/14a00e99c0d15a23649d0db8944380ac81082d4b021f398733dd84f3a6c569a7)\n"
     ]
    },
    {
     "data": {
      "application/vnd.jupyter.widget-view+json": {
       "model_id": "31c1925083144831b28e326f5453b35c",
       "version_major": 2,
       "version_minor": 0
      },
      "text/plain": [
       "  0%|          | 0/3 [00:00<?, ?it/s]"
      ]
     },
     "metadata": {},
     "output_type": "display_data"
    },
    {
     "name": "stderr",
     "output_type": "stream",
     "text": [
      "Loading cached shuffled indices for dataset at /home/johnny/.cache/huggingface/datasets/parquet/civil_comments-e92c9358c47debf9/0.0.0/14a00e99c0d15a23649d0db8944380ac81082d4b021f398733dd84f3a6c569a7/cache-26324163aea91a3b.arrow\n",
      "Loading cached processed dataset at /home/johnny/.cache/huggingface/datasets/parquet/civil_comments-e92c9358c47debf9/0.0.0/14a00e99c0d15a23649d0db8944380ac81082d4b021f398733dd84f3a6c569a7/cache-392dd59de6b13b83.arrow\n",
      "Loading cached processed dataset at /home/johnny/.cache/huggingface/datasets/parquet/civil_comments-e92c9358c47debf9/0.0.0/14a00e99c0d15a23649d0db8944380ac81082d4b021f398733dd84f3a6c569a7/cache-2bef193312149c10.arrow\n"
     ]
    }
   ],
   "source": [
    "train_ds, valid_ds, test_ds = utils.load_dataset()"
   ]
  },
  {
   "cell_type": "code",
   "execution_count": 3,
   "id": "e8d8c28c",
   "metadata": {},
   "outputs": [],
   "source": [
    "score_npy = 'scores/roberta_balanced.npy'\n",
    "score_column = 'scores'\n",
    "\n",
    "# bins = None\n",
    "# cut = 'quantile'\n",
    "# allocation = 'optimal'\n",
    "within = 0.2"
   ]
  },
  {
   "cell_type": "code",
   "execution_count": 4,
   "id": "5afea81e",
   "metadata": {},
   "outputs": [],
   "source": [
    "labels = test_ds['toxicity']\n",
    "scores = np.load(score_npy)\n",
    "df = pd.DataFrame(data={'toxicity' : labels, 'toxic' : test_ds['label'], 'scores' : scores})"
   ]
  },
  {
   "cell_type": "code",
   "execution_count": 5,
   "id": "ea135fa4",
   "metadata": {},
   "outputs": [
    {
     "data": {
      "text/html": [
       "<div>\n",
       "<style scoped>\n",
       "    .dataframe tbody tr th:only-of-type {\n",
       "        vertical-align: middle;\n",
       "    }\n",
       "\n",
       "    .dataframe tbody tr th {\n",
       "        vertical-align: top;\n",
       "    }\n",
       "\n",
       "    .dataframe thead th {\n",
       "        text-align: right;\n",
       "    }\n",
       "</style>\n",
       "<table border=\"1\" class=\"dataframe\">\n",
       "  <thead>\n",
       "    <tr style=\"text-align: right;\">\n",
       "      <th></th>\n",
       "      <th>toxicity</th>\n",
       "      <th>toxic</th>\n",
       "      <th>scores</th>\n",
       "    </tr>\n",
       "  </thead>\n",
       "  <tbody>\n",
       "    <tr>\n",
       "      <th>0</th>\n",
       "      <td>0.4</td>\n",
       "      <td>0</td>\n",
       "      <td>0.27451</td>\n",
       "    </tr>\n",
       "  </tbody>\n",
       "</table>\n",
       "</div>"
      ],
      "text/plain": [
       "   toxicity  toxic   scores\n",
       "0       0.4      0  0.27451"
      ]
     },
     "execution_count": 5,
     "metadata": {},
     "output_type": "execute_result"
    }
   ],
   "source": [
    "df.head(1)"
   ]
  },
  {
   "cell_type": "code",
   "execution_count": 6,
   "id": "4769fb03",
   "metadata": {},
   "outputs": [
    {
     "data": {
      "text/plain": [
       "(100601, 0.059007879761202295)"
      ]
     },
     "execution_count": 6,
     "metadata": {},
     "output_type": "execute_result"
    }
   ],
   "source": [
    "df['toxic'].sum(), df['toxic'].mean()"
   ]
  },
  {
   "cell_type": "code",
   "execution_count": 7,
   "id": "d37b96aa",
   "metadata": {},
   "outputs": [],
   "source": [
    "size = 12192"
   ]
  },
  {
   "cell_type": "code",
   "execution_count": 8,
   "id": "35fde490",
   "metadata": {},
   "outputs": [
    {
     "data": {
      "text/plain": [
       "0.0021340791433234136"
      ]
     },
     "execution_count": 8,
     "metadata": {},
     "output_type": "execute_result"
    }
   ],
   "source": [
    "p = df['toxic'].mean()\n",
    "random_sampling_var = p * (1 - p)\n",
    "np.sqrt(random_sampling_var / size)"
   ]
  },
  {
   "cell_type": "markdown",
   "id": "755d16fd",
   "metadata": {},
   "source": [
    "### Oracle bin search"
   ]
  },
  {
   "cell_type": "code",
   "execution_count": 9,
   "id": "e4baad98",
   "metadata": {},
   "outputs": [],
   "source": [
    "def get_error(df):\n",
    "    sizes_sigmas = []\n",
    "    for i, group in df.groupby('bin'):\n",
    "        # to round up to 1\n",
    "        pilot = group['toxic']\n",
    "        sizes_sigmas.append((len(group), np.std(pilot)))\n",
    "\n",
    "    allocations = []\n",
    "    denominator = np.sum([ n_h * sigma_h for n_h, sigma_h in sizes_sigmas ])\n",
    "    for n_h, sigma_h in sizes_sigmas:\n",
    "        n_from_bin = size * n_h * sigma_h / denominator\n",
    "        allocations.append(n_from_bin)\n",
    "    \n",
    "    stratified_var = 0\n",
    "    for (i, group), n_from_bin in zip(df.groupby('bin'), allocations):\n",
    "\n",
    "        p = group['toxic'].mean()\n",
    "\n",
    "        # approximation when the groups are very large\n",
    "        stratified_var += np.square(len(group) / len(df)) * (group['toxic'].var() / n_from_bin)\n",
    "    return np.sqrt(stratified_var)"
   ]
  },
  {
   "cell_type": "code",
   "execution_count": 10,
   "id": "3e4723aa",
   "metadata": {},
   "outputs": [
    {
     "data": {
      "text/plain": [
       "'\\n=== 2 ===\\n- [0, 1]\\n1 [0, 2, 1]\\n\\n=== 4 ===\\n1 [0, 3, 2, 1]\\n3 [0, 3, 2, 4, 1]\\n\\n=== 8 ===\\n1 [0, 5, 3, 2, 4, 1]\\n3 [0, 5, 3, 6, 2, 4, 1]\\n\\n5 [0, 5, 6, 3, 2, 7, 4, 1]\\n7 [0, 5, 6, 3, 2, 7, 4, 8, 1]\\n\\n=== 16 ===\\n1 [0, 9, 5, 6, 3, 2, 7, 4, 8, 1]\\n3 [0, 9, 5, 10, 6, 3, 2, 7, 4, 8, 1]\\n5 [0, 9, 5, 10, 6, 11, 3, 2, 7, 4, 8, 1]\\n7 [0, 9, 5, 10, 6, 11, 3, 12, 2, 7, 4, 8, 1]\\n\\n9  [0, 9, 5, 10, 6, 11, 3, 12, 2, 13, 7, 4, 8, 1]\\n11 [0, 9, 5, 10, 6, 11, 3, 12, 2, 13, 7, 14, 4, 8, 1]\\n13 [0, 9, 5, 10, 6, 11, 3, 12, 2, 13, 7, 14, 4, 15, 8, 1]\\n15 [0, 9, 5, 10, 6, 11, 3, 12, 2, 13, 7, 14, 4, 15, 8, 16, 1]\\n'"
      ]
     },
     "execution_count": 10,
     "metadata": {},
     "output_type": "execute_result"
    }
   ],
   "source": [
    "'''\n",
    "=== 2 ===\n",
    "- [0, 1]\n",
    "1 [0, 2, 1]\n",
    "\n",
    "=== 4 ===\n",
    "1 [0, 3, 2, 1]\n",
    "3 [0, 3, 2, 4, 1]\n",
    "\n",
    "=== 8 ===\n",
    "1 [0, 5, 3, 2, 4, 1]\n",
    "3 [0, 5, 3, 6, 2, 4, 1]\n",
    "\n",
    "5 [0, 5, 6, 3, 2, 7, 4, 1]\n",
    "7 [0, 5, 6, 3, 2, 7, 4, 8, 1]\n",
    "\n",
    "=== 16 ===\n",
    "1 [0, 9, 5, 6, 3, 2, 7, 4, 8, 1]\n",
    "3 [0, 9, 5, 10, 6, 3, 2, 7, 4, 8, 1]\n",
    "5 [0, 9, 5, 10, 6, 11, 3, 2, 7, 4, 8, 1]\n",
    "7 [0, 9, 5, 10, 6, 11, 3, 12, 2, 7, 4, 8, 1]\n",
    "\n",
    "9  [0, 9, 5, 10, 6, 11, 3, 12, 2, 13, 7, 4, 8, 1]\n",
    "11 [0, 9, 5, 10, 6, 11, 3, 12, 2, 13, 7, 14, 4, 8, 1]\n",
    "13 [0, 9, 5, 10, 6, 11, 3, 12, 2, 13, 7, 14, 4, 15, 8, 1]\n",
    "15 [0, 9, 5, 10, 6, 11, 3, 12, 2, 13, 7, 14, 4, 15, 8, 16, 1]\n",
    "'''"
   ]
  },
  {
   "cell_type": "code",
   "execution_count": 11,
   "id": "beace42a",
   "metadata": {
    "scrolled": false
   },
   "outputs": [],
   "source": [
    "def oracle_bins(df, depth=4):\n",
    "    minimum_bins = [0, 1]\n",
    "    minimum_err = 1\n",
    "    steps = 10\n",
    "\n",
    "    for level in range(1, depth+1):\n",
    "        if level == 1:\n",
    "            indexes = [1]\n",
    "        else:\n",
    "            indexes = list(range(1, level*2, 2))\n",
    "\n",
    "        for idx in indexes:\n",
    "            bins = minimum_bins.copy()\n",
    "            bins.insert(idx, 0)\n",
    "            lb, ub = bins[idx-1], bins[idx+1]\n",
    "\n",
    "            # print(lb + (ub-lb)/steps, ub)\n",
    "\n",
    "            for i in np.linspace( lb + (ub-lb)/steps, ub, steps, endpoint=False):\n",
    "                bins[idx] = i\n",
    "                df['bin'] = pd.qcut(df[score_column], bins)\n",
    "                new_err = get_error(df)\n",
    "                if new_err < minimum_err:\n",
    "                    minimum_err = new_err\n",
    "                    minimum_bins = bins.copy()\n",
    "\n",
    "    return minimum_bins"
   ]
  },
  {
   "cell_type": "markdown",
   "id": "14d2a8e3",
   "metadata": {},
   "source": [
    "### Allocation"
   ]
  },
  {
   "cell_type": "code",
   "execution_count": 12,
   "id": "76c62ae7",
   "metadata": {},
   "outputs": [
    {
     "data": {
      "text/plain": [
       "1.5849625007211563"
      ]
     },
     "execution_count": 12,
     "metadata": {},
     "output_type": "execute_result"
    }
   ],
   "source": [
    "np.log(3) / np.log(2)"
   ]
  },
  {
   "cell_type": "code",
   "execution_count": 26,
   "id": "09a4d9e9",
   "metadata": {},
   "outputs": [],
   "source": [
    "def calculate(cut = 'quantile', allocation = 'optimal', within = 0.2, pilot_size=50):\n",
    "    print(cut, end=',')\n",
    "    print(allocation, end=',')\n",
    "    \n",
    "    results = []\n",
    "    \n",
    "    for bins in range(2, 18, 2):\n",
    "        if cut == 'eqwidth':\n",
    "            minimum, maximum = df[score_column].min(), df[score_column].max()\n",
    "            df['bin'] = pd.cut(df[score_column], np.linspace(minimum, maximum, num=bins+1), include_lowest=True)\n",
    "        elif cut == 'quantile':\n",
    "            df['bin'] = pd.qcut(df[score_column], np.linspace(0, 1, num=bins+1))\n",
    "        elif cut == 'searched':\n",
    "            depth = int(np.log(bins) / np.log(2))\n",
    "            bins = oracle_bins(df, depth = depth)\n",
    "            df['bin'] = pd.qcut(df[score_column], bins)\n",
    "\n",
    "        sizes_sigmas = []\n",
    "        for i, group in df.groupby('bin'):\n",
    "            # to round up to 1\n",
    "            if allocation == 'pilot':\n",
    "                pilot = np.array(group['toxic'].sample(pilot_size + 2))\n",
    "                pilot[-1] = 1\n",
    "                pilot[-2] = 0\n",
    "            elif allocation == 'optimal':\n",
    "                pilot = group['toxic']\n",
    "            else:\n",
    "                pilot = group['toxic']\n",
    "            sizes_sigmas.append((len(group), np.std(pilot)))\n",
    "\n",
    "        if allocation == 'equal':\n",
    "            sizes_sigmas = [ (1, 1) for i, j in sizes_sigmas ]\n",
    "\n",
    "        multipliers = []\n",
    "        denominator = np.sum([ n_h * sigma_h for n_h, sigma_h in sizes_sigmas ])\n",
    "        for n_h, sigma_h in sizes_sigmas:\n",
    "            n_from_bin = n_h * sigma_h / denominator\n",
    "            multipliers.append(n_from_bin)\n",
    "\n",
    "        desired_ci = p * within\n",
    "\n",
    "        alpha = 0.05\n",
    "        z_statistic = stats.norm.ppf(1 - (alpha / 2))\n",
    "        desired_var = np.square(desired_ci / z_statistic)\n",
    "\n",
    "        numerator = 0\n",
    "        for (i, group), multip_h in zip(df.groupby('bin'), multipliers):\n",
    "            # approximation when the groups are very large\n",
    "            numerator += np.square(len(group) / len(df)) * (group['toxic'].var() / multip_h)\n",
    "\n",
    "        minimum = numerator / desired_var\n",
    "        \n",
    "        if allocation == 'pilot':\n",
    "            n = np.sum([max(minimum * multip, pilot_size) for multip in multipliers])\n",
    "        else:\n",
    "            n = np.sum([minimum * multip for multip in multipliers])\n",
    "        print(int(n+1), end=',')\n",
    "        results.append(int(n+1))\n",
    "    print()\n",
    "    return results"
   ]
  },
  {
   "cell_type": "code",
   "execution_count": 27,
   "id": "babf717e",
   "metadata": {},
   "outputs": [
    {
     "data": {
      "text/plain": [
       "0.0012726332999243315"
      ]
     },
     "execution_count": 27,
     "metadata": {},
     "output_type": "execute_result"
    }
   ],
   "source": [
    "bins = oracle_bins(df, depth = int(2 / 2))\n",
    "df['bin'] = pd.qcut(df[score_column], bins)\n",
    "get_error(df)"
   ]
  },
  {
   "cell_type": "code",
   "execution_count": 28,
   "id": "4675ba54",
   "metadata": {},
   "outputs": [
    {
     "data": {
      "text/plain": [
       "0.0012722946490513034"
      ]
     },
     "execution_count": 28,
     "metadata": {},
     "output_type": "execute_result"
    }
   ],
   "source": [
    "df['bin'] = pd.cut(df['scores'], np.linspace(0, 1, num=2+1), include_lowest=True)\n",
    "get_error(df)"
   ]
  },
  {
   "cell_type": "code",
   "execution_count": 29,
   "id": "8aaaafd2",
   "metadata": {},
   "outputs": [],
   "source": [
    "def calculate_many(binning, alloc, within, pilot_size=50, trials=30):\n",
    "    results = []\n",
    "    for i in range(0, trials):\n",
    "        results.append(calculate(binning, alloc, within, pilot_size=pilot_size))\n",
    "    results = np.array(results)\n",
    "    results = np.mean(results, axis=0)\n",
    "    return results"
   ]
  },
  {
   "cell_type": "code",
   "execution_count": 30,
   "id": "ff9b19a1",
   "metadata": {},
   "outputs": [
    {
     "name": "stdout",
     "output_type": "stream",
     "text": [
      "searched,optimal,545,380,380,352,352,352,352,347,\n",
      "eqwidth,optimal,545,505,488,477,469,462,457,453,\n",
      "quantile,optimal,833,518,430,394,373,360,352,346,\n",
      "quantile,optimal,833,518,430,394,373,360,352,346,\n",
      "quantile,pilot,1018,698,593,552,613,681,765,840,\n",
      "quantile,pilot,1018,716,621,562,614,675,754,848,\n",
      "quantile,pilot,1037,700,573,572,622,675,761,830,\n",
      "quantile,pilot,981,728,595,552,616,682,768,837,\n",
      "quantile,pilot,973,657,588,551,622,681,756,845,\n",
      "quantile,pilot,1018,691,570,560,673,689,779,844,\n",
      "quantile,pilot,981,682,578,551,616,688,753,844,\n",
      "quantile,pilot,1037,670,617,567,625,683,762,832,\n",
      "quantile,pilot,1062,647,588,566,609,677,760,849,\n",
      "quantile,pilot,1096,707,593,555,615,693,764,836,\n",
      "quantile,pilot,1062,670,581,580,625,685,768,834,\n",
      "quantile,pilot,1148,665,584,566,608,678,766,837,\n",
      "quantile,pilot,991,690,602,555,609,680,760,838,\n",
      "quantile,pilot,1096,744,590,555,611,681,759,849,\n",
      "quantile,pilot,1037,742,589,575,607,672,754,842,\n",
      "quantile,pilot,1018,682,585,608,610,683,751,841,\n",
      "quantile,pilot,1018,654,588,575,614,681,757,839,\n",
      "quantile,pilot,1062,682,586,555,620,701,761,824,\n",
      "quantile,pilot,1018,726,593,562,610,677,767,839,\n",
      "quantile,pilot,1062,780,608,552,622,678,759,848,\n",
      "quantile,pilot,1018,712,622,555,612,700,747,841,\n",
      "quantile,pilot,1037,690,589,576,617,679,764,847,\n",
      "quantile,pilot,1096,654,576,553,619,683,759,851,\n",
      "quantile,pilot,1018,797,602,632,621,686,778,838,\n",
      "quantile,pilot,1062,676,573,552,608,679,754,853,\n",
      "quantile,pilot,1037,665,578,555,620,681,758,842,\n",
      "quantile,pilot,1062,691,576,552,621,687,756,835,\n",
      "quantile,pilot,1148,675,590,569,621,680,759,845,\n",
      "quantile,pilot,966,712,595,565,615,682,775,843,\n",
      "quantile,pilot,1148,665,598,560,614,686,762,834,\n",
      "quantile,equal,1438,1269,1138,1048,985,941,910,888,\n",
      "quantile,optimal,833,518,430,394,373,360,352,346,\n",
      "quantile,pilot,1182,901,780,749,685,668,730,645,\n",
      "quantile,pilot,1182,1269,806,731,772,731,736,751,\n",
      "quantile,pilot,1146,901,795,725,736,735,680,644,\n",
      "quantile,pilot,1255,879,780,725,714,683,671,736,\n",
      "quantile,pilot,1146,879,846,786,701,681,697,627,\n",
      "quantile,pilot,1438,1269,786,749,700,746,664,707,\n",
      "quantile,pilot,1255,1038,1138,749,700,723,766,710,\n",
      "quantile,pilot,1255,947,806,744,700,687,683,663,\n",
      "quantile,pilot,1255,1005,795,731,732,680,682,661,\n",
      "quantile,pilot,1255,1038,950,749,714,747,674,649,\n",
      "quantile,pilot,1128,879,795,744,732,719,673,662,\n",
      "quantile,pilot,1438,879,786,731,728,675,666,654,\n",
      "quantile,pilot,1438,872,806,765,716,731,739,668,\n",
      "quantile,pilot,1182,947,786,749,781,713,766,680,\n",
      "quantile,pilot,1255,953,861,731,689,667,693,720,\n",
      "quantile,pilot,1255,901,786,800,736,747,683,767,\n",
      "quantile,pilot,1255,901,780,725,689,676,823,675,\n",
      "quantile,pilot,1146,901,846,744,724,769,696,736,\n",
      "quantile,pilot,1438,947,806,765,695,687,665,630,\n",
      "quantile,pilot,1255,1269,795,800,758,667,754,643,\n",
      "quantile,pilot,1255,901,780,744,700,699,668,664,\n",
      "quantile,pilot,1255,901,786,821,733,731,755,645,\n",
      "quantile,pilot,1182,947,788,786,744,769,755,662,\n",
      "quantile,pilot,1255,947,786,749,742,731,727,635,\n",
      "quantile,pilot,1255,879,780,749,700,755,674,665,\n",
      "quantile,pilot,1438,901,978,744,689,667,751,661,\n",
      "quantile,pilot,1182,1038,806,749,773,658,677,664,\n",
      "quantile,pilot,1255,901,846,800,749,679,713,672,\n",
      "quantile,pilot,1182,901,816,786,700,735,683,664,\n",
      "quantile,pilot,1255,901,780,723,744,699,712,672,\n",
      "quantile,pilot,1018,670,591,552,609,691,752,839,\n",
      "quantile,pilot,981,675,588,570,612,690,768,835,\n",
      "quantile,pilot,1096,759,628,569,626,691,751,840,\n",
      "quantile,pilot,1003,719,605,580,612,678,762,847,\n",
      "quantile,pilot,1003,676,610,555,616,683,750,832,\n",
      "quantile,pilot,1062,759,618,572,619,692,754,843,\n",
      "quantile,pilot,1241,682,614,555,620,685,801,835,\n",
      "quantile,pilot,991,657,599,591,614,691,770,839,\n",
      "quantile,pilot,981,700,617,586,625,676,764,835,\n",
      "quantile,pilot,981,703,579,552,614,681,756,837,\n",
      "quantile,pilot,973,724,605,555,618,682,775,853,\n",
      "quantile,pilot,1062,682,630,559,612,692,750,846,\n",
      "quantile,pilot,1062,690,640,555,604,678,750,834,\n",
      "quantile,pilot,1003,780,616,572,621,686,759,846,\n",
      "quantile,pilot,1148,675,608,552,608,689,760,843,\n",
      "quantile,pilot,1096,690,596,596,616,698,755,834,\n",
      "quantile,pilot,1018,700,579,555,608,678,757,833,\n",
      "quantile,pilot,991,657,576,551,614,688,754,848,\n",
      "quantile,pilot,1148,665,593,562,609,677,758,836,\n",
      "quantile,pilot,1003,709,602,558,612,700,750,850,\n",
      "quantile,pilot,1062,682,600,570,608,682,755,840,\n",
      "quantile,pilot,966,707,576,570,619,692,753,829,\n",
      "quantile,pilot,1062,698,601,581,614,689,760,848,\n",
      "quantile,pilot,1003,712,578,580,608,685,758,840,\n",
      "quantile,pilot,1018,690,573,555,617,679,748,838,\n",
      "quantile,pilot,1108,672,581,561,608,683,763,841,\n",
      "quantile,pilot,1096,657,584,551,608,678,761,835,\n",
      "quantile,pilot,1241,657,595,563,608,684,767,850,\n",
      "quantile,pilot,1018,690,574,555,611,697,762,841,\n",
      "quantile,pilot,1062,691,578,571,618,679,759,838,\n",
      "quantile,pilot,1018,657,733,873,1040,1218,1401,1601,\n",
      "quantile,pilot,940,657,739,866,1040,1235,1402,1601,\n",
      "quantile,pilot,960,672,738,873,1032,1223,1401,1601,\n",
      "quantile,pilot,952,664,744,864,1041,1207,1401,1601,\n",
      "quantile,pilot,970,665,740,868,1049,1221,1401,1601,\n",
      "quantile,pilot,1009,660,732,879,1033,1209,1401,1601,\n",
      "quantile,pilot,940,663,727,860,1038,1211,1401,1601,\n",
      "quantile,pilot,952,656,750,889,1050,1211,1401,1601,\n",
      "quantile,pilot,970,657,748,885,1044,1207,1401,1601,\n",
      "quantile,pilot,970,659,751,900,1041,1218,1401,1601,\n",
      "quantile,pilot,960,664,729,889,1037,1212,1401,1601,\n",
      "quantile,pilot,946,675,773,873,1047,1220,1401,1601,\n",
      "quantile,pilot,952,666,767,867,1040,1223,1401,1601,\n",
      "quantile,pilot,929,674,723,878,1034,1215,1401,1601,\n",
      "quantile,pilot,905,662,727,911,1044,1212,1401,1601,\n",
      "quantile,pilot,1148,663,733,885,1035,1207,1401,1601,\n",
      "quantile,pilot,970,663,734,868,1038,1205,1401,1601,\n",
      "quantile,pilot,970,684,740,874,1053,1227,1401,1601,\n",
      "quantile,pilot,940,658,739,865,1028,1217,1401,1601,\n",
      "quantile,pilot,1009,672,736,903,1043,1204,1401,1601,\n",
      "quantile,pilot,952,659,731,860,1028,1213,1401,1601,\n",
      "quantile,pilot,952,662,732,869,1034,1206,1401,1601,\n",
      "quantile,pilot,940,683,728,867,1032,1213,1401,1601,\n",
      "quantile,pilot,970,658,736,897,1032,1226,1401,1601,\n",
      "quantile,pilot,1029,664,729,885,1033,1210,1401,1601,\n",
      "quantile,pilot,946,661,744,868,1030,1211,1401,1601,\n",
      "quantile,pilot,970,659,729,875,1053,1215,1401,1601,\n",
      "quantile,pilot,946,659,775,895,1031,1212,1401,1601,\n",
      "quantile,pilot,1010,657,723,870,1028,1221,1401,1601,\n",
      "quantile,pilot,980,660,767,872,1052,1219,1401,1601,\n"
     ]
    }
   ],
   "source": [
    "results1 = calculate('searched', 'optimal', 0.2)\n",
    "results2 = calculate('eqwidth', 'optimal', 0.2)\n",
    "results3 = calculate('quantile', 'optimal', 0.2)\n",
    "\n",
    "results4 = calculate('quantile', 'optimal', 0.2)\n",
    "results5 = calculate_many('quantile', 'pilot', 0.2, pilot_size=50)\n",
    "results6 = calculate('quantile', 'equal', 0.2)\n",
    "\n",
    "results7 = calculate('quantile', 'optimal', 0.2)\n",
    "results8 = calculate_many('quantile', 'pilot', 0.2, pilot_size=10)\n",
    "results9 = calculate_many('quantile', 'pilot', 0.2, pilot_size=50)\n",
    "results10 = calculate_many('quantile', 'pilot', 0.2, pilot_size=100)"
   ]
  },
  {
   "cell_type": "code",
   "execution_count": 31,
   "id": "eaa25c7f",
   "metadata": {},
   "outputs": [
    {
     "name": "stdout",
     "output_type": "stream",
     "text": [
      "binning,allocation,2,4,6,8,10,12,14,16\n",
      "binning,allocation,2,4,6,8,10,12,14,16\n",
      "binning,allocation,2,4,6,8,10,12,14,16\n"
     ]
    },
    {
     "data": {
      "image/png": "[encoded data removed]",
      "text/plain": [
       "<Figure size 629x180 with 3 Axes>"
      ]
     },
     "metadata": {},
     "output_type": "display_data"
    }
   ],
   "source": [
    "fig, ax = plt.subplots(1, 3, figsize=(6.29,1.8), sharey=False)\n",
    "fig.tight_layout()\n",
    "\n",
    "# plot 1\n",
    "\n",
    "print('binning,allocation,%s' % ','.join([ str(i) for i in range(2,18,2) ]))\n",
    "ax[0].set_title('Binning (w/ optimal alloc.)')\n",
    "\n",
    "sns.lineplot(x=list(range(2,18,2)), y=results1, ax=ax[0], label='oracle')\n",
    "sns.lineplot(x=list(range(2,18,2)), y=results2, ax=ax[0], label='eqwidth')\n",
    "sns.lineplot(x=list(range(2,18,2)), y=results3, ax=ax[0], label='quantile')\n",
    "\n",
    "print('binning,allocation,%s' % ','.join([ str(i) for i in range(2,18,2) ]))\n",
    "ax[1].set_title('Allocation (w/ quantile bins)')\n",
    "\n",
    "sns.lineplot(x=list(range(2,18,2)), y=results4, ax=ax[1], label='optimal')\n",
    "sns.lineplot(x=list(range(2,18,2)), y=results5, ax=ax[1], label='pilot:50')\n",
    "sns.lineplot(x=list(range(2,18,2)), y=results6, ax=ax[1], label='equal')\n",
    "\n",
    "\n",
    "print('binning,allocation,%s' % ','.join([ str(i) for i in range(2,18,2) ]))\n",
    "ax[2].set_title('Pilot samples (w/ quantile bins)')\n",
    "\n",
    "sns.lineplot(x=list(range(2,18,2)), y=results7, ax=ax[2], label='optimal')\n",
    "sns.lineplot(x=list(range(2,18,2)), y=results8, ax=ax[2], label='pilot:10')\n",
    "sns.lineplot(x=list(range(2,18,2)), y=results9, ax=ax[2], label='pilot:50')\n",
    "sns.lineplot(x=list(range(2,18,2)), y=results10, ax=ax[2], label='pilot:100')\n",
    "\n",
    "\n",
    "ax[0].axhline(1532, linestyle='--', color='gray')\n",
    "ax[1].axhline(1532, linestyle='--', color='gray')\n",
    "ax[2].axhline(1532, linestyle='--', color='gray')\n",
    "ax[0].set_xticks(range(2,17,2))\n",
    "ax[1].set_xticks(range(2,17,2))\n",
    "ax[2].set_xticks(range(2,17,2))\n",
    "\n",
    "\n",
    "fig.text(0.5, -0.03, 'Number of strata', ha='center', size=8)\n",
    "fig.text(-0.02, 0.5, '# of samples required', va='center', rotation='vertical', size=8)\n",
    "plt.savefig('civilcomments_binning_allocation.pdf', bbox_inches='tight')"
   ]
  },
  {
   "cell_type": "code",
   "execution_count": null,
   "id": "a10d2231",
   "metadata": {},
   "outputs": [],
   "source": []
  }
 ],
 "metadata": {
  "kernelspec": {
   "display_name": "Python 3 (ipykernel)",
   "language": "python",
   "name": "python3"
  },
  "language_info": {
   "codemirror_mode": {
    "name": "ipython",
    "version": 3
   },
   "file_extension": ".py",
   "mimetype": "text/x-python",
   "name": "python",
   "nbconvert_exporter": "python",
   "pygments_lexer": "ipython3",
   "version": "3.8.13"
  }
 },
 "nbformat": 4,
 "nbformat_minor": 5
}
