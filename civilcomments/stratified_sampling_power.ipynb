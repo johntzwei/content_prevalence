{
 "cells": [
  {
   "cell_type": "code",
   "execution_count": 1,
   "id": "de6302fb",
   "metadata": {},
   "outputs": [],
   "source": [
    "import numpy as np\n",
    "import pandas as pd\n",
    "import seaborn as sns\n",
    "from scipy import stats\n",
    "import datasets\n",
    "from tqdm.notebook import tqdm\n",
    "\n",
    "import utils"
   ]
  },
  {
   "cell_type": "code",
   "execution_count": 2,
   "id": "a6c79ce9",
   "metadata": {},
   "outputs": [
    {
     "name": "stderr",
     "output_type": "stream",
     "text": [
      "Found cached dataset parquet (/home/johnny/.cache/huggingface/datasets/parquet/civil_comments-e92c9358c47debf9/0.0.0/14a00e99c0d15a23649d0db8944380ac81082d4b021f398733dd84f3a6c569a7)\n"
     ]
    },
    {
     "data": {
      "application/vnd.jupyter.widget-view+json": {
       "model_id": "1154eaec124046499dbec57b954ce10d",
       "version_major": 2,
       "version_minor": 0
      },
      "text/plain": [
       "  0%|          | 0/3 [00:00<?, ?it/s]"
      ]
     },
     "metadata": {},
     "output_type": "display_data"
    },
    {
     "name": "stderr",
     "output_type": "stream",
     "text": [
      "Loading cached shuffled indices for dataset at /home/johnny/.cache/huggingface/datasets/parquet/civil_comments-e92c9358c47debf9/0.0.0/14a00e99c0d15a23649d0db8944380ac81082d4b021f398733dd84f3a6c569a7/cache-26324163aea91a3b.arrow\n",
      "Loading cached processed dataset at /home/johnny/.cache/huggingface/datasets/parquet/civil_comments-e92c9358c47debf9/0.0.0/14a00e99c0d15a23649d0db8944380ac81082d4b021f398733dd84f3a6c569a7/cache-392dd59de6b13b83.arrow\n",
      "Loading cached processed dataset at /home/johnny/.cache/huggingface/datasets/parquet/civil_comments-e92c9358c47debf9/0.0.0/14a00e99c0d15a23649d0db8944380ac81082d4b021f398733dd84f3a6c569a7/cache-2bef193312149c10.arrow\n"
     ]
    }
   ],
   "source": [
    "train_ds, valid_ds, test_ds = utils.load_dataset()"
   ]
  },
  {
   "cell_type": "code",
   "execution_count": 19,
   "id": "e8d8c28c",
   "metadata": {},
   "outputs": [],
   "source": [
    "score_npy = 'scores/roberta_balanced.npy'\n",
    "score_column = 'scores'\n",
    "\n",
    "bins = 8\n",
    "cut = 'oracle'\n",
    "allocation = 'optimal'\n",
    "pilot_size = 50"
   ]
  },
  {
   "cell_type": "code",
   "execution_count": 20,
   "id": "5afea81e",
   "metadata": {},
   "outputs": [],
   "source": [
    "labels = test_ds['toxicity']\n",
    "scores = np.load(score_npy)\n",
    "df = pd.DataFrame(data={'toxicity' : labels, 'toxic' : test_ds['label'], 'scores' : scores})"
   ]
  },
  {
   "cell_type": "code",
   "execution_count": 21,
   "id": "ea135fa4",
   "metadata": {},
   "outputs": [
    {
     "data": {
      "text/html": [
       "<div>\n",
       "<style scoped>\n",
       "    .dataframe tbody tr th:only-of-type {\n",
       "        vertical-align: middle;\n",
       "    }\n",
       "\n",
       "    .dataframe tbody tr th {\n",
       "        vertical-align: top;\n",
       "    }\n",
       "\n",
       "    .dataframe thead th {\n",
       "        text-align: right;\n",
       "    }\n",
       "</style>\n",
       "<table border=\"1\" class=\"dataframe\">\n",
       "  <thead>\n",
       "    <tr style=\"text-align: right;\">\n",
       "      <th></th>\n",
       "      <th>toxicity</th>\n",
       "      <th>toxic</th>\n",
       "      <th>scores</th>\n",
       "    </tr>\n",
       "  </thead>\n",
       "  <tbody>\n",
       "    <tr>\n",
       "      <th>0</th>\n",
       "      <td>0.4</td>\n",
       "      <td>0</td>\n",
       "      <td>0.27451</td>\n",
       "    </tr>\n",
       "  </tbody>\n",
       "</table>\n",
       "</div>"
      ],
      "text/plain": [
       "   toxicity  toxic   scores\n",
       "0       0.4      0  0.27451"
      ]
     },
     "execution_count": 21,
     "metadata": {},
     "output_type": "execute_result"
    }
   ],
   "source": [
    "df.head(1)"
   ]
  },
  {
   "cell_type": "code",
   "execution_count": 22,
   "id": "4769fb03",
   "metadata": {},
   "outputs": [
    {
     "data": {
      "text/plain": [
       "(100601, 0.059007879761202295)"
      ]
     },
     "execution_count": 22,
     "metadata": {},
     "output_type": "execute_result"
    }
   ],
   "source": [
    "df['toxic'].sum(), df['toxic'].mean()"
   ]
  },
  {
   "cell_type": "code",
   "execution_count": 23,
   "id": "d37b96aa",
   "metadata": {},
   "outputs": [],
   "source": [
    "size = 12192"
   ]
  },
  {
   "cell_type": "code",
   "execution_count": 24,
   "id": "35fde490",
   "metadata": {},
   "outputs": [
    {
     "data": {
      "text/plain": [
       "0.0021340791433234136"
      ]
     },
     "execution_count": 24,
     "metadata": {},
     "output_type": "execute_result"
    }
   ],
   "source": [
    "p = df['toxic'].mean()\n",
    "random_sampling_var = p * (1 - p)\n",
    "np.sqrt(random_sampling_var / size)"
   ]
  },
  {
   "cell_type": "markdown",
   "id": "1db15637",
   "metadata": {},
   "source": [
    "### Cutting"
   ]
  },
  {
   "cell_type": "code",
   "execution_count": 25,
   "id": "83157ddf",
   "metadata": {},
   "outputs": [],
   "source": [
    "def get_error(df):\n",
    "    sizes_sigmas = []\n",
    "    for i, group in df.groupby('bin'):\n",
    "        # to round up to 1\n",
    "        pilot = group['toxic']\n",
    "        sizes_sigmas.append((len(group), np.std(pilot)))\n",
    "\n",
    "    allocations = []\n",
    "    denominator = np.sum([ n_h * sigma_h for n_h, sigma_h in sizes_sigmas ])\n",
    "    for n_h, sigma_h in sizes_sigmas:\n",
    "        n_from_bin = size * n_h * sigma_h / denominator\n",
    "        allocations.append(n_from_bin)\n",
    "    \n",
    "    stratified_var = 0\n",
    "    for (i, group), n_from_bin in zip(df.groupby('bin'), allocations):\n",
    "\n",
    "        p = group['toxic'].mean()\n",
    "\n",
    "        # approximation when the groups are very large\n",
    "        stratified_var += np.square(len(group) / len(df)) * (group['toxic'].var() / n_from_bin)\n",
    "    return np.sqrt(stratified_var)"
   ]
  },
  {
   "cell_type": "code",
   "execution_count": 26,
   "id": "cf7ebb20",
   "metadata": {},
   "outputs": [],
   "source": [
    "def oracle_bins(df, depth=4):\n",
    "    minimum_bins = [0, 1]\n",
    "    minimum_err = 1\n",
    "    steps = 10\n",
    "\n",
    "    for level in range(1, depth+1):\n",
    "        if level == 1:\n",
    "            indexes = [1]\n",
    "        else:\n",
    "            indexes = list(range(1, level*2, 2))\n",
    "\n",
    "        for idx in indexes:\n",
    "            bins = minimum_bins.copy()\n",
    "            bins.insert(idx, 0)\n",
    "            lb, ub = bins[idx-1], bins[idx+1]\n",
    "\n",
    "            # print(lb + (ub-lb)/steps, ub)\n",
    "\n",
    "            for i in np.linspace( lb + (ub-lb)/steps, ub, steps, endpoint=False):\n",
    "                bins[idx] = i\n",
    "                df['bin'] = pd.qcut(df[score_column], bins)\n",
    "                new_err = get_error(df)\n",
    "                if new_err < minimum_err:\n",
    "                    minimum_err = new_err\n",
    "                    minimum_bins = bins.copy()\n",
    "\n",
    "    return minimum_bins"
   ]
  },
  {
   "cell_type": "code",
   "execution_count": 27,
   "id": "d208296c",
   "metadata": {},
   "outputs": [],
   "source": [
    "if cut == 'eqwidth':\n",
    "    minimum, maximum = df[score_column].min(), df[score_column].max()\n",
    "    df['bin'] = pd.cut(df[score_column], np.linspace(minimum, maximum, num=bins+1), include_lowest=True)\n",
    "elif cut == 'quantile':\n",
    "    df['bin'] = pd.qcut(df[score_column], np.linspace(0, 1, num=bins+1))\n",
    "elif cut == 'oracle':\n",
    "    depth = int(np.log(bins) / np.log(2))\n",
    "    b = oracle_bins(df, depth = depth)\n",
    "    df['bin'] = pd.qcut(df[score_column], b)"
   ]
  },
  {
   "cell_type": "markdown",
   "id": "14d2a8e3",
   "metadata": {},
   "source": [
    "### Allocation"
   ]
  },
  {
   "cell_type": "code",
   "execution_count": 28,
   "id": "09a4d9e9",
   "metadata": {},
   "outputs": [
    {
     "name": "stdout",
     "output_type": "stream",
     "text": [
      "561297 0.01698628729836822 603.5745903740093\n",
      "459240 0.04348385219212084 1264.1758253849894\n",
      "241574 0.09110459581787501 1393.253806281419\n",
      "135885 0.16667297983866722 1433.760068372575\n",
      "108021 0.27078115469248054 1851.681942246734\n",
      "88381 0.3994797198727792 2235.0817365140215\n",
      "110476 0.4876483834326358 3410.4720308262517\n"
     ]
    }
   ],
   "source": [
    "sizes_sigmas = []\n",
    "for i, group in df.groupby('bin'):\n",
    "    # to round up to 1\n",
    "    if allocation == 'pilot':\n",
    "        pilot = np.array(group['toxic'].sample(pilot_size + 2))\n",
    "        pilot[-1] = 1\n",
    "        pilot[-2] = 0\n",
    "    elif allocation == 'optimal':\n",
    "        pilot = group['toxic']\n",
    "    sizes_sigmas.append((len(group), np.std(pilot)))\n",
    "\n",
    "allocations = []\n",
    "denominator = np.sum([ n_h * sigma_h for n_h, sigma_h in sizes_sigmas ])\n",
    "for n_h, sigma_h in sizes_sigmas:\n",
    "    n_from_bin = size * n_h * sigma_h / denominator\n",
    "    print(n_h, sigma_h, n_from_bin)\n",
    "    allocations.append(n_from_bin)"
   ]
  },
  {
   "cell_type": "code",
   "execution_count": 29,
   "id": "6df1e376",
   "metadata": {},
   "outputs": [
    {
     "data": {
      "text/plain": [
       "[1.0,\n",
       " 2.0944815198426987,\n",
       " 2.3083374093301035,\n",
       " 2.375448024550098,\n",
       " 3.0678593363238273,\n",
       " 3.703074602807645,\n",
       " 5.650456605061735]"
      ]
     },
     "execution_count": 29,
     "metadata": {},
     "output_type": "execute_result"
    }
   ],
   "source": [
    "minimum = np.min(allocations)\n",
    "multipliers = [ i / minimum for i in allocations ]\n",
    "multipliers"
   ]
  },
  {
   "cell_type": "code",
   "execution_count": 30,
   "id": "c0f39e14",
   "metadata": {
    "scrolled": true
   },
   "outputs": [
    {
     "name": "stdout",
     "output_type": "stream",
     "text": [
      "(-0.000352, 0.00113] 561297 603.5745903740093 0.00028861725610505667 0.00028853447023225554\n",
      "(0.00113, 0.00245] 459240 1264.1758253849894 0.0018944342827279853 0.001890849518811215\n",
      "(0.00245, 0.0218] 241574 1393.253806281419 0.008370106054459503 0.008300081737478827\n",
      "(0.0218, 0.483] 135885 1433.760068372575 0.02859771129999632 0.027780086646514306\n",
      "(0.483, 0.965] 108021 1851.681942246734 0.07966969385582433 0.0733231125223155\n",
      "(0.965, 0.99] 88381 2235.0817365140215 0.19930754347653906 0.15958585224754981\n",
      "(0.99, 0.998] 110476 3410.4720308262517 0.6104493283609109 0.23780309839622008\n"
     ]
    },
    {
     "data": {
      "text/plain": [
       "('stderr: ', 0.001023074103405929)"
      ]
     },
     "execution_count": 30,
     "metadata": {},
     "output_type": "execute_result"
    }
   ],
   "source": [
    "stratified_var = 0\n",
    "for (i, group), n_from_bin in zip(df.groupby('bin'), allocations):\n",
    "    print(i, len(group), n_from_bin, group['toxic'].mean(), group['toxic'].var())\n",
    "    \n",
    "    p = group['toxic'].mean()\n",
    "    \n",
    "    # approximation when the groups are very large\n",
    "    stratified_var += np.square(len(group) / len(df)) * (group['toxic'].var() / n_from_bin)\n",
    "'stderr: ', np.sqrt(stratified_var)"
   ]
  },
  {
   "cell_type": "code",
   "execution_count": 31,
   "id": "32a06c5c",
   "metadata": {},
   "outputs": [
    {
     "name": "stdout",
     "output_type": "stream",
     "text": [
      "(-0.000352, 0.00113] 561297 1.0 0.00028861725610505667 0.00028853447023225554\n",
      "(0.00113, 0.00245] 459240 2.0944815198426987 0.0018944342827279853 0.001890849518811215\n",
      "(0.00245, 0.0218] 241574 2.3083374093301035 0.008370106054459503 0.008300081737478827\n",
      "(0.0218, 0.483] 135885 2.375448024550098 0.02859771129999632 0.027780086646514306\n",
      "(0.483, 0.965] 108021 3.0678593363238273 0.07966969385582433 0.0733231125223155\n",
      "(0.965, 0.99] 88381 3.703074602807645 0.19930754347653906 0.15958585224754981\n",
      "(0.99, 0.998] 110476 5.650456605061735 0.6104493283609109 0.23780309839622008\n"
     ]
    }
   ],
   "source": [
    "numerator = 0\n",
    "for (i, group), multip_h in zip(df.groupby('bin'), multipliers):\n",
    "    print(i, len(group), multip_h, group['toxic'].mean(), group['toxic'].var())\n",
    "    \n",
    "    # approximation when the groups are very large\n",
    "    numerator += np.square(len(group) / len(df)) * (group['toxic'].var() / multip_h)"
   ]
  },
  {
   "cell_type": "code",
   "execution_count": 32,
   "id": "dd707f4a",
   "metadata": {},
   "outputs": [
    {
     "name": "stdout",
     "output_type": "stream",
     "text": [
      "0.05897253769515213 353 1410 5639 "
     ]
    }
   ],
   "source": [
    "p = 0.05897253769515213\n",
    "print(p, end=' ')\n",
    "\n",
    "for within in [0.2, 0.1, 0.05]:\n",
    "    desired_ci = p * within\n",
    "\n",
    "    alpha = 0.05\n",
    "    z_statistic = stats.norm.ppf(1 - (alpha / 2))\n",
    "    desired_var = np.square(desired_ci / z_statistic)\n",
    "\n",
    "    minimum = numerator / desired_var\n",
    "    n = np.sum([minimum * multip for multip in multipliers])\n",
    "    print(int(n+1), end=' ')"
   ]
  },
  {
   "cell_type": "code",
   "execution_count": 17,
   "id": "50be7333",
   "metadata": {},
   "outputs": [],
   "source": [
    "cached_groupby = list(df.groupby('bin'))"
   ]
  },
  {
   "cell_type": "code",
   "execution_count": 18,
   "id": "6c8b1346",
   "metadata": {
    "scrolled": false
   },
   "outputs": [
    {
     "name": "stdout",
     "output_type": "stream",
     "text": [
      "0.05897253769515213 "
     ]
    },
    {
     "data": {
      "application/vnd.jupyter.widget-view+json": {
       "model_id": "faa3baf5cd9f42b8887faba2b84c66a3",
       "version_major": 2,
       "version_minor": 0
      },
      "text/plain": [
       "  0%|          | 0/1000 [00:00<?, ?it/s]"
      ]
     },
     "metadata": {},
     "output_type": "display_data"
    },
    {
     "name": "stdout",
     "output_type": "stream",
     "text": [
      "568 16.358317385958472 "
     ]
    },
    {
     "data": {
      "application/vnd.jupyter.widget-view+json": {
       "model_id": "8e008e2658ee4787ae82b506e21ea440",
       "version_major": 2,
       "version_minor": 0
      },
      "text/plain": [
       "  0%|          | 0/1000 [00:00<?, ?it/s]"
      ]
     },
     "metadata": {},
     "output_type": "display_data"
    },
    {
     "name": "stdout",
     "output_type": "stream",
     "text": [
      "2214 84.23058874415905 "
     ]
    },
    {
     "data": {
      "application/vnd.jupyter.widget-view+json": {
       "model_id": "70ef234b029149668a24ceb8dac3c602",
       "version_major": 2,
       "version_minor": 0
      },
      "text/plain": [
       "  0%|          | 0/1000 [00:00<?, ?it/s]"
      ]
     },
     "metadata": {},
     "output_type": "display_data"
    },
    {
     "name": "stdout",
     "output_type": "stream",
     "text": [
      "8847 342.87277060978835 "
     ]
    }
   ],
   "source": [
    "p = 0.05897253769515213\n",
    "print(p, end=' ')\n",
    "\n",
    "for within in [0.2, 0.1, 0.05]:\n",
    "    ns = []\n",
    "    for i in tqdm(range(0, 1000)):\n",
    "        sizes_sigmas = []\n",
    "        for i, group in cached_groupby:\n",
    "            # to round up to 1\n",
    "            pilot = np.array(group['toxic'].sample(pilot_size+1))\n",
    "            pilot[-1] = 1\n",
    "\n",
    "            sizes_sigmas.append((len(group), np.std(pilot)))\n",
    "\n",
    "        allocations = []\n",
    "        denominator = np.sum([ n_h * sigma_h for n_h, sigma_h in sizes_sigmas ])\n",
    "        for n_h, sigma_h in sizes_sigmas:\n",
    "            proportion = n_h * sigma_h / denominator\n",
    "            allocations.append(proportion)\n",
    "            \n",
    "        \n",
    "        numerator = 0\n",
    "        for (i, group), multip_h in zip(cached_groupby, allocations):\n",
    "            # approximation when the groups are very large\n",
    "            numerator += np.square(len(group) / len(df)) * (group['toxic'].var() / multip_h)\n",
    "\n",
    "        desired_ci = p * within\n",
    "\n",
    "        alpha = 0.05\n",
    "        z_statistic = stats.norm.ppf(1 - (alpha / 2))\n",
    "        desired_var = np.square(desired_ci / z_statistic)\n",
    "\n",
    "        minimum = numerator / desired_var\n",
    "        l = [minimum * multip for multip in allocations]\n",
    "        l = [ np.max([pilot_size, n]) for n in l ]\n",
    "        n = np.sum(l)\n",
    "        ns.append(n)\n",
    "    print(int(np.mean(ns)+1), np.std(ns), end=' ')"
   ]
  }
 ],
 "metadata": {
  "kernelspec": {
   "display_name": "Python 3 (ipykernel)",
   "language": "python",
   "name": "python3"
  },
  "language_info": {
   "codemirror_mode": {
    "name": "ipython",
    "version": 3
   },
   "file_extension": ".py",
   "mimetype": "text/x-python",
   "name": "python",
   "nbconvert_exporter": "python",
   "pygments_lexer": "ipython3",
   "version": "3.8.13"
  }
 },
 "nbformat": 4,
 "nbformat_minor": 5
}
